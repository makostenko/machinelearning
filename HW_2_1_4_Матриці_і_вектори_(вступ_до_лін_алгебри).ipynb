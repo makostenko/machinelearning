{
  "nbformat": 4,
  "nbformat_minor": 0,
  "metadata": {
    "colab": {
      "provenance": []
    },
    "kernelspec": {
      "name": "python3",
      "display_name": "Python 3"
    },
    "language_info": {
      "name": "python"
    }
  },
  "cells": [
    {
      "cell_type": "markdown",
      "source": [
        "### Завдання 1: Створення матриць та векторів\n",
        "1. Створіть `numpy` вектор `vector` розмірністю 10 з випадковими дійсними значеннями в діапазоні від 0 до 1. Можна скористатись двома альтернативними варіантами:\n",
        "  1. Генерація випадкових чисел з модулем [`random.uniform`](https://docs.python.org/3/library/random.html).\n",
        "  2. Створення вектора з допомогою метода `numpy` [np.random.rand](https://numpy.org/doc/stable/reference/random/generated/numpy.random.rand.html)\n",
        "\n",
        "2. Створіть матрицю `matrix` типу `numpy.array` розмірності 3x3 з наступними значеннями\n",
        "\n",
        "  $$\n",
        "  matrix = \\begin{bmatrix}\n",
        "  11 & 14 & 17 \\\\\n",
        "  20 & 23 & 26 \\\\\n",
        "  29 & 32 & 35\n",
        "  \\end{bmatrix}\n",
        "  $$\n",
        "\n",
        "  будь-яким відомими Вам способом.\n",
        "\n",
        "Виведіть на екран вектор і матрицю, а також їх розміри.\n"
      ],
      "metadata": {
        "id": "efug1V4CM0lT"
      }
    },
    {
      "cell_type": "code",
      "source": [
        "import numpy as np\n",
        "\n",
        "# Створення вектора розмірністю 10 з випадковими значеннями (від 0 до 1)\n",
        "vector = np.random.rand(10)\n",
        "\n",
        "# Створення матриці 3x3\n",
        "matrix = np.array([\n",
        "    [11, 14, 17],\n",
        "    [20, 23, 26],\n",
        "    [29, 32, 35]\n",
        "])\n",
        "\n",
        "# Виведення вектора\n",
        "print(\"Вектор:\")\n",
        "print(vector)\n",
        "print(\"Розмір вектора:\", vector.shape)\n",
        "\n",
        "# Виведення матриці\n",
        "print(\"\\nМатриця:\")\n",
        "print(matrix)\n",
        "print(\"Розмір матриці:\", matrix.shape)"
      ],
      "metadata": {
        "id": "jxA_lG2_VIMe",
        "colab": {
          "base_uri": "https://localhost:8080/"
        },
        "outputId": "bcb651e1-e921-4b13-a61a-b85838dc3fdf"
      },
      "execution_count": 1,
      "outputs": [
        {
          "output_type": "stream",
          "name": "stdout",
          "text": [
            "Вектор:\n",
            "[0.00142606 0.12102818 0.7967991  0.6704842  0.75344533 0.50485197\n",
            " 0.77940177 0.74743697 0.5755339  0.23775346]\n",
            "Розмір вектора: (10,)\n",
            "\n",
            "Матриця:\n",
            "[[11 14 17]\n",
            " [20 23 26]\n",
            " [29 32 35]]\n",
            "Розмір матриці: (3, 3)\n"
          ]
        }
      ]
    },
    {
      "cell_type": "markdown",
      "source": [
        "\n",
        "### Завдання 2: Операції над векторами та матрицями\n",
        "Виконайте кожну з зазначених операцій над зазначеними оʼєктами і виведіть результат на екран:\n",
        "1. Додайте до кожного значення вектора `vector` число 10 і округліть кожне значення до 2 знаків після коми без використання циклів.\n",
        "2. Помножте кожен елемент матриці з першого завдання на 2 без використання циклів.\n",
        "3. Створіть новий вектор, який містить квадрат кожного `vector` без циклів.\n"
      ],
      "metadata": {
        "id": "TSJ1P4OuOVe2"
      }
    },
    {
      "cell_type": "code",
      "source": [
        "vector_plus_10 = np.round(vector + 10, 2)\n",
        "print(\"Вектор + 10 (округлений):\")\n",
        "print(vector_plus_10)"
      ],
      "metadata": {
        "id": "nAAojtyUVJXN",
        "colab": {
          "base_uri": "https://localhost:8080/"
        },
        "outputId": "02ed8803-65cb-4b14-b354-05e93d8c4cd9"
      },
      "execution_count": 2,
      "outputs": [
        {
          "output_type": "stream",
          "name": "stdout",
          "text": [
            "Вектор + 10 (округлений):\n",
            "[10.   10.12 10.8  10.67 10.75 10.5  10.78 10.75 10.58 10.24]\n"
          ]
        }
      ]
    },
    {
      "cell_type": "code",
      "source": [
        "matrix_times_2 = matrix * 2\n",
        "print(\"\\nМатриця × 2:\")\n",
        "print(matrix_times_2)"
      ],
      "metadata": {
        "colab": {
          "base_uri": "https://localhost:8080/"
        },
        "id": "RWHcDpdGnNfp",
        "outputId": "b8672a5d-47e1-4779-8b7f-9b468d84acb9"
      },
      "execution_count": 3,
      "outputs": [
        {
          "output_type": "stream",
          "name": "stdout",
          "text": [
            "\n",
            "Матриця × 2:\n",
            "[[22 28 34]\n",
            " [40 46 52]\n",
            " [58 64 70]]\n"
          ]
        }
      ]
    },
    {
      "cell_type": "code",
      "source": [
        "vector_squared = vector ** 2\n",
        "print(\"\\nВектор у квадраті:\")\n",
        "print(vector_squared)"
      ],
      "metadata": {
        "colab": {
          "base_uri": "https://localhost:8080/"
        },
        "id": "zwYyQWkFnRk1",
        "outputId": "52f3ba85-b2a6-4ff9-fa69-79a9e0492a5e"
      },
      "execution_count": 4,
      "outputs": [
        {
          "output_type": "stream",
          "name": "stdout",
          "text": [
            "\n",
            "Вектор у квадраті:\n",
            "[2.03363606e-06 1.46478201e-02 6.34888805e-01 4.49549064e-01\n",
            " 5.67679863e-01 2.54875509e-01 6.07467116e-01 5.58662029e-01\n",
            " 3.31239266e-01 5.65267076e-02]\n"
          ]
        }
      ]
    },
    {
      "cell_type": "markdown",
      "source": [
        "\n",
        "### Завдання 3: Множення матриць\n",
        "1. Задані дві матриці `A` і `B`розмірностями 3x2 та 2х3. Виконайте їхнє множення, щоб отримати матрицю 2x2. Виведіть результуючу матрицю `result_matrix` на екран.\n",
        "\n",
        "2. Заданий вектор `C` розмірністю 2х1. Подумайте спочатку, яку розмірність Ви отрмаєте, коли домножите `result_matrix` на вектор `C` і який результат буде. А потім виконайте множення і виведіть результат на екран.\n",
        "\n",
        "3. Задана матриця `D` розмірністю 2х2. Подумайте спочатку, яку розмірність Ви отрмаєте, коли домножите `result_matrix` на матрицю `D` і який результат буде. А потім виконайте множення і виведіть результат на екран."
      ],
      "metadata": {
        "id": "u6RvWVfhPy-k"
      }
    },
    {
      "cell_type": "code",
      "source": [
        "A = np.array(\n",
        "    [[0.18, 0.53],\n",
        "     [0.75, 0.47],\n",
        "     [0.35, 0.21]])\n",
        "\n",
        "B = np.array(\n",
        "    [[0.17, 0.58, 0.75],\n",
        "     [0.38, 0.11, 0.15]])\n",
        "\n",
        "C = np.array([[0], [1]])\n",
        "\n",
        "D = np.array([[0,1], [1,0]])\n",
        "\n",
        "display(A, B, C, D)"
      ],
      "metadata": {
        "id": "RwXfPzlbSJ44",
        "colab": {
          "base_uri": "https://localhost:8080/",
          "height": 186
        },
        "outputId": "98573000-0f35-43fd-c07c-daa25aa177cc"
      },
      "execution_count": 5,
      "outputs": [
        {
          "output_type": "display_data",
          "data": {
            "text/plain": [
              "array([[0.18, 0.53],\n",
              "       [0.75, 0.47],\n",
              "       [0.35, 0.21]])"
            ]
          },
          "metadata": {}
        },
        {
          "output_type": "display_data",
          "data": {
            "text/plain": [
              "array([[0.17, 0.58, 0.75],\n",
              "       [0.38, 0.11, 0.15]])"
            ]
          },
          "metadata": {}
        },
        {
          "output_type": "display_data",
          "data": {
            "text/plain": [
              "array([[0],\n",
              "       [1]])"
            ]
          },
          "metadata": {}
        },
        {
          "output_type": "display_data",
          "data": {
            "text/plain": [
              "array([[0, 1],\n",
              "       [1, 0]])"
            ]
          },
          "metadata": {}
        }
      ]
    },
    {
      "cell_type": "code",
      "source": [
        "A = np.array([\n",
        "    [0.18, 0.53],\n",
        "    [0.75, 0.47],\n",
        "    [0.35, 0.21]\n",
        "])\n",
        "\n",
        "B = np.array([\n",
        "    [0.17, 0.58, 0.75],\n",
        "    [0.38, 0.11, 0.15]\n",
        "])\n",
        "\n",
        "C = np.array([[0], [1]])  # 2×1\n",
        "D = np.array([[0, 1], [1, 0]])  # 2×2\n",
        "\n",
        "# Множення A · B\n",
        "result_matrix = np.dot(A, B)  # буде 3×3\n",
        "print(\"Результат A · B (3×3):\\n\", result_matrix)"
      ],
      "metadata": {
        "id": "z7-boTbhVKkj",
        "colab": {
          "base_uri": "https://localhost:8080/"
        },
        "outputId": "778d00d7-9a09-4430-b59d-682237030c25"
      },
      "execution_count": 8,
      "outputs": [
        {
          "output_type": "stream",
          "name": "stdout",
          "text": [
            "Результат A · B (3×3):\n",
            " [[0.232  0.1627 0.2145]\n",
            " [0.3061 0.4867 0.633 ]\n",
            " [0.1393 0.2261 0.294 ]]\n"
          ]
        }
      ]
    },
    {
      "cell_type": "code",
      "source": [
        "# Нова матриця A: (2×3), нова B: (3×2)\n",
        "A2 = np.array([\n",
        "    [0.2, 0.4, 0.6],\n",
        "    [0.1, 0.3, 0.5]\n",
        "])  # 2×3\n",
        "\n",
        "B2 = np.array([\n",
        "    [1, 2],\n",
        "    [3, 4],\n",
        "    [5, 6]\n",
        "])  # 3×2\n",
        "\n",
        "# A2 (2×3) · B2 (3×2) → result_matrix (2×2)\n",
        "result_matrix = np.dot(A2, B2)\n",
        "print(\"\\nМатричне множення A2 · B2 (2×2):\\n\", result_matrix)\n"
      ],
      "metadata": {
        "colab": {
          "base_uri": "https://localhost:8080/"
        },
        "id": "uNT_Ut2Dnuw0",
        "outputId": "726ef427-9461-4059-9ac2-28c55da71d25"
      },
      "execution_count": 9,
      "outputs": [
        {
          "output_type": "stream",
          "name": "stdout",
          "text": [
            "\n",
            "Матричне множення A2 · B2 (2×2):\n",
            " [[4.4 5.6]\n",
            " [3.5 4.4]]\n"
          ]
        }
      ]
    },
    {
      "cell_type": "code",
      "source": [
        "result_C = np.dot(result_matrix, C)  # → 2×1\n",
        "print(\"\\nРезультат result_matrix · C (2×1):\\n\", result_C)\n"
      ],
      "metadata": {
        "colab": {
          "base_uri": "https://localhost:8080/"
        },
        "id": "zHzohzKQnw0S",
        "outputId": "7d35fbcc-6925-441b-aac6-15373a9b8220"
      },
      "execution_count": 10,
      "outputs": [
        {
          "output_type": "stream",
          "name": "stdout",
          "text": [
            "\n",
            "Результат result_matrix · C (2×1):\n",
            " [[5.6]\n",
            " [4.4]]\n"
          ]
        }
      ]
    },
    {
      "cell_type": "markdown",
      "source": [
        "Множення (2×2) × (2×1) → вектор 2×1\n",
        "Множення (2×2) × (2×2) → матриця 2×2\n",
        "Матрицю D можна розглядати як оператор перестановки стовпців (swaps columns)\n"
      ],
      "metadata": {
        "id": "y6BqGrmen0HQ"
      }
    },
    {
      "cell_type": "markdown",
      "source": [
        "\n",
        "### Завдання 4: Транспонування матриць\n",
        "1. Транспонуйте `result_matrix`.\n",
        "2. Зробіть транспонування вектора `vector` і виведіть форму нової структури. Чи бачите ви зміну?\n",
        "3. Використайте операцію `numpy.expand_dims` над вектором `vector` з аргументом axis=1. Запишіть отриманий результат в змінну `column_vector` і виведіть на екран. Порівняйте з `vector`.\n",
        "4. Зробіть транспонування `column_vector`, виведіть результат на екран разом з розмірностями отриманої структури.\n",
        "\n",
        "\n"
      ],
      "metadata": {
        "id": "wohp0_cxSGpl"
      }
    },
    {
      "cell_type": "code",
      "source": [
        "# Створимо вектор 1D\n",
        "vector = np.random.rand(10)\n",
        "print(\"\\nОригінальний вектор:\\n\", vector)\n",
        "print(\"Форма вектора:\", vector.shape)\n",
        "\n",
        "# Транспонування — але для 1D numpy-масиву результат не зміниться\n",
        "vector_T = vector.T\n",
        "print(\"Транспонований вектор (1D):\\n\", vector_T)\n",
        "print(\"Форма після транспонування:\", vector_T.shape)"
      ],
      "metadata": {
        "id": "4hFcq1baVLii",
        "colab": {
          "base_uri": "https://localhost:8080/"
        },
        "outputId": "daf9037e-6983-4f3e-db2a-3c2fee10f43b"
      },
      "execution_count": 12,
      "outputs": [
        {
          "output_type": "stream",
          "name": "stdout",
          "text": [
            "\n",
            "Оригінальний вектор:\n",
            " [0.91101096 0.39118047 0.89805332 0.80436205 0.84800927 0.42706827\n",
            " 0.6623547  0.13724233 0.95524646 0.6595607 ]\n",
            "Форма вектора: (10,)\n",
            "Транспонований вектор (1D):\n",
            " [0.91101096 0.39118047 0.89805332 0.80436205 0.84800927 0.42706827\n",
            " 0.6623547  0.13724233 0.95524646 0.6595607 ]\n",
            "Форма після транспонування: (10,)\n"
          ]
        }
      ]
    },
    {
      "cell_type": "markdown",
      "source": [
        "Спостереження: для одновимірного вектора shape не змінюється при транспонуванні — np.transpose() або .T не впливає на shape, поки вектор не має двох осей."
      ],
      "metadata": {
        "id": "7oLfyCn2oAjW"
      }
    },
    {
      "cell_type": "code",
      "source": [
        "# Розширення до 2D вектора: колонка (10×1)\n",
        "column_vector = np.expand_dims(vector, axis=1)\n",
        "print(\"\\nСтовпцевий вектор (column_vector):\\n\", column_vector)\n",
        "print(\"Форма column_vector:\", column_vector.shape)\n"
      ],
      "metadata": {
        "id": "5i4erdfWoCSg",
        "outputId": "7466eb92-cc1a-4f77-8d44-30f26a6758dd",
        "colab": {
          "base_uri": "https://localhost:8080/"
        }
      },
      "execution_count": 13,
      "outputs": [
        {
          "output_type": "stream",
          "name": "stdout",
          "text": [
            "\n",
            "Стовпцевий вектор (column_vector):\n",
            " [[0.91101096]\n",
            " [0.39118047]\n",
            " [0.89805332]\n",
            " [0.80436205]\n",
            " [0.84800927]\n",
            " [0.42706827]\n",
            " [0.6623547 ]\n",
            " [0.13724233]\n",
            " [0.95524646]\n",
            " [0.6595607 ]]\n",
            "Форма column_vector: (10, 1)\n"
          ]
        }
      ]
    },
    {
      "cell_type": "code",
      "source": [
        "column_vector_T = column_vector.T\n",
        "print(\"\\nТранспонований стовпцевий вектор:\\n\", column_vector_T)\n",
        "print(\"Форма:\", column_vector_T.shape)\n"
      ],
      "metadata": {
        "id": "tsRc_NE7oEy8",
        "outputId": "d668a067-9583-4205-bdc5-d15c425239f5",
        "colab": {
          "base_uri": "https://localhost:8080/"
        }
      },
      "execution_count": 14,
      "outputs": [
        {
          "output_type": "stream",
          "name": "stdout",
          "text": [
            "\n",
            "Транспонований стовпцевий вектор:\n",
            " [[0.91101096 0.39118047 0.89805332 0.80436205 0.84800927 0.42706827\n",
            "  0.6623547  0.13724233 0.95524646 0.6595607 ]]\n",
            "Форма: (1, 10)\n"
          ]
        }
      ]
    }
  ]
}