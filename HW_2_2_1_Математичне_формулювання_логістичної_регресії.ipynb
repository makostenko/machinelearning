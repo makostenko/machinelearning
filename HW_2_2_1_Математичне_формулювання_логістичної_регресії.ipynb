{
  "nbformat": 4,
  "nbformat_minor": 0,
  "metadata": {
    "colab": {
      "provenance": []
    },
    "kernelspec": {
      "name": "python3",
      "display_name": "Python 3"
    },
    "language_info": {
      "name": "python"
    }
  },
  "cells": [
    {
      "cell_type": "markdown",
      "source": [
        "В цьому домашньому завданні ми реалізуємо логістичну регресію на `numpy`.\n",
        "Ці завдання допоможуть вам ґрунтовно засвоїти основні концепції логістичної регресії та реалізувати їх на практиці 🔥\n",
        "\n",
        "#### Завдання 1: Реалізація функції сигмоїди\n",
        "1. З використанням `numpy` напишіть функцію `sigmoid(z)` для обчислення значення сигмоїди згідно з формулою:\n",
        "   $$\n",
        "   \\sigma(z) = \\frac{1}{1 + e^{-z}}\n",
        "   $$\n",
        "2. Використовуючи цю функцію, обчисліть значення сигмоїди для наступних даних: $ z = [-2, -1, 0, 1, 2] $. Виведіть результат обчислень.\n"
      ],
      "metadata": {
        "id": "KxRmdyv5CIZe"
      }
    },
    {
      "cell_type": "code",
      "source": [
        "import numpy as np\n",
        "\n",
        "# Функція сигмоїди\n",
        "def sigmoid(z):\n",
        "    return 1 / (1 + np.exp(-z))\n",
        "\n",
        "# Вхідні дані\n",
        "z = np.array([-2, -1, 0, 1, 2])\n",
        "\n",
        "# Обчислення значення сигмоїди\n",
        "sigmoid_values = sigmoid(z)\n",
        "\n",
        "# Виведення результату\n",
        "print(sigmoid_values)"
      ],
      "metadata": {
        "id": "v9ilfXulL2wP",
        "colab": {
          "base_uri": "https://localhost:8080/"
        },
        "outputId": "97dff7e4-85c3-42e8-e23c-6721d8ead5ad"
      },
      "execution_count": 2,
      "outputs": [
        {
          "output_type": "stream",
          "name": "stdout",
          "text": [
            "[0.11920292 0.26894142 0.5        0.73105858 0.88079708]\n"
          ]
        }
      ]
    },
    {
      "cell_type": "markdown",
      "source": [
        "\n",
        "\n",
        "#### Завдання 2: Реалізація функції гіпотези для логістичної регресії\n",
        "1. Напишіть функцію `hypothesis(theta, X)`, яка обчислює гіпотезу для логістичної регресії, використовуючи функцію сигмоїди. Формула гіпотези:\n",
        "   $$\n",
        "   h_\\theta(x) = \\sigma(\\theta^T x) = \\frac{1}{1 + e^{-\\theta^T x}}\n",
        "   $$\n",
        "2. Використайте функцію `hypothesis` для обчислення значень гіпотези для наступних даних:\n",
        "   \n",
        "   $\\theta = [0.5, -0.5]$\n",
        "   \n",
        "   $X = \\begin{bmatrix} 1 & 2 \\\\ 1 & -1 \\\\ 1 & 0 \\\\ 1 & 1 \\end{bmatrix}$\n",
        "\n",
        "  Виведіть результат обчислень.\n"
      ],
      "metadata": {
        "id": "LVd_jCGNCR1F"
      }
    },
    {
      "cell_type": "code",
      "source": [
        "# Функція гіпотези логістичної регресії\n",
        "def hypothesis(theta, X):\n",
        "    z = np.dot(X, theta)\n",
        "    return sigmoid(z)"
      ],
      "metadata": {
        "id": "dKDHv-YtL3TA"
      },
      "execution_count": 3,
      "outputs": []
    },
    {
      "cell_type": "code",
      "source": [
        "# Параметри\n",
        "theta = np.array([0.5, -0.5])\n",
        "X = np.array([\n",
        "    [1, 2],\n",
        "    [1, -1],\n",
        "    [1, 0],\n",
        "    [1, 1]\n",
        "])\n",
        "\n",
        "# Обчислення гіпотези\n",
        "h = hypothesis(theta, X)\n",
        "\n",
        "# Вивід результату\n",
        "print(h)"
      ],
      "metadata": {
        "colab": {
          "base_uri": "https://localhost:8080/"
        },
        "id": "LP9chfHnVmYi",
        "outputId": "d6b51c87-801a-4024-e46f-eaf1f6314a0d"
      },
      "execution_count": 5,
      "outputs": [
        {
          "output_type": "stream",
          "name": "stdout",
          "text": [
            "[0.37754067 0.73105858 0.62245933 0.5       ]\n"
          ]
        }
      ]
    },
    {
      "cell_type": "markdown",
      "source": [
        "#### Завдання 3: Реалізація функції для підрахунку градієнтів фукнції втрат\n",
        "1. Напишіть функцію `compute_gradient(theta, X, y)`, яка обчислює градієнти функції втрат для логістичної регресії. Формула для обчислення градієнта:\n",
        "   $$\n",
        "   \\frac{\\partial L(\\theta)}{\\partial \\theta_j} = \\frac{1}{m} \\sum_{i=1}^{m} \\left[ (h_\\theta(x^{(i)}) - y^{(i)}) x_j^{(i)} \\right]\n",
        "   $$\n",
        "2. Використайте функцію `compute_gradient` для обчислення градієнтів для наступних даних:\n",
        "\n",
        "  $\\theta = [0.5, -0.5]$\n",
        "\n",
        "  $X = \\begin{bmatrix} 1 & 2 \\\\ 1 & -1 \\\\ 1 & 0 \\\\ 1 & 1 \\end{bmatrix}$\n",
        "\n",
        "  $y = [1, 0, 1, 0]$\n",
        "\n",
        "  Виведіть результат обчислень."
      ],
      "metadata": {
        "id": "MWASH4Z4ClTo"
      }
    },
    {
      "cell_type": "code",
      "source": [
        "# Обчислення градієнта функції втрат\n",
        "def compute_gradient(theta, X, y):\n",
        "    m = len(y)\n",
        "    h = hypothesis(theta, X)\n",
        "    gradient = (1 / m) * np.dot(X.T, (h - y))\n",
        "    return gradient\n",
        "\n",
        "# Параметри\n",
        "theta = np.array([0.5, -0.5])\n",
        "X = np.array([\n",
        "    [1, 2],\n",
        "    [1, -1],\n",
        "    [1, 0],\n",
        "    [1, 1]\n",
        "])\n",
        "y = np.array([1, 0, 1, 0])\n",
        "\n",
        "# Обчислення градієнта\n",
        "grad = compute_gradient(theta, X, y)\n",
        "\n",
        "# Виведення результату\n",
        "print(grad)"
      ],
      "metadata": {
        "id": "0DM4xqZCL32i",
        "colab": {
          "base_uri": "https://localhost:8080/"
        },
        "outputId": "8d332cae-e56f-4a87-8186-57e2ecf707fd"
      },
      "execution_count": 7,
      "outputs": [
        {
          "output_type": "stream",
          "name": "stdout",
          "text": [
            "[ 0.05776464 -0.36899431]\n"
          ]
        }
      ]
    },
    {
      "cell_type": "markdown",
      "source": [
        "\n",
        "#### Завдання 4: Реалізація повного батч градієнтного спуску\n",
        "\n",
        "**Задача:**\n",
        "1. Напишіть функцію `full_batch_gradient_descent(X, y, lr=0.1, epochs=100)`, яка реалізує алгоритм Full градієнтного спуску для логістичної регресії. Використовуйте такі формули:\n",
        "   - Гіпотеза: $ h_\\theta(x) = \\sigma(\\theta^T x) $\n",
        "   - Оновлення параметрів: $ \\theta_j := \\theta_j - \\alpha \\frac{\\partial L(\\theta)}{\\partial \\theta_j} $\n",
        "2. Використайте функцію `full_batch_gradient_descent` для обчислення параметрів моделі на наступних даних:\n",
        "\n",
        "  $X = \\begin{bmatrix} 1 & 2 \\\\ 1 & -1 \\\\ 1 & 0 \\\\ 1 & 1 \\end{bmatrix}$\n",
        "\n",
        "  $y = [1, 0, 1, 0]$\n",
        "\n",
        "  Увага! Матриця $X$ вже має стовпець одиниць і передбачається, що це. - стовпець для intercept - параметра зсуву.\n",
        "\n",
        "  Виведіть результат обчислень.\n"
      ],
      "metadata": {
        "id": "nOtJEtdnC1K9"
      }
    },
    {
      "cell_type": "code",
      "source": [
        "# Градієнтний спуск\n",
        "def full_batch_gradient_descent(X, y, lr=0.1, epochs=100):\n",
        "    theta = np.zeros(X.shape[1])  # Ініціалізація нулями\n",
        "    for epoch in range(epochs):\n",
        "        grad = compute_gradient(theta, X, y)\n",
        "        theta -= lr * grad\n",
        "    return theta\n",
        "\n",
        "# Параметри\n",
        "X = np.array([\n",
        "    [1, 2],\n",
        "    [1, -1],\n",
        "    [1, 0],\n",
        "    [1, 1]\n",
        "])\n",
        "y = np.array([1, 0, 1, 0])\n",
        "\n",
        "# Запуск градієнтного спуску\n",
        "final_theta = full_batch_gradient_descent(X, y, lr=0.1, epochs=100)\n",
        "\n",
        "# Виведення результату\n",
        "print(final_theta)"
      ],
      "metadata": {
        "id": "fHtUOTxXL4Yy",
        "colab": {
          "base_uri": "https://localhost:8080/"
        },
        "outputId": "9bacd090-9434-4250-a765-036cbfea5e88"
      },
      "execution_count": 8,
      "outputs": [
        {
          "output_type": "stream",
          "name": "stdout",
          "text": [
            "[-0.2893693   0.77655125]\n"
          ]
        }
      ]
    },
    {
      "cell_type": "markdown",
      "source": [
        "#### Завдання 5. Обчислення точності моделі\n",
        "\n",
        "1. Напишіть функцію `predict_proba(theta, X)`, яка використовує знайдені параметри $\\theta$ для обчислення ймовірностей належності поточного прикладу з даних до класу $y=1$ на основі значень $\\sigma(\\theta^T x)$.\n",
        "\n",
        "2. Напишіть функцію `predict(theta, X, threshold=0.5)`, яка обчислює клас з передбаченої імовірності належності екземпляра до класу 1 з порогом 0.5. Тобто якщо ймовірність менше 0.5, то передбачаємо клас 0, інакше клас 1.\n",
        "\n",
        "3. Напишіть функцію `accuracy(y_true, y_pred)`, яка обчислює точність моделі, визначивши частку правильно передбачених класів.\n",
        "\n",
        "  Формула метрики Accuracy:\n",
        "  $$\n",
        "  \\text{Accuracy} = \\frac{\\sum_{i=1}^{m} I(\\hat{{y}^{(i)}} = y^{(i)})}{m}\n",
        "  $$\n",
        "\n",
        "  де $\\hat{{y}^{(i)}}$ - передбачене значення класу, $I$ - індикаторна функція (яка дорівнює 1, якщо умова виконується, і 0 - якщо ні), $m$ - кількість прикладів.\n",
        "\n",
        "4. Обчисліть з використанням даних в завданні 4 $X$, $y$ та обчислених коефіцієнтах $\\theta$ та виведіть на екран:\n",
        "  - передбачені моделлю імовірності належності кожного з екземплярів в матриці `X` до класу 1\n",
        "  - класи кожного екземпляра з матриці `X`\n",
        "  - точність моделі."
      ],
      "metadata": {
        "id": "E4iZV55cE5f3"
      }
    },
    {
      "cell_type": "code",
      "source": [
        "def predict_proba(theta, X):\n",
        "    return 1 / (1 + np.exp(-np.dot(X, theta)))"
      ],
      "metadata": {
        "id": "85ZZfPtjrsai"
      },
      "execution_count": 9,
      "outputs": []
    },
    {
      "cell_type": "code",
      "source": [
        "def predict(theta, X, threshold=0.5):\n",
        "    probabilities = predict_proba(theta, X)\n",
        "    return (probabilities >= threshold).astype(int)"
      ],
      "metadata": {
        "id": "ENFlaNgrWzsM"
      },
      "execution_count": 10,
      "outputs": []
    },
    {
      "cell_type": "code",
      "source": [
        "def accuracy(y_true, y_pred):\n",
        "    return np.mean(y_true == y_pred)"
      ],
      "metadata": {
        "id": "oAXXaeG-W1yS"
      },
      "execution_count": 11,
      "outputs": []
    },
    {
      "cell_type": "code",
      "source": [
        "probabilities = predict_proba(theta, X)\n",
        "print(\"1. Ймовірності належності до класу 1:\")\n",
        "print(probabilities)\n",
        "\n",
        "predicted_classes = predict(theta, X)\n",
        "print(\"\\n2. Передбачені класи:\")\n",
        "print(predicted_classes)\n",
        "\n",
        "acc = accuracy(y, predicted_classes)\n",
        "print(\"\\n3. Точність моделі:\")\n",
        "print(f\"{acc:.2f}\")"
      ],
      "metadata": {
        "colab": {
          "base_uri": "https://localhost:8080/"
        },
        "id": "CHR6oLdRXFmi",
        "outputId": "c8bc0b23-3a34-461b-9b56-98477d9ac33d"
      },
      "execution_count": 12,
      "outputs": [
        {
          "output_type": "stream",
          "name": "stdout",
          "text": [
            "1. Ймовірності належності до класу 1:\n",
            "[0.37754067 0.73105858 0.62245933 0.5       ]\n",
            "\n",
            "2. Передбачені класи:\n",
            "[0 1 1 1]\n",
            "\n",
            "3. Точність моделі:\n",
            "0.25\n"
          ]
        }
      ]
    }
  ]
}