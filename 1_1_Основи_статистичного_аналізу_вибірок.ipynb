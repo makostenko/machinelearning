{
  "nbformat": 4,
  "nbformat_minor": 0,
  "metadata": {
    "colab": {
      "provenance": []
    },
    "kernelspec": {
      "name": "python3",
      "display_name": "Python 3"
    },
    "language_info": {
      "name": "python"
    }
  },
  "cells": [
    {
      "cell_type": "markdown",
      "source": [
        "### Генеральна сукупність та вибірка\n",
        "\n",
        "**Генеральна сукупність** — це повна група об'єктів, подій або явищ, що мають спільну характеристику, і які ми хочемо вивчати. Уявіть, що ви хочете дослідити зріст усіх студентів університету. Тоді всі студенти університету і будуть вашою генеральною сукупністю. **Наприклад, всі клієнти магазину.**\n",
        "\n",
        "Позначається як велика літера латинського алфавіту (так само, як випадкова величина): $X, Y, Z, ...$\n",
        "\n",
        "Усі статистичні позначення можна знайти [тут](https://mathvault.ca/hub/higher-math/math-symbols/probability-statistics-symbols/).\n",
        "\n",
        "**Вибірка** — це підмножина генеральної сукупності, вибрана для фактичного дослідження. Через те, що дослідження всієї генеральної сукупності може бути непрактичним або неможливим, ми обираємо вибірку, яка представлятиме цю сукупність. **Наприклад, ті клієнти, що прійшли тільки вчора після 14-00.**\n",
        "\n",
        "Позначається як мала літера латинського алфавіту (так само, як значення випадкової величини): $x, y, z, ...$\n",
        "\n",
        "У генеральної сукупності та вибірки є характеристики: середнє, міра розкиду, мінімальне, максимальне значення.\n",
        "\n",
        "В роботі ми здебільшого працюємо з вибірками.\n",
        "\n"
      ],
      "metadata": {
        "id": "dWzAZC4UA5-h"
      }
    },
    {
      "cell_type": "markdown",
      "source": [
        "Проведемо базовий статистичний аналіз двох вибірок."
      ],
      "metadata": {
        "id": "h8OjmiBWge2m"
      }
    },
    {
      "cell_type": "code",
      "source": [
        "import numpy as np"
      ],
      "metadata": {
        "id": "A0RtYSPshmXq"
      },
      "execution_count": 1,
      "outputs": []
    },
    {
      "cell_type": "code",
      "execution_count": 2,
      "metadata": {
        "id": "Fb5B53Rvf-6F"
      },
      "outputs": [],
      "source": [
        "x = [6, 12, 13, 17, 22, 25, 27, 29, 30, 32]\n",
        "y = [45, 47, 39, 58, 68, 76, 75, 74, 78, 81]"
      ]
    },
    {
      "cell_type": "code",
      "source": [
        "len (x), len(y)"
      ],
      "metadata": {
        "colab": {
          "base_uri": "https://localhost:8080/"
        },
        "id": "Kum2PSZiFNHD",
        "outputId": "939b432e-b7dd-46e7-fcd6-7f88aa3cfc22"
      },
      "execution_count": 3,
      "outputs": [
        {
          "output_type": "execute_result",
          "data": {
            "text/plain": [
              "(10, 10)"
            ]
          },
          "metadata": {},
          "execution_count": 3
        }
      ]
    },
    {
      "cell_type": "code",
      "source": [
        "n_x = len(x)\n",
        "n_y = len(y)"
      ],
      "metadata": {
        "id": "Vz6d8QgrgxiF"
      },
      "execution_count": 4,
      "outputs": []
    },
    {
      "cell_type": "markdown",
      "source": [
        "\n",
        "\n",
        "### Міри центральної тенденції\n",
        "\n",
        "**Математичне сподівання** (або середнє значення генеральної сукупності) — це середнє значення всіх можливих результатів величини, зважене за їхніми ймовірностями. Воно представляє собою середнє, яке ми очікували б отримати, якби могли провести нескінченну кількість спостережень.\n",
        "\n",
        "Позначається як $\\mu_X$, $\\bar X$, $E[x]$ (в теорії ймовірностей).\n",
        "\n",
        "**Вибіркове середнє** — це середнє значення всіх спостережень у вибірці. Воно слугує оцінкою математичного сподівання генеральної сукупності і розраховується як сума всіх значень, поділена на кількість спостережень у вибірці.\n",
        "\n",
        "Формула для розрахунку вибіркового середнього виглядає так:\n",
        "\n",
        "$$ \\bar{x} = \\frac{1}{n} \\sum_{i=1}^{n} x_i $$\n",
        "\n",
        "де:\n",
        "- $\\bar{x}$ — вибіркове середнє,\n",
        "- $n $ — кількість спостережень у вибірці,\n",
        "- $x_i$ — значення кожного спостереження.\n"
      ],
      "metadata": {
        "id": "6aKHr5QHBal8"
      }
    },
    {
      "cell_type": "markdown",
      "source": [
        "Обчислимо середні значення."
      ],
      "metadata": {
        "id": "J5FuBYQpgkRE"
      }
    },
    {
      "cell_type": "code",
      "source": [
        "mean_x = sum(x)/n_x\n",
        "mean_x"
      ],
      "metadata": {
        "colab": {
          "base_uri": "https://localhost:8080/"
        },
        "id": "lB9X7oZggZxl",
        "outputId": "3bf2303a-5260-4929-b2dd-51e0491fb4cf"
      },
      "execution_count": 5,
      "outputs": [
        {
          "output_type": "execute_result",
          "data": {
            "text/plain": [
              "21.3"
            ]
          },
          "metadata": {},
          "execution_count": 5
        }
      ]
    },
    {
      "cell_type": "code",
      "source": [
        "mean_y = sum(y)/n_y\n",
        "mean_y"
      ],
      "metadata": {
        "colab": {
          "base_uri": "https://localhost:8080/"
        },
        "id": "MqSzOyfZgccc",
        "outputId": "f398a0e2-a3ba-486d-d3bb-bde4d22dbc5a"
      },
      "execution_count": 6,
      "outputs": [
        {
          "output_type": "execute_result",
          "data": {
            "text/plain": [
              "64.1"
            ]
          },
          "metadata": {},
          "execution_count": 6
        }
      ]
    },
    {
      "cell_type": "code",
      "source": [
        "np.mean(x), np.mean(y)"
      ],
      "metadata": {
        "colab": {
          "base_uri": "https://localhost:8080/"
        },
        "id": "sDEcFSHhB5Lk",
        "outputId": "ce015076-88cf-4894-a128-97b7d6c23f86"
      },
      "execution_count": 7,
      "outputs": [
        {
          "output_type": "execute_result",
          "data": {
            "text/plain": [
              "(np.float64(21.3), np.float64(64.1))"
            ]
          },
          "metadata": {},
          "execution_count": 7
        }
      ]
    },
    {
      "cell_type": "markdown",
      "source": [
        "**Медіана** — це статистичний показник, який визначає значення серединного елемента в упорядкованому ряду даних. Щоб знайти медіану, спочатку потрібно впорядкувати всі спостереження даних у зростаючому (або спадному) порядку. Після цього медіана визначається наступним чином:\n",
        "\n",
        "- Якщо кількість елементів у датасеті непарна, медіана — це значення, що знаходиться точно посередині цього упорядкованого ряду.\n",
        "- Якщо кількість елементів парна, медіана визначається як середнє значення двох серединних елементів.\n",
        "\n",
        "Медіана є важливим показником центральної тенденції, особливо у випадках, коли датасет містить викиди або дуже різноманітні дані. На відміну від середнього значення, медіана менш чутлива до екстремальних значень, що робить її корисною мірою \"середнього\" рівня для асиметрично розподілених даних."
      ],
      "metadata": {
        "id": "gQ-RSl4tCDHi"
      }
    },
    {
      "cell_type": "markdown",
      "source": [
        "Як знайти медіану:"
      ],
      "metadata": {
        "id": "w0qLrZA7gm85"
      }
    },
    {
      "cell_type": "code",
      "source": [
        "sorted(x)"
      ],
      "metadata": {
        "colab": {
          "base_uri": "https://localhost:8080/"
        },
        "id": "DKJFF4dkgv59",
        "outputId": "8504069c-fb9c-403a-a312-df5a7a0d4d5d"
      },
      "execution_count": 8,
      "outputs": [
        {
          "output_type": "execute_result",
          "data": {
            "text/plain": [
              "[6, 12, 13, 17, 22, 25, 27, 29, 30, 32]"
            ]
          },
          "metadata": {},
          "execution_count": 8
        }
      ]
    },
    {
      "cell_type": "code",
      "source": [
        "len(x)//2 - 1, len(x)//2"
      ],
      "metadata": {
        "colab": {
          "base_uri": "https://localhost:8080/"
        },
        "id": "tvRGB5eXVCsS",
        "outputId": "0d8a219f-a33c-4eda-bb00-acbf39bf9553"
      },
      "execution_count": 9,
      "outputs": [
        {
          "output_type": "execute_result",
          "data": {
            "text/plain": [
              "(4, 5)"
            ]
          },
          "metadata": {},
          "execution_count": 9
        }
      ]
    },
    {
      "cell_type": "code",
      "source": [
        "(sorted(x)[len(x)//2-1] + sorted(x)[len(x)//2])/2"
      ],
      "metadata": {
        "colab": {
          "base_uri": "https://localhost:8080/"
        },
        "id": "CD2JxDvHgp0m",
        "outputId": "0cb70b96-9783-4ffa-9e29-37ab9254dbc4"
      },
      "execution_count": 10,
      "outputs": [
        {
          "output_type": "execute_result",
          "data": {
            "text/plain": [
              "23.5"
            ]
          },
          "metadata": {},
          "execution_count": 10
        }
      ]
    },
    {
      "cell_type": "code",
      "source": [
        "sorted(y)"
      ],
      "metadata": {
        "colab": {
          "base_uri": "https://localhost:8080/"
        },
        "id": "iL9uXSQBg5ed",
        "outputId": "bb5a7e09-c1ab-4b74-a8c2-2c3045dedbf4"
      },
      "execution_count": 11,
      "outputs": [
        {
          "output_type": "execute_result",
          "data": {
            "text/plain": [
              "[39, 45, 47, 58, 68, 74, 75, 76, 78, 81]"
            ]
          },
          "metadata": {},
          "execution_count": 11
        }
      ]
    },
    {
      "cell_type": "code",
      "source": [
        "(sorted(y)[len(y)//2-1] + sorted(y)[len(y)//2]) / 2"
      ],
      "metadata": {
        "colab": {
          "base_uri": "https://localhost:8080/"
        },
        "id": "bTZh2BvKgsID",
        "outputId": "2ef017e8-df3b-4d70-d8e4-678881ab8c0d"
      },
      "execution_count": 12,
      "outputs": [
        {
          "output_type": "execute_result",
          "data": {
            "text/plain": [
              "71.0"
            ]
          },
          "metadata": {},
          "execution_count": 12
        }
      ]
    },
    {
      "cell_type": "code",
      "source": [
        "np.median(x), np.median(y)"
      ],
      "metadata": {
        "colab": {
          "base_uri": "https://localhost:8080/"
        },
        "id": "rXVgbaj4Kdg7",
        "outputId": "108fe333-ce99-43ac-bd2d-183738ccf027"
      },
      "execution_count": 16,
      "outputs": [
        {
          "output_type": "execute_result",
          "data": {
            "text/plain": [
              "(np.float64(23.5), np.float64(71.0))"
            ]
          },
          "metadata": {},
          "execution_count": 16
        }
      ]
    },
    {
      "cell_type": "code",
      "source": [
        "# example meadian better than mean\n",
        "\n",
        "sample = [1]*99 + [1000]"
      ],
      "metadata": {
        "id": "IPIPXN87VlRC"
      },
      "execution_count": 13,
      "outputs": []
    },
    {
      "cell_type": "code",
      "source": [
        "print(sample)"
      ],
      "metadata": {
        "colab": {
          "base_uri": "https://localhost:8080/"
        },
        "id": "khMeOLKhVrFK",
        "outputId": "9357ea07-e05d-4f36-8b7f-524d74aca2ad"
      },
      "execution_count": 14,
      "outputs": [
        {
          "output_type": "stream",
          "name": "stdout",
          "text": [
            "[1, 1, 1, 1, 1, 1, 1, 1, 1, 1, 1, 1, 1, 1, 1, 1, 1, 1, 1, 1, 1, 1, 1, 1, 1, 1, 1, 1, 1, 1, 1, 1, 1, 1, 1, 1, 1, 1, 1, 1, 1, 1, 1, 1, 1, 1, 1, 1, 1, 1, 1, 1, 1, 1, 1, 1, 1, 1, 1, 1, 1, 1, 1, 1, 1, 1, 1, 1, 1, 1, 1, 1, 1, 1, 1, 1, 1, 1, 1, 1, 1, 1, 1, 1, 1, 1, 1, 1, 1, 1, 1, 1, 1, 1, 1, 1, 1, 1, 1, 1000]\n"
          ]
        }
      ]
    },
    {
      "cell_type": "code",
      "source": [
        "np.mean(sample)"
      ],
      "metadata": {
        "colab": {
          "base_uri": "https://localhost:8080/"
        },
        "id": "9a0NeL5fVwJS",
        "outputId": "5090f823-6192-4311-b54b-05d06ca098e8"
      },
      "execution_count": 15,
      "outputs": [
        {
          "output_type": "execute_result",
          "data": {
            "text/plain": [
              "np.float64(10.99)"
            ]
          },
          "metadata": {},
          "execution_count": 15
        }
      ]
    },
    {
      "cell_type": "code",
      "source": [
        "np.median(sample)"
      ],
      "metadata": {
        "colab": {
          "base_uri": "https://localhost:8080/"
        },
        "id": "59d1XUylVwFM",
        "outputId": "6320e1bc-4c57-4b51-bb40-163485154b04"
      },
      "execution_count": 16,
      "outputs": [
        {
          "output_type": "execute_result",
          "data": {
            "text/plain": [
              "np.float64(1.0)"
            ]
          },
          "metadata": {},
          "execution_count": 16
        }
      ]
    },
    {
      "cell_type": "markdown",
      "source": [
        "![](https://drive.google.com/uc?export=view&id=1laSMpXhKLpGSJdq9gxFXsZqHN87rDOKN)\n"
      ],
      "metadata": {
        "id": "lCU964e4WjeI"
      }
    },
    {
      "cell_type": "markdown",
      "source": [
        "# Варіація та стандартне відхилення\n",
        "\n",
        "## Варіація\n",
        "**Варіація (або дисперсія)** — це статистичний показник, який вимірює ступінь розсіювання або розподілу значень в датасеті відносно їх середнього значення. Варіація показує, наскільки далеко в середньому розташовані індивідуальні значення даних від середнього значення (математичного сподівання) усього набору.\n",
        "\n",
        "![](https://drive.google.com/uc?export=view&id=1t_p11iB4lDAjtqYjyx4GmmzAiswl7qLS)\n",
        "\n",
        "\n",
        "**Формула варіації вибірки**\n",
        "\n",
        "Для вибірки з $n$ значень, варіація $s^2$ розраховується за формулою:\n",
        "\n",
        "$$ s^2 = \\frac{1}{n-1} \\sum_{i=1}^{n} (x_i - \\bar{x})^2 $$\n",
        "\n",
        "де:\n",
        "- $s^2$ — варіація вибірки,\n",
        "- $x_i$ — індивідуальні значення даних,\n",
        "- $\\bar{x}$ — середнє значення всієї вибірки,\n",
        "- $n$ — кількість значень в датасеті.\n",
        "\n",
        "Для генеральної сукупності, формула має аналогічний вигляд, але позначається як $\\sigma^2$ та ділення відбувається на $n$, а не на $n-1$, що відображає різницю у визначенні незміщеної оцінки варіації для вибірки та параметра генеральної сукупності.\n",
        "\n",
        "[Поясненння](https://www.jamelsaadaoui.com/unbiased-estimator-for-population-variance-clearly-explained/) про незміщенну оцінку варіації.\n",
        "\n",
        "### Чому варіація важлива\n",
        "\n",
        "Варіація є фундаментальним поняттям у статистиці, оскільки вона допомагає зрозуміти розподіл даних. Велика варіація вказує на те, що дані розкидані широко навколо середнього значення, тоді як мала варіація свідчить про те, що дані більш згруповані близько до середнього.\n",
        "\n",
        "### Застосування\n",
        "\n",
        "Варіація використовується в багатьох галузях для оцінки розподілу значень. Наприклад, у фінансах варіація може використовуватися для оцінки ризику інвестицій. У наукових дослідженнях вона допомагає визначити надійність та варіативність результатів експериментів. Управління якістю продукції також часто опирається на аналіз варіації для забезпечення консистентності та задоволення стандартів.\n",
        "\n"
      ],
      "metadata": {
        "id": "Yxx2IWfsBzWJ"
      }
    },
    {
      "cell_type": "code",
      "source": [
        "x_minus_mean = [(el - mean_x)**2 for el in x]\n",
        "x_minus_mean"
      ],
      "metadata": {
        "colab": {
          "base_uri": "https://localhost:8080/"
        },
        "id": "Cg8rScsoELxn",
        "outputId": "f0f101d8-0d52-49f2-969a-c5cb05e870de"
      },
      "execution_count": 17,
      "outputs": [
        {
          "output_type": "execute_result",
          "data": {
            "text/plain": [
              "[234.09000000000003,\n",
              " 86.49000000000001,\n",
              " 68.89000000000001,\n",
              " 18.490000000000006,\n",
              " 0.489999999999999,\n",
              " 13.689999999999994,\n",
              " 32.489999999999995,\n",
              " 59.28999999999999,\n",
              " 75.68999999999998,\n",
              " 114.48999999999998]"
            ]
          },
          "metadata": {},
          "execution_count": 17
        }
      ]
    },
    {
      "cell_type": "code",
      "source": [
        "var_x_general = sum(x_minus_mean)/len(x)\n",
        "var_x_sample = sum(x_minus_mean)/(len(x)-1)"
      ],
      "metadata": {
        "id": "DBLez40oZay2"
      },
      "execution_count": 18,
      "outputs": []
    },
    {
      "cell_type": "code",
      "source": [
        "var_x_general, var_x_sample"
      ],
      "metadata": {
        "colab": {
          "base_uri": "https://localhost:8080/"
        },
        "id": "J4uAAjr2EZBk",
        "outputId": "3d93515a-fa19-4adc-ab2c-523746bbe20b"
      },
      "execution_count": null,
      "outputs": [
        {
          "output_type": "execute_result",
          "data": {
            "text/plain": [
              "(70.41, 78.23333333333333)"
            ]
          },
          "metadata": {},
          "execution_count": 31
        }
      ]
    },
    {
      "cell_type": "markdown",
      "source": [
        "Звіримось з numpy."
      ],
      "metadata": {
        "id": "lPqjKJPEESxN"
      }
    },
    {
      "cell_type": "code",
      "source": [
        "np.var(x), np.var(x, ddof=1)"
      ],
      "metadata": {
        "colab": {
          "base_uri": "https://localhost:8080/"
        },
        "outputId": "75a86316-185b-4ab9-8f62-0996d4e9b80a",
        "id": "Z_U2w3V5ESxO"
      },
      "execution_count": 19,
      "outputs": [
        {
          "output_type": "execute_result",
          "data": {
            "text/plain": [
              "(np.float64(70.41), np.float64(78.23333333333333))"
            ]
          },
          "metadata": {},
          "execution_count": 19
        }
      ]
    },
    {
      "cell_type": "markdown",
      "source": [
        "## Стандартне відхилення\n",
        "\n",
        "**Стандартне відхилення** — це ще один ключовий статистичний показник, який використовується для вимірювання розсіянності або варіативності значень у наборі даних. Воно представляє собою корінь квадратний із варіації (дисперсії) і вимірює середнє відхилення індивідуальних значень даних від їх середнього значення. Стандартне відхилення дає змогу зрозуміти, наскільки далеко кожне спостереження відхиляється від середнього, надаючи більш інтуїтивно зрозумілу міру розподілу даних порівняно з варіацією, оскільки воно виражене у тих самих одиницях виміру, що й дані.\n",
        "\n",
        "### Формула стандартного відхилення\n",
        "\n",
        "Для вибірки з $n$ значень, стандартне відхилення $s$ розраховується за формулою:\n",
        "\n",
        "$ s = \\sqrt{\\frac{1}{n-1} \\sum_{i=1}^{n} (x_i - \\bar{x})^2} $\n",
        "\n",
        "де:\n",
        "- $s$ — стандартне відхилення вибірки,\n",
        "- $x_i$ — індивідуальні значення даних,\n",
        "- $\\bar{x}$ — середнє значення всієї вибірки,\n",
        "- $n$ — кількість значень в датасеті.\n",
        "\n",
        "Для генеральної сукупності стандартне відхилення позначається $\\sigma$ і розраховується аналогічно, але з використанням $n$ у знаменнику замість $n-1$.\n",
        "\n",
        "### Значення стандартного відхилення\n",
        "\n",
        "Стандартне відхилення важливе з кількох причин:\n",
        "- **Міра розсіянності:** Воно надає чітке уявлення про те, наскільки значення у наборі даних варіюються.\n",
        "- **Застосування:** Використовується в різноманітних галузях для аналізу варіативності, визначення ризику, оцінки якості тощо.\n",
        "- **Нормальний розподіл:** У контексті нормально розподілених даних, стандартне відхилення разом із середнім значенням дозволяє описати розподіл повністю.\n",
        "\n",
        "Стандартне відхилення, як і варіація, відіграє ключову роль у статистиці, оскільки допомагає зрозуміти характер розподілу даних і є основою для багатьох статистичних методів і тестів."
      ],
      "metadata": {
        "id": "hASnTaoREHnC"
      }
    },
    {
      "cell_type": "markdown",
      "source": [
        "Стандартне відхилення:"
      ],
      "metadata": {
        "id": "MKXrQrh6g8E9"
      }
    },
    {
      "cell_type": "code",
      "source": [
        "x_minus_mean = [(el - mean_x)**2 for el in x]\n",
        "std_x_general = np.sqrt(sum(x_minus_mean)/len(x))\n",
        "std_x_sample = np.sqrt(sum(x_minus_mean)/(len(x)-1))"
      ],
      "metadata": {
        "id": "a-F80Lm9hBPo"
      },
      "execution_count": 20,
      "outputs": []
    },
    {
      "cell_type": "code",
      "source": [
        "std_x_general, std_x_sample"
      ],
      "metadata": {
        "colab": {
          "base_uri": "https://localhost:8080/"
        },
        "id": "pshaPZFPiJD6",
        "outputId": "eb951134-1669-4a5b-fb4a-f1b715f130af"
      },
      "execution_count": 21,
      "outputs": [
        {
          "output_type": "execute_result",
          "data": {
            "text/plain": [
              "(np.float64(8.391066678319271), np.float64(8.844960900610772))"
            ]
          },
          "metadata": {},
          "execution_count": 21
        }
      ]
    },
    {
      "cell_type": "markdown",
      "source": [
        "Звіримось з numpy."
      ],
      "metadata": {
        "id": "hZ8xoIQMitij"
      }
    },
    {
      "cell_type": "code",
      "source": [
        "np.std(x), np.std(x, ddof=1)"
      ],
      "metadata": {
        "colab": {
          "base_uri": "https://localhost:8080/"
        },
        "id": "ivSm8YgrhkoS",
        "outputId": "9d373e9b-8615-4a76-9568-d6d2dfbb3f97"
      },
      "execution_count": 22,
      "outputs": [
        {
          "output_type": "execute_result",
          "data": {
            "text/plain": [
              "(np.float64(8.391066678319271), np.float64(8.844960900610772))"
            ]
          },
          "metadata": {},
          "execution_count": 22
        }
      ]
    },
    {
      "cell_type": "markdown",
      "source": [
        "Стандартне відхилення у."
      ],
      "metadata": {
        "id": "E8lvnoIWkM5Y"
      }
    },
    {
      "cell_type": "code",
      "source": [
        "y_minus_mean = [(el - mean_y)**2 for el in y]\n",
        "std_y_sample = np.sqrt(sum(y_minus_mean)/(len(y)-1))\n",
        "std_y_sample"
      ],
      "metadata": {
        "colab": {
          "base_uri": "https://localhost:8080/"
        },
        "id": "KNwMUWz_kMBN",
        "outputId": "5233dc4d-6135-48e8-b9ab-2be785c4c9f0"
      },
      "execution_count": 23,
      "outputs": [
        {
          "output_type": "execute_result",
          "data": {
            "text/plain": [
              "np.float64(15.552420318965721)"
            ]
          },
          "metadata": {},
          "execution_count": 23
        }
      ]
    },
    {
      "cell_type": "markdown",
      "source": [
        "## Правило $3\\sigma$\n",
        "\n",
        "**Правило $3\\sigma$ (три сігми)** — це статистичне правило, яке використовується для опису розподілу даних у нормальному (гаусовому) розподілі. Згідно з цим правилом, приблизно 99.73% усіх значень у нормально розподіленому наборі даних знаходяться в межах трьох стандартних відхилень (сігм) від середнього значення. Це означає, що лише близько 0.27% значень виходять за межі цього діапазону.\n",
        "\n",
        "### Математичний опис правила $3\\sigma$\n",
        "\n",
        "Якщо маємо набір даних з нормальним розподілом, де $ \\mu $ означає середнє значення (математичне сподівання), а $ \\sigma $ — стандартне відхилення, тоді правило 3 сігма визначається так:\n",
        "\n",
        "- Приблизно 68.27% усіх значень знаходяться в межах одного стандартного відхилення від середнього ($ \\mu \\pm \\sigma $).\n",
        "- Приблизно 95.45% значень лежать в межах двох стандартних відхилень ($ \\mu \\pm 2\\sigma $).\n",
        "- Приблизно 99.73% значень знаходяться в межах трьох стандартних відхилень ($ \\mu \\pm 3\\sigma $).\n",
        "\n",
        "![](https://drive.google.com/uc?export=view&id=1lybSWbiKmJWwm8swxXr-eHcwg9Jrd5rk)\n",
        "\n",
        "\n",
        "### Застосування правила $3\\sigma$\n",
        "\n",
        "Правило 3 сігма застосовується у багатьох сферах, включаючи статистику, управління якістю, фінанси, інженерію та наукові дослідження. Воно допомагає у визначенні нормальності даних, встановленні меж допустимих варіацій процесів та ідентифікації потенційних викидів або аномалій.\n",
        "\n",
        "В управлінні якістю, наприклад, правило 3 сігма може використовуватися для моніторингу та контролю виробничих процесів, з метою забезпечення того, щоб більшість продукції відповідала стандартам якості. Аномалії, що виходять за межі трьох сігм, можуть вказувати на потребу в коригувальних діях або покращеннях процесу.\n",
        "\n",
        "У фінансах, правило 3 сігма використовується для оцінки ризиків та волатильності інвестиційних інструментів, допомагаючи інвесторам розуміти потенційні втрати або виграші в межах заданого періоду часу.\n",
        "\n",
        "Це правило є потужним інструментом для аналізу даних, що дозволяє з високою довірою прогнозувати ймовірність виникнення певних подій або відхилень у процесах і системах."
      ],
      "metadata": {
        "id": "ivJmdQHBEePb"
      }
    },
    {
      "cell_type": "markdown",
      "source": [
        "\n",
        "# Коваріація\n",
        "\n",
        "**Коваріація** — це міра того, наскільки дві змінні змінюються разом. Якщо дві змінні мають тенденцію зростати або зменшуватися разом, їхня коваріація буде позитивною. Якщо одна змінна зростає, коли інша зменшується, їхня коваріація буде негативною. Формула для розрахунку коваріації для вибірки виглядає так:\n",
        "\n",
        "$$ Cov(X, Y) = \\frac{1}{n-1} \\sum_{i=1}^{n} (x_i - \\bar{x})(y_i - \\bar{y}) $$\n",
        "\n",
        "де:\n",
        "- $X$ і $Y$ — дві змінні, для яких розраховується коваріація,\n",
        "- $x_i$ і $y_i$ — окремі значення спостережень для змінних $X$ і $Y$,\n",
        "- $\\bar{x}$ і $\\bar{y}$ — середні значення змінних $X$ і $Y$,\n",
        "- $n$ — кількість спостережень (або пар значень $X$ і $Y$).\n",
        "\n",
        "### Чому формула саме така?\n",
        "\n",
        "1. **Відхилення від середнього:** Вирази $x_i - \\bar{x}$ та $y_i - \\bar{y}$ представляють відхилення кожного спостереження від середнього значення своєї змінної. Це дає змогу виміряти, наскільки далеко кожне спостереження лежить від \"типового\" значення змінної.\n",
        "\n",
        "2. **Добуток відхилень:** Множення цих відхилень одне на одне для кожної пари значень $X$ і $Y$ дозволяє визначити, чи змінюються обидві змінні в одному напрямку (позитивно або негативно) та наскільки сильно. Якщо обидві змінні збільшуються або зменшуються разом, добуток буде позитивним, що вказує на позитивну взаємодію. Якщо одна змінна збільшується, коли інша зменшується, добуток буде негативним, що вказує на негативну взаємодію.\n",
        "\n",
        "3. **Сумування та нормалізація:** Сумування всіх цих добутків відхилень для кожної пари спостережень дає загальну міру взаємодії між змінними. Ділення суми на $n-1$ (замість $n$) є методом нормалізації, що враховує ступінь свободи у вибірці та забезпечує неупереджену оцінку коваріації для генеральної сукупності.\n"
      ],
      "metadata": {
        "id": "k0941UsrBgUP"
      }
    },
    {
      "cell_type": "code",
      "source": [
        "x, y"
      ],
      "metadata": {
        "colab": {
          "base_uri": "https://localhost:8080/"
        },
        "id": "ccRlmNikczw8",
        "outputId": "93f45efd-1b6f-485e-8897-8cb4d64ae331"
      },
      "execution_count": 25,
      "outputs": [
        {
          "output_type": "execute_result",
          "data": {
            "text/plain": [
              "([6, 12, 13, 17, 22, 25, 27, 29, 30, 32],\n",
              " [45, 47, 39, 58, 68, 76, 75, 74, 78, 81])"
            ]
          },
          "metadata": {},
          "execution_count": 25
        }
      ]
    },
    {
      "cell_type": "code",
      "source": [
        "import matplotlib.pyplot as plt\n",
        "plt.plot(x, y, 'o');"
      ],
      "metadata": {
        "colab": {
          "base_uri": "https://localhost:8080/",
          "height": 430
        },
        "id": "fLoV8-bbNWgp",
        "outputId": "c1ba05e9-a3d4-4d51-f093-b5639aca0f87"
      },
      "execution_count": 24,
      "outputs": [
        {
          "output_type": "display_data",
          "data": {
            "text/plain": [
              "<Figure size 640x480 with 1 Axes>"
            ],
            "image/png": "[encoded data removed]"
          },
          "metadata": {}
        }
      ]
    },
    {
      "cell_type": "markdown",
      "source": [
        "Коваріація х і у:"
      ],
      "metadata": {
        "id": "5aZfJM42i5FT"
      }
    },
    {
      "cell_type": "code",
      "source": [
        "xy = [ (x[i] - mean_x)*(y[i] - mean_y) for i in range(len(x))]\n",
        "\n",
        "cov_xy = sum(xy)/(len(x)-1)"
      ],
      "metadata": {
        "id": "if5QuoPshuBN"
      },
      "execution_count": 28,
      "outputs": []
    },
    {
      "cell_type": "code",
      "source": [
        "cov_xy"
      ],
      "metadata": {
        "colab": {
          "base_uri": "https://localhost:8080/"
        },
        "id": "hmgpQniNjPjd",
        "outputId": "5172c4e8-b371-4fc9-ad26-4261cd93060c"
      },
      "execution_count": 29,
      "outputs": [
        {
          "output_type": "execute_result",
          "data": {
            "text/plain": [
              "130.3"
            ]
          },
          "metadata": {},
          "execution_count": 29
        }
      ]
    },
    {
      "cell_type": "markdown",
      "source": [
        "Перевіримо побудувавши матрицю коваріації, де на діагоналі - варіація вибірки (стандартне відхилення в квадраті), а поза діагоналлю - коваріація. Вона та сама, адже є симетричною операцією."
      ],
      "metadata": {
        "id": "RstQ3sJTjq1i"
      }
    },
    {
      "cell_type": "code",
      "source": [
        "np.var(x, ddof=1)"
      ],
      "metadata": {
        "colab": {
          "base_uri": "https://localhost:8080/"
        },
        "id": "XtaKEE5FcvX-",
        "outputId": "96cb781a-dfc0-4b23-cee6-2730705b7678"
      },
      "execution_count": 30,
      "outputs": [
        {
          "output_type": "execute_result",
          "data": {
            "text/plain": [
              "np.float64(78.23333333333333)"
            ]
          },
          "metadata": {},
          "execution_count": 30
        }
      ]
    },
    {
      "cell_type": "code",
      "source": [
        "np.cov(x,y)"
      ],
      "metadata": {
        "colab": {
          "base_uri": "https://localhost:8080/"
        },
        "id": "6cGhgqd1jZ3s",
        "outputId": "17d456ff-8646-4888-aca6-e934254e8376"
      },
      "execution_count": 31,
      "outputs": [
        {
          "output_type": "execute_result",
          "data": {
            "text/plain": [
              "array([[ 78.23333333, 130.3       ],\n",
              "       [130.3       , 241.87777778]])"
            ]
          },
          "metadata": {},
          "execution_count": 31
        }
      ]
    },
    {
      "cell_type": "markdown",
      "source": [
        "## Кореляція Коефіцієнт кореляції\n",
        "\n",
        "Кореляція (англ. correlation) - це статистичний показник, який описує, наскільки тісно пов'язані між собою дві змінні. Якщо одна змінна змінюється, кореляція дає зрозуміти, чи можна очікувати зміни і в другій змінній, і наскільки сильним буде цей взаємозв'язок. Важливо пам'ятати, що кореляція **не говорить про причинно-наслідкові зв'язки**, тобто про те, що одна змінна обов'язково впливає на іншу.\n",
        "\n",
        "Припустимо, що ми зібрали дані від групи студентів, які вивчають англійську мову, і занотували, скільки часу кожен студент витрачає на вивчення мови щотижня, та їх рівень володіння мовою за результатами тестування.\n",
        "Якщо ми побачимо, що студенти, які проводять більше часу за вивченням мови, загалом показують кращі результати тестів, ніж ті, хто вивчає її менше часу, ми можемо сказати, що між часом, витраченим на вивчення мови, та рівнем знань існує позитивна кореляція. Це означає, що зі збільшенням однієї змінної (часу на вивчення) зростає і інша змінна (рівень володіння мовою).\n",
        "\n",
        "Важливо розуміти, що **хоча між цими двома змінними є кореляція, це не обов'язково означає, що саме витрачений час прямо спричиняє покращення знань мови, але вказує на наявність взаємозв'язку між ними**!\n",
        "\n",
        "**КОРЕЛЯЦІЯ - НЕ ЗНАЧИТЬ КАУЗАЛЬНІСТЬ!**\n",
        "\n",
        "Існує кілька ключових мір кореляції, кожна з яких підходить для різних типів даних та вимог до аналізу. Познайомимось з першою і найбільш вживаною з них - коефіцієнтом кореляції Пірсона.\n",
        "\n",
        "## Коефіцієнт кореляції Пірсона\n",
        "\n",
        "Коефіцієнт кореляції Пірсона використовується для вимірювання сили та напрямку **лінійного** взаємозв'язку між двома змінними. Це нормалізована версія коваріації, яка приймає значення від -1 до 1, де 1 означає ідеальну позитивну лінійну кореляцію, -1 — ідеальну негативну лінійну кореляцію, а 0 — відсутність лінійного взаємозв'язку.\n",
        "\n",
        "Формула для розрахунку коефіцієнта кореляції Пірсона:\n",
        "\n",
        "$$ r = \\frac{\\text{Cov}(X, Y)}{\\sigma_X \\sigma_Y} $$\n",
        "\n",
        "де:\n",
        "- $ r $ — коефіцієнт кореляції між змінними X та Y,\n",
        "- $ \\text{Cov}(X, Y) $ — вибіркова коваріація між X та Y,\n",
        "- $ \\sigma_X $ та $ \\sigma_Y $ — стандартні відхилення змінних X та Y відповідно.\n",
        "\n",
        "Коефіцієнт кореляції дає можливість зрозуміти не тільки напрямок, але й силу зв'язку між змінними, дозволяючи оцінити, наскільки точно одну змінну можна передбачити за допомогою іншої.\n",
        "\n",
        "\n",
        "![](https://drive.google.com/uc?export=view&id=15w6rDWOT12Rqd6JMsHlWKO_ufXp5l0_i)\n",
        "\n",
        "\n",
        "Для детальнішого розуміння, як розраховується вибірковий коефіцієнт кореляції Пірсона для вибірки, можемо розкласти цю формулу на більш базові компоненти. Коефіцієнт кореляції Пірсона $ r $ для вибірки визначається як:\n",
        "\n",
        "$ r = \\frac{\\text{Cov}(X, Y)}{\\sigma_X \\sigma_Y} $\n",
        "\n",
        "де:\n",
        "- $ \\text{Cov}(X, Y) $ — це вибіркова коваріація між змінними $ X $ та $ Y $,\n",
        "- $ \\sigma_X $ та $ \\sigma_Y $ — стандартні відхилення змінних $ X $ та $ Y $ відповідно.\n",
        "\n",
        "Спочатку давайте подивимося на розрахунок вибіркової коваріації $ \\text{Cov}(X, Y) $:\n",
        "\n",
        "$ \\text{Cov}(X, Y) = \\frac{1}{n-1} \\sum_{i=1}^{n} (x_i - \\bar{x})(y_i - \\bar{y}) $\n",
        "\n",
        "де $ x_i $ та $ y_i $ є індивідуальними значеннями змінних $ X $ та $ Y $ для кожного спостереження $ i $, $ \\bar{x} $ та $ \\bar{y} $ — вибіркові середні цих змінних, і $ n $ — загальна кількість спостережень у вибірці.\n",
        "\n",
        "Далі, стандартні відхилення $ \\sigma_X $ та $ \\sigma_Y $ можуть бути визначені як:\n",
        "\n",
        "$ \\sigma_X = \\sqrt{\\frac{1}{n-1} \\sum_{i=1}^{n} (x_i - \\bar{x})^2} $\n",
        "\n",
        "$ \\sigma_Y = \\sqrt{\\frac{1}{n-1} \\sum_{i=1}^{n} (y_i - \\bar{y})^2} $\n",
        "\n",
        "Тепер, маючи розраховані вибіркову коваріацію та стандартні відхилення для кожної зі змінних, ми можемо підставити їх у формулу коефіцієнта кореляції:\n",
        "\n",
        "$ r = {\\frac {\\sum _{i=1}^{n}(x_{i}-{\\bar {x}})(y_{i}-{\\bar {y}})}{{\\sqrt {\\sum _{i=1}^{n}(x_{i}-{\\bar {x}})^{2}}}{\\sqrt {\\sum _{i=1}^{n}(y_{i}-{\\bar {y}})^{2}}}}}$\n",
        "\n",
        "\n",
        "Приклад розрахунку кореляції покроково для наших даних:\n",
        "\n",
        "![](https://drive.google.com/uc?export=view&id=1LpT2qnWpfAHSpEtidjnrctM7y9RlKL2L)"
      ],
      "metadata": {
        "id": "QUsLnjqeMZbu"
      }
    },
    {
      "cell_type": "markdown",
      "source": [
        "Розрахунок кореляції:"
      ],
      "metadata": {
        "id": "tHafaLbHj8g7"
      }
    },
    {
      "cell_type": "code",
      "source": [
        "cov_xy / (std_x_sample * std_y_sample)"
      ],
      "metadata": {
        "colab": {
          "base_uri": "https://localhost:8080/"
        },
        "id": "9aVfJl7Jjgvm",
        "outputId": "b0cf5d55-03e6-47d6-b046-ec0f4d2356ea"
      },
      "execution_count": 32,
      "outputs": [
        {
          "output_type": "execute_result",
          "data": {
            "text/plain": [
              "np.float64(0.9472192452662753)"
            ]
          },
          "metadata": {},
          "execution_count": 32
        }
      ]
    },
    {
      "cell_type": "code",
      "source": [
        "np.corrcoef(x,y)"
      ],
      "metadata": {
        "colab": {
          "base_uri": "https://localhost:8080/"
        },
        "id": "7-gJih-Okag-",
        "outputId": "5e404e91-7a59-4214-b068-84d88af29bbb"
      },
      "execution_count": 33,
      "outputs": [
        {
          "output_type": "execute_result",
          "data": {
            "text/plain": [
              "array([[1.        , 0.94721925],\n",
              "       [0.94721925, 1.        ]])"
            ]
          },
          "metadata": {},
          "execution_count": 33
        }
      ]
    }
  ]
}