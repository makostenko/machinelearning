{
  "nbformat": 4,
  "nbformat_minor": 0,
  "metadata": {
    "colab": {
      "provenance": []
    },
    "kernelspec": {
      "name": "python3",
      "display_name": "Python 3"
    },
    "language_info": {
      "name": "python"
    }
  },
  "cells": [
    {
      "cell_type": "markdown",
      "source": [
        "В цьому домашньому завданні ми знову працюємо з даними з нашого змагання [\"Bank Customer Churn Prediction (DLU Course)\"](https://www.kaggle.com/t/7c080c5d8ec64364a93cf4e8f880b6a0).\n",
        "\n",
        "Тут ми побудуємо рішення задачі класифікації з використанням алгоритмів бустингу: XGBoost та LightGBM, а також використаємо бібліотеку HyperOpt для оптимізації гіперпараметрів."
      ],
      "metadata": {
        "id": "fDefDHQt8LXC"
      }
    },
    {
      "cell_type": "markdown",
      "source": [
        "0. Зчитайте дані `train.csv` в змінну `raw_df` та скористайтесь наведеним кодом нижче аби розділити дані на трнувальні та валідаційні і розділити дані на ознаки з матириці Х та цільову змінну. Назви змінних `train_inputs, train_targets, train_inputs, train_targets` можна змінити на ті, які Вам зручно.\n",
        "\n",
        "  Наведений скрипт - частина отриманого мною скрипта для обробки даних. Ми тут не викнуємо масштабування та обробку категоріальних змінних, бо хочемо це делегувати алгоритмам, які будемо використовувати. Якщо щось не розумієте в наведених скриптах, рекомендую розібратись: навичка читати код - важлива складова роботи в машинному навчанні."
      ],
      "metadata": {
        "id": "LhivzW9W8-Dz"
      }
    },
    {
      "cell_type": "code",
      "source": [
        "import pandas as pd\n",
        "import numpy as np\n",
        "import seaborn as sns\n",
        "import matplotlib.pyplot as plt\n",
        "from sklearn.model_selection import train_test_split\n",
        "from typing import Tuple, Dict, Any"
      ],
      "metadata": {
        "id": "ODNxMjPAekWJ"
      },
      "execution_count": 2,
      "outputs": []
    },
    {
      "cell_type": "code",
      "source": [
        "def split_train_val(df: pd.DataFrame, target_col: str, test_size: float = 0.2, random_state: int = 42) -> Tuple[pd.DataFrame, pd.DataFrame]:\n",
        "    train_df, val_df = train_test_split(df, test_size=test_size, random_state=random_state, stratify=df[target_col])\n",
        "    return train_df, val_df\n",
        "\n",
        "def separate_inputs_targets(df: pd.DataFrame, input_cols: list, target_col: str) -> Tuple[pd.DataFrame, pd.Series]:\n",
        "    inputs = df[input_cols].copy()\n",
        "    targets = df[target_col].copy()\n",
        "    return inputs, targets"
      ],
      "metadata": {
        "id": "5GF8HuNDfAKS"
      },
      "execution_count": 3,
      "outputs": []
    },
    {
      "cell_type": "code",
      "source": [
        "raw_df = pd.read_csv(\"train.csv\")\n",
        "\n",
        "# Назва цільової змінної\n",
        "target_col = \"Exited\"\n",
        "\n",
        "# Список ознак (усі, крім цільової)\n",
        "input_cols = [col for col in raw_df.columns if col != target_col]\n",
        "\n",
        "# Розділення на тренувальний та валідаційний датасет\n",
        "train_df, val_df = split_train_val(raw_df, target_col)\n",
        "\n",
        "# Розділення на ознаки та ціль\n",
        "train_inputs, train_targets = separate_inputs_targets(train_df, input_cols, target_col)\n",
        "val_inputs, val_targets = separate_inputs_targets(val_df, input_cols, target_col)\n",
        "\n",
        "# Перевіримо розміри\n",
        "print(f\"Train set: {train_inputs.shape}, Validation set: {val_inputs.shape}\")\n"
      ],
      "metadata": {
        "colab": {
          "base_uri": "https://localhost:8080/"
        },
        "id": "LBhocmJlfBGK",
        "outputId": "6e801966-3d8c-4b59-b22b-45215c250c4f"
      },
      "execution_count": 5,
      "outputs": [
        {
          "output_type": "stream",
          "name": "stdout",
          "text": [
            "Train set: (12000, 13), Validation set: (3000, 13)\n"
          ]
        }
      ]
    },
    {
      "cell_type": "markdown",
      "source": [
        "1. В тренувальному та валідаційному наборі перетворіть категоріальні ознаки на тип `category`. Можна це зробити двома способами:\n",
        " 1. `df[col_name].astype('category')`, як було продемонстровано в лекції\n",
        " 2. використовуючи метод `pd.Categorical(df[col_name])`"
      ],
      "metadata": {
        "id": "cq0JU7MqHgp_"
      }
    },
    {
      "cell_type": "code",
      "source": [
        "# Подивимось типи даних у train_inputs\n",
        "train_inputs.dtypes"
      ],
      "metadata": {
        "id": "UPmqo-Mr4yUO",
        "colab": {
          "base_uri": "https://localhost:8080/",
          "height": 499
        },
        "outputId": "c24d9854-0641-4942-ae33-0b986a658947"
      },
      "execution_count": 6,
      "outputs": [
        {
          "output_type": "execute_result",
          "data": {
            "text/plain": [
              "id                   int64\n",
              "CustomerId         float64\n",
              "Surname             object\n",
              "CreditScore        float64\n",
              "Geography           object\n",
              "Gender              object\n",
              "Age                float64\n",
              "Tenure             float64\n",
              "Balance            float64\n",
              "NumOfProducts      float64\n",
              "HasCrCard          float64\n",
              "IsActiveMember     float64\n",
              "EstimatedSalary    float64\n",
              "dtype: object"
            ],
            "text/html": [
              "<div>\n",
              "<style scoped>\n",
              "    .dataframe tbody tr th:only-of-type {\n",
              "        vertical-align: middle;\n",
              "    }\n",
              "\n",
              "    .dataframe tbody tr th {\n",
              "        vertical-align: top;\n",
              "    }\n",
              "\n",
              "    .dataframe thead th {\n",
              "        text-align: right;\n",
              "    }\n",
              "</style>\n",
              "<table border=\"1\" class=\"dataframe\">\n",
              "  <thead>\n",
              "    <tr style=\"text-align: right;\">\n",
              "      <th></th>\n",
              "      <th>0</th>\n",
              "    </tr>\n",
              "  </thead>\n",
              "  <tbody>\n",
              "    <tr>\n",
              "      <th>id</th>\n",
              "      <td>int64</td>\n",
              "    </tr>\n",
              "    <tr>\n",
              "      <th>CustomerId</th>\n",
              "      <td>float64</td>\n",
              "    </tr>\n",
              "    <tr>\n",
              "      <th>Surname</th>\n",
              "      <td>object</td>\n",
              "    </tr>\n",
              "    <tr>\n",
              "      <th>CreditScore</th>\n",
              "      <td>float64</td>\n",
              "    </tr>\n",
              "    <tr>\n",
              "      <th>Geography</th>\n",
              "      <td>object</td>\n",
              "    </tr>\n",
              "    <tr>\n",
              "      <th>Gender</th>\n",
              "      <td>object</td>\n",
              "    </tr>\n",
              "    <tr>\n",
              "      <th>Age</th>\n",
              "      <td>float64</td>\n",
              "    </tr>\n",
              "    <tr>\n",
              "      <th>Tenure</th>\n",
              "      <td>float64</td>\n",
              "    </tr>\n",
              "    <tr>\n",
              "      <th>Balance</th>\n",
              "      <td>float64</td>\n",
              "    </tr>\n",
              "    <tr>\n",
              "      <th>NumOfProducts</th>\n",
              "      <td>float64</td>\n",
              "    </tr>\n",
              "    <tr>\n",
              "      <th>HasCrCard</th>\n",
              "      <td>float64</td>\n",
              "    </tr>\n",
              "    <tr>\n",
              "      <th>IsActiveMember</th>\n",
              "      <td>float64</td>\n",
              "    </tr>\n",
              "    <tr>\n",
              "      <th>EstimatedSalary</th>\n",
              "      <td>float64</td>\n",
              "    </tr>\n",
              "  </tbody>\n",
              "</table>\n",
              "</div><br><label><b>dtype:</b> object</label>"
            ]
          },
          "metadata": {},
          "execution_count": 6
        }
      ]
    },
    {
      "cell_type": "code",
      "source": [
        "categorical_cols = ['Geography', 'Gender', 'HasCrCard', 'IsActiveMember']"
      ],
      "metadata": {
        "id": "XPbPN98_gGPw"
      },
      "execution_count": 7,
      "outputs": []
    },
    {
      "cell_type": "code",
      "source": [
        "# Перетворення в категоріальні типи\n",
        "for col in categorical_cols:\n",
        "    train_inputs[col] = train_inputs[col].astype('category')\n",
        "    val_inputs[col] = val_inputs[col].astype('category')"
      ],
      "metadata": {
        "id": "kGdVbPTwgIol"
      },
      "execution_count": 8,
      "outputs": []
    },
    {
      "cell_type": "code",
      "source": [
        "# Оновлюємо список ознак (input_cols) — без ID та прізвища\n",
        "exclude_cols = ['id', 'CustomerId', 'Surname', 'Exited']  # 'Exited' — ціль\n",
        "input_cols = [col for col in raw_df.columns if col not in exclude_cols]\n",
        "\n",
        "# Заново формуємо дані\n",
        "train_inputs, train_targets = separate_inputs_targets(train_df, input_cols, target_col)\n",
        "val_inputs, val_targets = separate_inputs_targets(val_df, input_cols, target_col)\n",
        "\n",
        "# Перетворюємо категоріальні ознаки\n",
        "for col in categorical_cols:\n",
        "    train_inputs[col] = train_inputs[col].astype('category')\n",
        "    val_inputs[col] = val_inputs[col].astype('category')"
      ],
      "metadata": {
        "id": "9HhV8RbhgMUB"
      },
      "execution_count": 9,
      "outputs": []
    },
    {
      "cell_type": "markdown",
      "source": [
        "2. Навчіть на отриманих даних модель `XGBoostClassifier`. Параметри алгоритму встановіть на свій розсуд, ми далі будемо їх тюнити. Рекомендую тренувати не дуже складну модель.\n",
        "\n",
        "  Опис всіх конфігураційних параметрів XGBoostClassifier - тут https://xgboost.readthedocs.io/en/stable/parameter.html#global-config\n",
        "\n",
        "  **Важливо:** зробіть такі налаштування `XGBoostClassifier` аби він самостійно обробляв незаповнені значення в даних і обробляв категоріальні колонки.\n",
        "\n",
        "  Можна також, якщо працюєте в Google Colab, увімкнути можливість використання GPU (`Runtime -> Change runtime type -> T4 GPU`) і встановити параметр `device='cuda'` в `XGBoostClassifier` для пришвидшення тренування бустинг моделі.\n",
        "  \n",
        "  Після тренування моделі\n",
        "  1. Виміряйте точність з допомогою AUROC на тренувальному та валідаційному наборах.\n",
        "  2. Зробіть висновок про отриману модель: вона хороша/погана, чи є high bias/high variance?\n",
        "  3. Порівняйте якість цієї моделі з тою, що ви отрмали з використанням DecisionTrees раніше. Чи вийшло покращити якість?"
      ],
      "metadata": {
        "id": "_LxWkv4o-wMe"
      }
    },
    {
      "cell_type": "code",
      "source": [
        "!pip install xgboost --quiet"
      ],
      "metadata": {
        "id": "_5rDqdDP41hb"
      },
      "execution_count": 10,
      "outputs": []
    },
    {
      "cell_type": "code",
      "source": [
        "import xgboost as xgb\n",
        "from xgboost import XGBClassifier\n",
        "from sklearn.metrics import roc_auc_score\n",
        "\n",
        "# Базові параметри моделі\n",
        "xgb_model = XGBClassifier(\n",
        "    n_estimators=100,\n",
        "    max_depth=4,\n",
        "    learning_rate=0.1,\n",
        "    objective='binary:logistic',\n",
        "    tree_method='hist',  # 'gpu_hist' якщо є GPU\n",
        "    enable_categorical=True,  # обробка категорій\n",
        "    use_label_encoder=False,\n",
        "    random_state=42,\n",
        "    device='cuda'  #  (Runtime > Change runtime type > GPU)\n",
        ")\n",
        "\n",
        "# Навчання моделі\n",
        "xgb_model.fit(train_inputs, train_targets)"
      ],
      "metadata": {
        "colab": {
          "base_uri": "https://localhost:8080/",
          "height": 396
        },
        "id": "LwaeHCNhgdbk",
        "outputId": "4731f716-9f07-4f25-cb26-7635594dd3b4"
      },
      "execution_count": 11,
      "outputs": [
        {
          "output_type": "stream",
          "name": "stderr",
          "text": [
            "/usr/local/lib/python3.11/dist-packages/xgboost/training.py:183: UserWarning: [11:36:44] WARNING: /workspace/src/context.cc:49: No visible GPU is found, setting device to CPU.\n",
            "  bst.update(dtrain, iteration=i, fobj=obj)\n",
            "/usr/local/lib/python3.11/dist-packages/xgboost/training.py:183: UserWarning: [11:36:44] WARNING: /workspace/src/context.cc:203: XGBoost is not compiled with CUDA support.\n",
            "  bst.update(dtrain, iteration=i, fobj=obj)\n",
            "/usr/local/lib/python3.11/dist-packages/xgboost/training.py:183: UserWarning: [11:36:44] WARNING: /workspace/src/learner.cc:738: \n",
            "Parameters: { \"use_label_encoder\" } are not used.\n",
            "\n",
            "  bst.update(dtrain, iteration=i, fobj=obj)\n"
          ]
        },
        {
          "output_type": "execute_result",
          "data": {
            "text/plain": [
              "XGBClassifier(base_score=None, booster=None, callbacks=None,\n",
              "              colsample_bylevel=None, colsample_bynode=None,\n",
              "              colsample_bytree=None, device='cuda', early_stopping_rounds=None,\n",
              "              enable_categorical=True, eval_metric=None, feature_types=None,\n",
              "              feature_weights=None, gamma=None, grow_policy=None,\n",
              "              importance_type=None, interaction_constraints=None,\n",
              "              learning_rate=0.1, max_bin=None, max_cat_threshold=None,\n",
              "              max_cat_to_onehot=None, max_delta_step=None, max_depth=4,\n",
              "              max_leaves=None, min_child_weight=None, missing=nan,\n",
              "              monotone_constraints=None, multi_strategy=None, n_estimators=100,\n",
              "              n_jobs=None, num_parallel_tree=None, ...)"
            ],
            "text/html": [
              "<style>#sk-container-id-1 {\n",
              "  /* Definition of color scheme common for light and dark mode */\n",
              "  --sklearn-color-text: #000;\n",
              "  --sklearn-color-text-muted: #666;\n",
              "  --sklearn-color-line: gray;\n",
              "  /* Definition of color scheme for unfitted estimators */\n",
              "  --sklearn-color-unfitted-level-0: #fff5e6;\n",
              "  --sklearn-color-unfitted-level-1: #f6e4d2;\n",
              "  --sklearn-color-unfitted-level-2: #ffe0b3;\n",
              "  --sklearn-color-unfitted-level-3: chocolate;\n",
              "  /* Definition of color scheme for fitted estimators */\n",
              "  --sklearn-color-fitted-level-0: #f0f8ff;\n",
              "  --sklearn-color-fitted-level-1: #d4ebff;\n",
              "  --sklearn-color-fitted-level-2: #b3dbfd;\n",
              "  --sklearn-color-fitted-level-3: cornflowerblue;\n",
              "\n",
              "  /* Specific color for light theme */\n",
              "  --sklearn-color-text-on-default-background: var(--sg-text-color, var(--theme-code-foreground, var(--jp-content-font-color1, black)));\n",
              "  --sklearn-color-background: var(--sg-background-color, var(--theme-background, var(--jp-layout-color0, white)));\n",
              "  --sklearn-color-border-box: var(--sg-text-color, var(--theme-code-foreground, var(--jp-content-font-color1, black)));\n",
              "  --sklearn-color-icon: #696969;\n",
              "\n",
              "  @media (prefers-color-scheme: dark) {\n",
              "    /* Redefinition of color scheme for dark theme */\n",
              "    --sklearn-color-text-on-default-background: var(--sg-text-color, var(--theme-code-foreground, var(--jp-content-font-color1, white)));\n",
              "    --sklearn-color-background: var(--sg-background-color, var(--theme-background, var(--jp-layout-color0, #111)));\n",
              "    --sklearn-color-border-box: var(--sg-text-color, var(--theme-code-foreground, var(--jp-content-font-color1, white)));\n",
              "    --sklearn-color-icon: #878787;\n",
              "  }\n",
              "}\n",
              "\n",
              "#sk-container-id-1 {\n",
              "  color: var(--sklearn-color-text);\n",
              "}\n",
              "\n",
              "#sk-container-id-1 pre {\n",
              "  padding: 0;\n",
              "}\n",
              "\n",
              "#sk-container-id-1 input.sk-hidden--visually {\n",
              "  border: 0;\n",
              "  clip: rect(1px 1px 1px 1px);\n",
              "  clip: rect(1px, 1px, 1px, 1px);\n",
              "  height: 1px;\n",
              "  margin: -1px;\n",
              "  overflow: hidden;\n",
              "  padding: 0;\n",
              "  position: absolute;\n",
              "  width: 1px;\n",
              "}\n",
              "\n",
              "#sk-container-id-1 div.sk-dashed-wrapped {\n",
              "  border: 1px dashed var(--sklearn-color-line);\n",
              "  margin: 0 0.4em 0.5em 0.4em;\n",
              "  box-sizing: border-box;\n",
              "  padding-bottom: 0.4em;\n",
              "  background-color: var(--sklearn-color-background);\n",
              "}\n",
              "\n",
              "#sk-container-id-1 div.sk-container {\n",
              "  /* jupyter's `normalize.less` sets `[hidden] { display: none; }`\n",
              "     but bootstrap.min.css set `[hidden] { display: none !important; }`\n",
              "     so we also need the `!important` here to be able to override the\n",
              "     default hidden behavior on the sphinx rendered scikit-learn.org.\n",
              "     See: https://github.com/scikit-learn/scikit-learn/issues/21755 */\n",
              "  display: inline-block !important;\n",
              "  position: relative;\n",
              "}\n",
              "\n",
              "#sk-container-id-1 div.sk-text-repr-fallback {\n",
              "  display: none;\n",
              "}\n",
              "\n",
              "div.sk-parallel-item,\n",
              "div.sk-serial,\n",
              "div.sk-item {\n",
              "  /* draw centered vertical line to link estimators */\n",
              "  background-image: linear-gradient(var(--sklearn-color-text-on-default-background), var(--sklearn-color-text-on-default-background));\n",
              "  background-size: 2px 100%;\n",
              "  background-repeat: no-repeat;\n",
              "  background-position: center center;\n",
              "}\n",
              "\n",
              "/* Parallel-specific style estimator block */\n",
              "\n",
              "#sk-container-id-1 div.sk-parallel-item::after {\n",
              "  content: \"\";\n",
              "  width: 100%;\n",
              "  border-bottom: 2px solid var(--sklearn-color-text-on-default-background);\n",
              "  flex-grow: 1;\n",
              "}\n",
              "\n",
              "#sk-container-id-1 div.sk-parallel {\n",
              "  display: flex;\n",
              "  align-items: stretch;\n",
              "  justify-content: center;\n",
              "  background-color: var(--sklearn-color-background);\n",
              "  position: relative;\n",
              "}\n",
              "\n",
              "#sk-container-id-1 div.sk-parallel-item {\n",
              "  display: flex;\n",
              "  flex-direction: column;\n",
              "}\n",
              "\n",
              "#sk-container-id-1 div.sk-parallel-item:first-child::after {\n",
              "  align-self: flex-end;\n",
              "  width: 50%;\n",
              "}\n",
              "\n",
              "#sk-container-id-1 div.sk-parallel-item:last-child::after {\n",
              "  align-self: flex-start;\n",
              "  width: 50%;\n",
              "}\n",
              "\n",
              "#sk-container-id-1 div.sk-parallel-item:only-child::after {\n",
              "  width: 0;\n",
              "}\n",
              "\n",
              "/* Serial-specific style estimator block */\n",
              "\n",
              "#sk-container-id-1 div.sk-serial {\n",
              "  display: flex;\n",
              "  flex-direction: column;\n",
              "  align-items: center;\n",
              "  background-color: var(--sklearn-color-background);\n",
              "  padding-right: 1em;\n",
              "  padding-left: 1em;\n",
              "}\n",
              "\n",
              "\n",
              "/* Toggleable style: style used for estimator/Pipeline/ColumnTransformer box that is\n",
              "clickable and can be expanded/collapsed.\n",
              "- Pipeline and ColumnTransformer use this feature and define the default style\n",
              "- Estimators will overwrite some part of the style using the `sk-estimator` class\n",
              "*/\n",
              "\n",
              "/* Pipeline and ColumnTransformer style (default) */\n",
              "\n",
              "#sk-container-id-1 div.sk-toggleable {\n",
              "  /* Default theme specific background. It is overwritten whether we have a\n",
              "  specific estimator or a Pipeline/ColumnTransformer */\n",
              "  background-color: var(--sklearn-color-background);\n",
              "}\n",
              "\n",
              "/* Toggleable label */\n",
              "#sk-container-id-1 label.sk-toggleable__label {\n",
              "  cursor: pointer;\n",
              "  display: flex;\n",
              "  width: 100%;\n",
              "  margin-bottom: 0;\n",
              "  padding: 0.5em;\n",
              "  box-sizing: border-box;\n",
              "  text-align: center;\n",
              "  align-items: start;\n",
              "  justify-content: space-between;\n",
              "  gap: 0.5em;\n",
              "}\n",
              "\n",
              "#sk-container-id-1 label.sk-toggleable__label .caption {\n",
              "  font-size: 0.6rem;\n",
              "  font-weight: lighter;\n",
              "  color: var(--sklearn-color-text-muted);\n",
              "}\n",
              "\n",
              "#sk-container-id-1 label.sk-toggleable__label-arrow:before {\n",
              "  /* Arrow on the left of the label */\n",
              "  content: \"▸\";\n",
              "  float: left;\n",
              "  margin-right: 0.25em;\n",
              "  color: var(--sklearn-color-icon);\n",
              "}\n",
              "\n",
              "#sk-container-id-1 label.sk-toggleable__label-arrow:hover:before {\n",
              "  color: var(--sklearn-color-text);\n",
              "}\n",
              "\n",
              "/* Toggleable content - dropdown */\n",
              "\n",
              "#sk-container-id-1 div.sk-toggleable__content {\n",
              "  max-height: 0;\n",
              "  max-width: 0;\n",
              "  overflow: hidden;\n",
              "  text-align: left;\n",
              "  /* unfitted */\n",
              "  background-color: var(--sklearn-color-unfitted-level-0);\n",
              "}\n",
              "\n",
              "#sk-container-id-1 div.sk-toggleable__content.fitted {\n",
              "  /* fitted */\n",
              "  background-color: var(--sklearn-color-fitted-level-0);\n",
              "}\n",
              "\n",
              "#sk-container-id-1 div.sk-toggleable__content pre {\n",
              "  margin: 0.2em;\n",
              "  border-radius: 0.25em;\n",
              "  color: var(--sklearn-color-text);\n",
              "  /* unfitted */\n",
              "  background-color: var(--sklearn-color-unfitted-level-0);\n",
              "}\n",
              "\n",
              "#sk-container-id-1 div.sk-toggleable__content.fitted pre {\n",
              "  /* unfitted */\n",
              "  background-color: var(--sklearn-color-fitted-level-0);\n",
              "}\n",
              "\n",
              "#sk-container-id-1 input.sk-toggleable__control:checked~div.sk-toggleable__content {\n",
              "  /* Expand drop-down */\n",
              "  max-height: 200px;\n",
              "  max-width: 100%;\n",
              "  overflow: auto;\n",
              "}\n",
              "\n",
              "#sk-container-id-1 input.sk-toggleable__control:checked~label.sk-toggleable__label-arrow:before {\n",
              "  content: \"▾\";\n",
              "}\n",
              "\n",
              "/* Pipeline/ColumnTransformer-specific style */\n",
              "\n",
              "#sk-container-id-1 div.sk-label input.sk-toggleable__control:checked~label.sk-toggleable__label {\n",
              "  color: var(--sklearn-color-text);\n",
              "  background-color: var(--sklearn-color-unfitted-level-2);\n",
              "}\n",
              "\n",
              "#sk-container-id-1 div.sk-label.fitted input.sk-toggleable__control:checked~label.sk-toggleable__label {\n",
              "  background-color: var(--sklearn-color-fitted-level-2);\n",
              "}\n",
              "\n",
              "/* Estimator-specific style */\n",
              "\n",
              "/* Colorize estimator box */\n",
              "#sk-container-id-1 div.sk-estimator input.sk-toggleable__control:checked~label.sk-toggleable__label {\n",
              "  /* unfitted */\n",
              "  background-color: var(--sklearn-color-unfitted-level-2);\n",
              "}\n",
              "\n",
              "#sk-container-id-1 div.sk-estimator.fitted input.sk-toggleable__control:checked~label.sk-toggleable__label {\n",
              "  /* fitted */\n",
              "  background-color: var(--sklearn-color-fitted-level-2);\n",
              "}\n",
              "\n",
              "#sk-container-id-1 div.sk-label label.sk-toggleable__label,\n",
              "#sk-container-id-1 div.sk-label label {\n",
              "  /* The background is the default theme color */\n",
              "  color: var(--sklearn-color-text-on-default-background);\n",
              "}\n",
              "\n",
              "/* On hover, darken the color of the background */\n",
              "#sk-container-id-1 div.sk-label:hover label.sk-toggleable__label {\n",
              "  color: var(--sklearn-color-text);\n",
              "  background-color: var(--sklearn-color-unfitted-level-2);\n",
              "}\n",
              "\n",
              "/* Label box, darken color on hover, fitted */\n",
              "#sk-container-id-1 div.sk-label.fitted:hover label.sk-toggleable__label.fitted {\n",
              "  color: var(--sklearn-color-text);\n",
              "  background-color: var(--sklearn-color-fitted-level-2);\n",
              "}\n",
              "\n",
              "/* Estimator label */\n",
              "\n",
              "#sk-container-id-1 div.sk-label label {\n",
              "  font-family: monospace;\n",
              "  font-weight: bold;\n",
              "  display: inline-block;\n",
              "  line-height: 1.2em;\n",
              "}\n",
              "\n",
              "#sk-container-id-1 div.sk-label-container {\n",
              "  text-align: center;\n",
              "}\n",
              "\n",
              "/* Estimator-specific */\n",
              "#sk-container-id-1 div.sk-estimator {\n",
              "  font-family: monospace;\n",
              "  border: 1px dotted var(--sklearn-color-border-box);\n",
              "  border-radius: 0.25em;\n",
              "  box-sizing: border-box;\n",
              "  margin-bottom: 0.5em;\n",
              "  /* unfitted */\n",
              "  background-color: var(--sklearn-color-unfitted-level-0);\n",
              "}\n",
              "\n",
              "#sk-container-id-1 div.sk-estimator.fitted {\n",
              "  /* fitted */\n",
              "  background-color: var(--sklearn-color-fitted-level-0);\n",
              "}\n",
              "\n",
              "/* on hover */\n",
              "#sk-container-id-1 div.sk-estimator:hover {\n",
              "  /* unfitted */\n",
              "  background-color: var(--sklearn-color-unfitted-level-2);\n",
              "}\n",
              "\n",
              "#sk-container-id-1 div.sk-estimator.fitted:hover {\n",
              "  /* fitted */\n",
              "  background-color: var(--sklearn-color-fitted-level-2);\n",
              "}\n",
              "\n",
              "/* Specification for estimator info (e.g. \"i\" and \"?\") */\n",
              "\n",
              "/* Common style for \"i\" and \"?\" */\n",
              "\n",
              ".sk-estimator-doc-link,\n",
              "a:link.sk-estimator-doc-link,\n",
              "a:visited.sk-estimator-doc-link {\n",
              "  float: right;\n",
              "  font-size: smaller;\n",
              "  line-height: 1em;\n",
              "  font-family: monospace;\n",
              "  background-color: var(--sklearn-color-background);\n",
              "  border-radius: 1em;\n",
              "  height: 1em;\n",
              "  width: 1em;\n",
              "  text-decoration: none !important;\n",
              "  margin-left: 0.5em;\n",
              "  text-align: center;\n",
              "  /* unfitted */\n",
              "  border: var(--sklearn-color-unfitted-level-1) 1pt solid;\n",
              "  color: var(--sklearn-color-unfitted-level-1);\n",
              "}\n",
              "\n",
              ".sk-estimator-doc-link.fitted,\n",
              "a:link.sk-estimator-doc-link.fitted,\n",
              "a:visited.sk-estimator-doc-link.fitted {\n",
              "  /* fitted */\n",
              "  border: var(--sklearn-color-fitted-level-1) 1pt solid;\n",
              "  color: var(--sklearn-color-fitted-level-1);\n",
              "}\n",
              "\n",
              "/* On hover */\n",
              "div.sk-estimator:hover .sk-estimator-doc-link:hover,\n",
              ".sk-estimator-doc-link:hover,\n",
              "div.sk-label-container:hover .sk-estimator-doc-link:hover,\n",
              ".sk-estimator-doc-link:hover {\n",
              "  /* unfitted */\n",
              "  background-color: var(--sklearn-color-unfitted-level-3);\n",
              "  color: var(--sklearn-color-background);\n",
              "  text-decoration: none;\n",
              "}\n",
              "\n",
              "div.sk-estimator.fitted:hover .sk-estimator-doc-link.fitted:hover,\n",
              ".sk-estimator-doc-link.fitted:hover,\n",
              "div.sk-label-container:hover .sk-estimator-doc-link.fitted:hover,\n",
              ".sk-estimator-doc-link.fitted:hover {\n",
              "  /* fitted */\n",
              "  background-color: var(--sklearn-color-fitted-level-3);\n",
              "  color: var(--sklearn-color-background);\n",
              "  text-decoration: none;\n",
              "}\n",
              "\n",
              "/* Span, style for the box shown on hovering the info icon */\n",
              ".sk-estimator-doc-link span {\n",
              "  display: none;\n",
              "  z-index: 9999;\n",
              "  position: relative;\n",
              "  font-weight: normal;\n",
              "  right: .2ex;\n",
              "  padding: .5ex;\n",
              "  margin: .5ex;\n",
              "  width: min-content;\n",
              "  min-width: 20ex;\n",
              "  max-width: 50ex;\n",
              "  color: var(--sklearn-color-text);\n",
              "  box-shadow: 2pt 2pt 4pt #999;\n",
              "  /* unfitted */\n",
              "  background: var(--sklearn-color-unfitted-level-0);\n",
              "  border: .5pt solid var(--sklearn-color-unfitted-level-3);\n",
              "}\n",
              "\n",
              ".sk-estimator-doc-link.fitted span {\n",
              "  /* fitted */\n",
              "  background: var(--sklearn-color-fitted-level-0);\n",
              "  border: var(--sklearn-color-fitted-level-3);\n",
              "}\n",
              "\n",
              ".sk-estimator-doc-link:hover span {\n",
              "  display: block;\n",
              "}\n",
              "\n",
              "/* \"?\"-specific style due to the `<a>` HTML tag */\n",
              "\n",
              "#sk-container-id-1 a.estimator_doc_link {\n",
              "  float: right;\n",
              "  font-size: 1rem;\n",
              "  line-height: 1em;\n",
              "  font-family: monospace;\n",
              "  background-color: var(--sklearn-color-background);\n",
              "  border-radius: 1rem;\n",
              "  height: 1rem;\n",
              "  width: 1rem;\n",
              "  text-decoration: none;\n",
              "  /* unfitted */\n",
              "  color: var(--sklearn-color-unfitted-level-1);\n",
              "  border: var(--sklearn-color-unfitted-level-1) 1pt solid;\n",
              "}\n",
              "\n",
              "#sk-container-id-1 a.estimator_doc_link.fitted {\n",
              "  /* fitted */\n",
              "  border: var(--sklearn-color-fitted-level-1) 1pt solid;\n",
              "  color: var(--sklearn-color-fitted-level-1);\n",
              "}\n",
              "\n",
              "/* On hover */\n",
              "#sk-container-id-1 a.estimator_doc_link:hover {\n",
              "  /* unfitted */\n",
              "  background-color: var(--sklearn-color-unfitted-level-3);\n",
              "  color: var(--sklearn-color-background);\n",
              "  text-decoration: none;\n",
              "}\n",
              "\n",
              "#sk-container-id-1 a.estimator_doc_link.fitted:hover {\n",
              "  /* fitted */\n",
              "  background-color: var(--sklearn-color-fitted-level-3);\n",
              "}\n",
              "</style><div id=\"sk-container-id-1\" class=\"sk-top-container\"><div class=\"sk-text-repr-fallback\"><pre>XGBClassifier(base_score=None, booster=None, callbacks=None,\n",
              "              colsample_bylevel=None, colsample_bynode=None,\n",
              "              colsample_bytree=None, device=&#x27;cuda&#x27;, early_stopping_rounds=None,\n",
              "              enable_categorical=True, eval_metric=None, feature_types=None,\n",
              "              feature_weights=None, gamma=None, grow_policy=None,\n",
              "              importance_type=None, interaction_constraints=None,\n",
              "              learning_rate=0.1, max_bin=None, max_cat_threshold=None,\n",
              "              max_cat_to_onehot=None, max_delta_step=None, max_depth=4,\n",
              "              max_leaves=None, min_child_weight=None, missing=nan,\n",
              "              monotone_constraints=None, multi_strategy=None, n_estimators=100,\n",
              "              n_jobs=None, num_parallel_tree=None, ...)</pre><b>In a Jupyter environment, please rerun this cell to show the HTML representation or trust the notebook. <br />On GitHub, the HTML representation is unable to render, please try loading this page with nbviewer.org.</b></div><div class=\"sk-container\" hidden><div class=\"sk-item\"><div class=\"sk-estimator fitted sk-toggleable\"><input class=\"sk-toggleable__control sk-hidden--visually\" id=\"sk-estimator-id-1\" type=\"checkbox\" checked><label for=\"sk-estimator-id-1\" class=\"sk-toggleable__label fitted sk-toggleable__label-arrow\"><div><div>XGBClassifier</div></div><div><a class=\"sk-estimator-doc-link fitted\" rel=\"noreferrer\" target=\"_blank\" href=\"https://xgboost.readthedocs.io/en/release_3.0.0/python/python_api.html#xgboost.XGBClassifier\">?<span>Documentation for XGBClassifier</span></a><span class=\"sk-estimator-doc-link fitted\">i<span>Fitted</span></span></div></label><div class=\"sk-toggleable__content fitted\"><pre>XGBClassifier(base_score=None, booster=None, callbacks=None,\n",
              "              colsample_bylevel=None, colsample_bynode=None,\n",
              "              colsample_bytree=None, device=&#x27;cuda&#x27;, early_stopping_rounds=None,\n",
              "              enable_categorical=True, eval_metric=None, feature_types=None,\n",
              "              feature_weights=None, gamma=None, grow_policy=None,\n",
              "              importance_type=None, interaction_constraints=None,\n",
              "              learning_rate=0.1, max_bin=None, max_cat_threshold=None,\n",
              "              max_cat_to_onehot=None, max_delta_step=None, max_depth=4,\n",
              "              max_leaves=None, min_child_weight=None, missing=nan,\n",
              "              monotone_constraints=None, multi_strategy=None, n_estimators=100,\n",
              "              n_jobs=None, num_parallel_tree=None, ...)</pre></div> </div></div></div></div>"
            ]
          },
          "metadata": {},
          "execution_count": 11
        }
      ]
    },
    {
      "cell_type": "code",
      "source": [
        "# Прогноз імовірностей\n",
        "train_preds_proba = xgb_model.predict_proba(train_inputs)[:, 1]\n",
        "val_preds_proba = xgb_model.predict_proba(val_inputs)[:, 1]\n",
        "\n",
        "# Обрахунок AUROC\n",
        "train_auc = roc_auc_score(train_targets, train_preds_proba)\n",
        "val_auc = roc_auc_score(val_targets, val_preds_proba)\n",
        "\n",
        "print(f\"Train AUROC: {train_auc:.4f}\")\n",
        "print(f\"Validation AUROC: {val_auc:.4f}\")\n"
      ],
      "metadata": {
        "colab": {
          "base_uri": "https://localhost:8080/"
        },
        "id": "9x9V8a3Pgo5K",
        "outputId": "d5e77a05-0e88-4212-ea68-2b7c5faff1be"
      },
      "execution_count": 12,
      "outputs": [
        {
          "output_type": "stream",
          "name": "stdout",
          "text": [
            "Train AUROC: 0.9490\n",
            "Validation AUROC: 0.9362\n"
          ]
        }
      ]
    },
    {
      "cell_type": "markdown",
      "source": [
        "Спостереження: обидві метрики дуже високі, отже, модель добре розрізняє класи."
      ],
      "metadata": {
        "id": "iG67dKWzhkc4"
      }
    },
    {
      "cell_type": "markdown",
      "source": [
        "3. Використовуючи бібліотеку `Hyperopt` і приклад пошуку гіперпараметрів для `XGBoostClassifier` з лекції знайдіть оптимальні значення гіперпараметрів `XGBoostClassifier` для нашої задачі. Задайте свою сітку гіперпараметрів виходячи з тих параметрів, які ви б хотіли перебрати. Поставте кількість раундів в підборі гіперпараметрів рівну **20**.\n",
        "\n",
        "  **Увага!** Для того, аби скористатись hyperopt, нам треба задати функцію `objective`. В ній ми маємо задати loss - це може будь-яка метрика, але бажано використовувтаи ту, яка цільова в вашій задачі. Чим менший лосс - тим ліпша модель на думку hyperopt. Тож, тут нам треба задати loss - негативне значення AUROC. В лекції ми натомість використовували Accuracy.\n",
        "\n",
        "  Після успішного завершення пошуку оптимальних гіперпараметрів\n",
        "    - виведіть найкращі значення гіперпараметрів\n",
        "    - створіть в окремій зміній `final_clf` модель `XGBoostClassifier` з найкращими гіперпараметрами\n",
        "    - навчіть модель `final_clf`\n",
        "    - оцініть якість моделі `final_clf` на тренувальній і валідаційній вибірках з допомогою AUROC.\n",
        "    - зробіть висновок про якість моделі. Чи стала вона краще порівняно з попереднім пунктом (2) цього завдання?"
      ],
      "metadata": {
        "id": "U4hm5qYs_f7x"
      }
    },
    {
      "cell_type": "code",
      "source": [
        "!pip install hyperopt --quiet"
      ],
      "metadata": {
        "id": "WhR1g9B4433r"
      },
      "execution_count": 13,
      "outputs": []
    },
    {
      "cell_type": "code",
      "source": [
        "from hyperopt import fmin, tpe, hp, Trials, STATUS_OK\n",
        "from sklearn.metrics import roc_auc_score\n",
        "import xgboost as xgb\n",
        "from xgboost import XGBClassifier\n",
        "import numpy as np"
      ],
      "metadata": {
        "id": "E-OTk5fXhvrW"
      },
      "execution_count": 14,
      "outputs": []
    },
    {
      "cell_type": "code",
      "source": [
        "space = {\n",
        "    'max_depth': hp.choice('max_depth', [3, 4, 5, 6, 7]),\n",
        "    'learning_rate': hp.uniform('learning_rate', 0.01, 0.3),\n",
        "    'subsample': hp.uniform('subsample', 0.6, 1.0),\n",
        "    'colsample_bytree': hp.uniform('colsample_bytree', 0.6, 1.0),\n",
        "    'gamma': hp.uniform('gamma', 0, 5),\n",
        "    'reg_alpha': hp.uniform('reg_alpha', 0, 1),\n",
        "    'reg_lambda': hp.uniform('reg_lambda', 0.5, 2.0),\n",
        "    'n_estimators': 100,  # залишаємо фіксованим\n",
        "    'tree_method': 'hist',\n",
        "    'objective': 'binary:logistic',\n",
        "    'enable_categorical': True,\n",
        "    'use_label_encoder': False,\n",
        "    'random_state': 42\n",
        "}"
      ],
      "metadata": {
        "id": "8FRUs2ZHhx4C"
      },
      "execution_count": 15,
      "outputs": []
    },
    {
      "cell_type": "code",
      "source": [
        "def objective(params):\n",
        "    params['eval_metric'] = 'auc'  # додаємо сюди\n",
        "    model = XGBClassifier(**params)\n",
        "    model.fit(train_inputs, train_targets, verbose=False)\n",
        "\n",
        "    val_preds_proba = model.predict_proba(val_inputs)[:, 1]\n",
        "    auc = roc_auc_score(val_targets, val_preds_proba)\n",
        "\n",
        "    return {'loss': -auc, 'status': STATUS_OK}\n"
      ],
      "metadata": {
        "id": "AsyMi1YMh0pD"
      },
      "execution_count": 19,
      "outputs": []
    },
    {
      "cell_type": "code",
      "source": [
        "from hyperopt import fmin, tpe, hp, Trials\n",
        "from numpy.random import default_rng\n",
        "\n",
        "trials = Trials()\n",
        "\n",
        "best_params = fmin(\n",
        "    fn=objective,\n",
        "    space=space,\n",
        "    algo=tpe.suggest,\n",
        "    max_evals=20,\n",
        "    trials=trials,\n",
        "    rstate=default_rng(42)\n",
        ")\n"
      ],
      "metadata": {
        "colab": {
          "base_uri": "https://localhost:8080/"
        },
        "id": "TwyO8zUoh3Cb",
        "outputId": "2440e08d-84bb-4a97-a852-cdceb9dc37a9"
      },
      "execution_count": 20,
      "outputs": [
        {
          "output_type": "stream",
          "name": "stdout",
          "text": [
            "\r  0%|          | 0/20 [00:00<?, ?trial/s, best loss=?]"
          ]
        },
        {
          "output_type": "stream",
          "name": "stderr",
          "text": [
            "/usr/local/lib/python3.11/dist-packages/xgboost/training.py:183: UserWarning: [11:40:41] WARNING: /workspace/src/learner.cc:738: \n",
            "Parameters: { \"use_label_encoder\" } are not used.\n",
            "\n",
            "  bst.update(dtrain, iteration=i, fobj=obj)\n",
            "\n"
          ]
        },
        {
          "output_type": "stream",
          "name": "stdout",
          "text": [
            "\r  5%|▌         | 1/20 [00:00<00:08,  2.28trial/s, best loss: -0.933435763769806]"
          ]
        },
        {
          "output_type": "stream",
          "name": "stderr",
          "text": [
            "/usr/local/lib/python3.11/dist-packages/xgboost/training.py:183: UserWarning: [11:40:41] WARNING: /workspace/src/learner.cc:738: \n",
            "Parameters: { \"use_label_encoder\" } are not used.\n",
            "\n",
            "  bst.update(dtrain, iteration=i, fobj=obj)\n",
            "\n"
          ]
        },
        {
          "output_type": "stream",
          "name": "stdout",
          "text": [
            " 15%|█▌        | 3/20 [00:00<00:04,  3.94trial/s, best loss: -0.9348021126277524]"
          ]
        },
        {
          "output_type": "stream",
          "name": "stderr",
          "text": [
            "/usr/local/lib/python3.11/dist-packages/xgboost/training.py:183: UserWarning: [11:40:42] WARNING: /workspace/src/learner.cc:738: \n",
            "Parameters: { \"use_label_encoder\" } are not used.\n",
            "\n",
            "  bst.update(dtrain, iteration=i, fobj=obj)\n",
            "\n",
            "/usr/local/lib/python3.11/dist-packages/xgboost/training.py:183: UserWarning: [11:40:42] WARNING: /workspace/src/learner.cc:738: \n",
            "Parameters: { \"use_label_encoder\" } are not used.\n",
            "\n",
            "  bst.update(dtrain, iteration=i, fobj=obj)\n",
            "\n"
          ]
        },
        {
          "output_type": "stream",
          "name": "stdout",
          "text": [
            " 25%|██▌       | 5/20 [00:01<00:03,  4.76trial/s, best loss: -0.9359349063721792]"
          ]
        },
        {
          "output_type": "stream",
          "name": "stderr",
          "text": [
            "/usr/local/lib/python3.11/dist-packages/xgboost/training.py:183: UserWarning: [11:40:42] WARNING: /workspace/src/learner.cc:738: \n",
            "Parameters: { \"use_label_encoder\" } are not used.\n",
            "\n",
            "  bst.update(dtrain, iteration=i, fobj=obj)\n",
            "\n",
            "/usr/local/lib/python3.11/dist-packages/xgboost/training.py:183: UserWarning: [11:40:42] WARNING: /workspace/src/learner.cc:738: \n",
            "Parameters: { \"use_label_encoder\" } are not used.\n",
            "\n",
            "  bst.update(dtrain, iteration=i, fobj=obj)\n",
            "\n"
          ]
        },
        {
          "output_type": "stream",
          "name": "stdout",
          "text": [
            " 35%|███▌      | 7/20 [00:01<00:02,  5.84trial/s, best loss: -0.9373057136977845]"
          ]
        },
        {
          "output_type": "stream",
          "name": "stderr",
          "text": [
            "/usr/local/lib/python3.11/dist-packages/xgboost/training.py:183: UserWarning: [11:40:42] WARNING: /workspace/src/learner.cc:738: \n",
            "Parameters: { \"use_label_encoder\" } are not used.\n",
            "\n",
            "  bst.update(dtrain, iteration=i, fobj=obj)\n",
            "\n",
            "/usr/local/lib/python3.11/dist-packages/xgboost/training.py:183: UserWarning: [11:40:43] WARNING: /workspace/src/learner.cc:738: \n",
            "Parameters: { \"use_label_encoder\" } are not used.\n",
            "\n",
            "  bst.update(dtrain, iteration=i, fobj=obj)\n",
            "\n"
          ]
        },
        {
          "output_type": "stream",
          "name": "stdout",
          "text": [
            " 45%|████▌     | 9/20 [00:01<00:01,  5.90trial/s, best loss: -0.9373057136977845]"
          ]
        },
        {
          "output_type": "stream",
          "name": "stderr",
          "text": [
            "/usr/local/lib/python3.11/dist-packages/xgboost/training.py:183: UserWarning: [11:40:43] WARNING: /workspace/src/learner.cc:738: \n",
            "Parameters: { \"use_label_encoder\" } are not used.\n",
            "\n",
            "  bst.update(dtrain, iteration=i, fobj=obj)\n",
            "\n",
            "/usr/local/lib/python3.11/dist-packages/xgboost/training.py:183: UserWarning: [11:40:43] WARNING: /workspace/src/learner.cc:738: \n",
            "Parameters: { \"use_label_encoder\" } are not used.\n",
            "\n",
            "  bst.update(dtrain, iteration=i, fobj=obj)\n",
            "\n"
          ]
        },
        {
          "output_type": "stream",
          "name": "stdout",
          "text": [
            " 55%|█████▌    | 11/20 [00:02<00:01,  6.36trial/s, best loss: -0.9373057136977845]"
          ]
        },
        {
          "output_type": "stream",
          "name": "stderr",
          "text": [
            "/usr/local/lib/python3.11/dist-packages/xgboost/training.py:183: UserWarning: [11:40:43] WARNING: /workspace/src/learner.cc:738: \n",
            "Parameters: { \"use_label_encoder\" } are not used.\n",
            "\n",
            "  bst.update(dtrain, iteration=i, fobj=obj)\n",
            "\n",
            "/usr/local/lib/python3.11/dist-packages/xgboost/training.py:183: UserWarning: [11:40:43] WARNING: /workspace/src/learner.cc:738: \n",
            "Parameters: { \"use_label_encoder\" } are not used.\n",
            "\n",
            "  bst.update(dtrain, iteration=i, fobj=obj)\n",
            "\n"
          ]
        },
        {
          "output_type": "stream",
          "name": "stdout",
          "text": [
            " 65%|██████▌   | 13/20 [00:02<00:01,  6.15trial/s, best loss: -0.9373057136977845]"
          ]
        },
        {
          "output_type": "stream",
          "name": "stderr",
          "text": [
            "/usr/local/lib/python3.11/dist-packages/xgboost/training.py:183: UserWarning: [11:40:43] WARNING: /workspace/src/learner.cc:738: \n",
            "Parameters: { \"use_label_encoder\" } are not used.\n",
            "\n",
            "  bst.update(dtrain, iteration=i, fobj=obj)\n",
            "\n",
            "/usr/local/lib/python3.11/dist-packages/xgboost/training.py:183: UserWarning: [11:40:44] WARNING: /workspace/src/learner.cc:738: \n",
            "Parameters: { \"use_label_encoder\" } are not used.\n",
            "\n",
            "  bst.update(dtrain, iteration=i, fobj=obj)\n",
            "\n"
          ]
        },
        {
          "output_type": "stream",
          "name": "stdout",
          "text": [
            "\r 70%|███████   | 14/20 [00:02<00:01,  5.32trial/s, best loss: -0.9373057136977845]"
          ]
        },
        {
          "output_type": "stream",
          "name": "stderr",
          "text": [
            "/usr/local/lib/python3.11/dist-packages/xgboost/training.py:183: UserWarning: [11:40:44] WARNING: /workspace/src/learner.cc:738: \n",
            "Parameters: { \"use_label_encoder\" } are not used.\n",
            "\n",
            "  bst.update(dtrain, iteration=i, fobj=obj)\n",
            "\n"
          ]
        },
        {
          "output_type": "stream",
          "name": "stdout",
          "text": [
            " 80%|████████  | 16/20 [00:03<00:00,  4.89trial/s, best loss: -0.9373057136977845]"
          ]
        },
        {
          "output_type": "stream",
          "name": "stderr",
          "text": [
            "/usr/local/lib/python3.11/dist-packages/xgboost/training.py:183: UserWarning: [11:40:44] WARNING: /workspace/src/learner.cc:738: \n",
            "Parameters: { \"use_label_encoder\" } are not used.\n",
            "\n",
            "  bst.update(dtrain, iteration=i, fobj=obj)\n",
            "\n",
            "/usr/local/lib/python3.11/dist-packages/xgboost/training.py:183: UserWarning: [11:40:44] WARNING: /workspace/src/learner.cc:738: \n",
            "Parameters: { \"use_label_encoder\" } are not used.\n",
            "\n",
            "  bst.update(dtrain, iteration=i, fobj=obj)\n",
            "\n"
          ]
        },
        {
          "output_type": "stream",
          "name": "stdout",
          "text": [
            " 90%|█████████ | 18/20 [00:03<00:00,  4.98trial/s, best loss: -0.9373057136977845]"
          ]
        },
        {
          "output_type": "stream",
          "name": "stderr",
          "text": [
            "/usr/local/lib/python3.11/dist-packages/xgboost/training.py:183: UserWarning: [11:40:44] WARNING: /workspace/src/learner.cc:738: \n",
            "Parameters: { \"use_label_encoder\" } are not used.\n",
            "\n",
            "  bst.update(dtrain, iteration=i, fobj=obj)\n",
            "\n",
            "/usr/local/lib/python3.11/dist-packages/xgboost/training.py:183: UserWarning: [11:40:45] WARNING: /workspace/src/learner.cc:738: \n",
            "Parameters: { \"use_label_encoder\" } are not used.\n",
            "\n",
            "  bst.update(dtrain, iteration=i, fobj=obj)\n",
            "\n"
          ]
        },
        {
          "output_type": "stream",
          "name": "stdout",
          "text": [
            "100%|██████████| 20/20 [00:03<00:00,  5.00trial/s, best loss: -0.9373057136977845]\n"
          ]
        },
        {
          "output_type": "stream",
          "name": "stderr",
          "text": [
            "/usr/local/lib/python3.11/dist-packages/xgboost/training.py:183: UserWarning: [11:40:45] WARNING: /workspace/src/learner.cc:738: \n",
            "Parameters: { \"use_label_encoder\" } are not used.\n",
            "\n",
            "  bst.update(dtrain, iteration=i, fobj=obj)\n",
            "\n"
          ]
        }
      ]
    },
    {
      "cell_type": "code",
      "source": [
        "depth_options = [3, 4, 5, 6, 7]\n",
        "best_params['max_depth'] = depth_options[best_params['max_depth']]"
      ],
      "metadata": {
        "id": "P22N2TRFin7T"
      },
      "execution_count": 21,
      "outputs": []
    },
    {
      "cell_type": "code",
      "source": [
        "final_clf = XGBClassifier(\n",
        "    n_estimators=100,\n",
        "    objective='binary:logistic',\n",
        "    tree_method='hist',\n",
        "    enable_categorical=True,\n",
        "    use_label_encoder=False,\n",
        "    random_state=42,\n",
        "    eval_metric='auc',\n",
        "    **best_params\n",
        ")\n",
        "final_clf.fit(train_inputs, train_targets)\n"
      ],
      "metadata": {
        "colab": {
          "base_uri": "https://localhost:8080/",
          "height": 343
        },
        "id": "ssGekkEnirM9",
        "outputId": "18a691f8-caae-4567-f8ea-a5da9e8892dc"
      },
      "execution_count": 22,
      "outputs": [
        {
          "output_type": "stream",
          "name": "stderr",
          "text": [
            "/usr/local/lib/python3.11/dist-packages/xgboost/training.py:183: UserWarning: [11:42:33] WARNING: /workspace/src/learner.cc:738: \n",
            "Parameters: { \"use_label_encoder\" } are not used.\n",
            "\n",
            "  bst.update(dtrain, iteration=i, fobj=obj)\n"
          ]
        },
        {
          "output_type": "execute_result",
          "data": {
            "text/plain": [
              "XGBClassifier(base_score=None, booster=None, callbacks=None,\n",
              "              colsample_bylevel=None, colsample_bynode=None,\n",
              "              colsample_bytree=np.float64(0.6621422616094998), device=None,\n",
              "              early_stopping_rounds=None, enable_categorical=True,\n",
              "              eval_metric='auc', feature_types=None, feature_weights=None,\n",
              "              gamma=np.float64(4.738538693265129), grow_policy=None,\n",
              "              importance_type=None, interaction_constraints=None,\n",
              "              learning_rate=np.float64(0.15680113598338938), max_bin=None,\n",
              "              max_cat_threshold=None, max_cat_to_onehot=None,\n",
              "              max_delta_step=None, max_depth=3, max_leaves=None,\n",
              "              min_child_weight=None, missing=nan, monotone_constraints=None,\n",
              "              multi_strategy=None, n_estimators=100, n_jobs=None,\n",
              "              num_parallel_tree=None, ...)"
            ],
            "text/html": [
              "<style>#sk-container-id-2 {\n",
              "  /* Definition of color scheme common for light and dark mode */\n",
              "  --sklearn-color-text: #000;\n",
              "  --sklearn-color-text-muted: #666;\n",
              "  --sklearn-color-line: gray;\n",
              "  /* Definition of color scheme for unfitted estimators */\n",
              "  --sklearn-color-unfitted-level-0: #fff5e6;\n",
              "  --sklearn-color-unfitted-level-1: #f6e4d2;\n",
              "  --sklearn-color-unfitted-level-2: #ffe0b3;\n",
              "  --sklearn-color-unfitted-level-3: chocolate;\n",
              "  /* Definition of color scheme for fitted estimators */\n",
              "  --sklearn-color-fitted-level-0: #f0f8ff;\n",
              "  --sklearn-color-fitted-level-1: #d4ebff;\n",
              "  --sklearn-color-fitted-level-2: #b3dbfd;\n",
              "  --sklearn-color-fitted-level-3: cornflowerblue;\n",
              "\n",
              "  /* Specific color for light theme */\n",
              "  --sklearn-color-text-on-default-background: var(--sg-text-color, var(--theme-code-foreground, var(--jp-content-font-color1, black)));\n",
              "  --sklearn-color-background: var(--sg-background-color, var(--theme-background, var(--jp-layout-color0, white)));\n",
              "  --sklearn-color-border-box: var(--sg-text-color, var(--theme-code-foreground, var(--jp-content-font-color1, black)));\n",
              "  --sklearn-color-icon: #696969;\n",
              "\n",
              "  @media (prefers-color-scheme: dark) {\n",
              "    /* Redefinition of color scheme for dark theme */\n",
              "    --sklearn-color-text-on-default-background: var(--sg-text-color, var(--theme-code-foreground, var(--jp-content-font-color1, white)));\n",
              "    --sklearn-color-background: var(--sg-background-color, var(--theme-background, var(--jp-layout-color0, #111)));\n",
              "    --sklearn-color-border-box: var(--sg-text-color, var(--theme-code-foreground, var(--jp-content-font-color1, white)));\n",
              "    --sklearn-color-icon: #878787;\n",
              "  }\n",
              "}\n",
              "\n",
              "#sk-container-id-2 {\n",
              "  color: var(--sklearn-color-text);\n",
              "}\n",
              "\n",
              "#sk-container-id-2 pre {\n",
              "  padding: 0;\n",
              "}\n",
              "\n",
              "#sk-container-id-2 input.sk-hidden--visually {\n",
              "  border: 0;\n",
              "  clip: rect(1px 1px 1px 1px);\n",
              "  clip: rect(1px, 1px, 1px, 1px);\n",
              "  height: 1px;\n",
              "  margin: -1px;\n",
              "  overflow: hidden;\n",
              "  padding: 0;\n",
              "  position: absolute;\n",
              "  width: 1px;\n",
              "}\n",
              "\n",
              "#sk-container-id-2 div.sk-dashed-wrapped {\n",
              "  border: 1px dashed var(--sklearn-color-line);\n",
              "  margin: 0 0.4em 0.5em 0.4em;\n",
              "  box-sizing: border-box;\n",
              "  padding-bottom: 0.4em;\n",
              "  background-color: var(--sklearn-color-background);\n",
              "}\n",
              "\n",
              "#sk-container-id-2 div.sk-container {\n",
              "  /* jupyter's `normalize.less` sets `[hidden] { display: none; }`\n",
              "     but bootstrap.min.css set `[hidden] { display: none !important; }`\n",
              "     so we also need the `!important` here to be able to override the\n",
              "     default hidden behavior on the sphinx rendered scikit-learn.org.\n",
              "     See: https://github.com/scikit-learn/scikit-learn/issues/21755 */\n",
              "  display: inline-block !important;\n",
              "  position: relative;\n",
              "}\n",
              "\n",
              "#sk-container-id-2 div.sk-text-repr-fallback {\n",
              "  display: none;\n",
              "}\n",
              "\n",
              "div.sk-parallel-item,\n",
              "div.sk-serial,\n",
              "div.sk-item {\n",
              "  /* draw centered vertical line to link estimators */\n",
              "  background-image: linear-gradient(var(--sklearn-color-text-on-default-background), var(--sklearn-color-text-on-default-background));\n",
              "  background-size: 2px 100%;\n",
              "  background-repeat: no-repeat;\n",
              "  background-position: center center;\n",
              "}\n",
              "\n",
              "/* Parallel-specific style estimator block */\n",
              "\n",
              "#sk-container-id-2 div.sk-parallel-item::after {\n",
              "  content: \"\";\n",
              "  width: 100%;\n",
              "  border-bottom: 2px solid var(--sklearn-color-text-on-default-background);\n",
              "  flex-grow: 1;\n",
              "}\n",
              "\n",
              "#sk-container-id-2 div.sk-parallel {\n",
              "  display: flex;\n",
              "  align-items: stretch;\n",
              "  justify-content: center;\n",
              "  background-color: var(--sklearn-color-background);\n",
              "  position: relative;\n",
              "}\n",
              "\n",
              "#sk-container-id-2 div.sk-parallel-item {\n",
              "  display: flex;\n",
              "  flex-direction: column;\n",
              "}\n",
              "\n",
              "#sk-container-id-2 div.sk-parallel-item:first-child::after {\n",
              "  align-self: flex-end;\n",
              "  width: 50%;\n",
              "}\n",
              "\n",
              "#sk-container-id-2 div.sk-parallel-item:last-child::after {\n",
              "  align-self: flex-start;\n",
              "  width: 50%;\n",
              "}\n",
              "\n",
              "#sk-container-id-2 div.sk-parallel-item:only-child::after {\n",
              "  width: 0;\n",
              "}\n",
              "\n",
              "/* Serial-specific style estimator block */\n",
              "\n",
              "#sk-container-id-2 div.sk-serial {\n",
              "  display: flex;\n",
              "  flex-direction: column;\n",
              "  align-items: center;\n",
              "  background-color: var(--sklearn-color-background);\n",
              "  padding-right: 1em;\n",
              "  padding-left: 1em;\n",
              "}\n",
              "\n",
              "\n",
              "/* Toggleable style: style used for estimator/Pipeline/ColumnTransformer box that is\n",
              "clickable and can be expanded/collapsed.\n",
              "- Pipeline and ColumnTransformer use this feature and define the default style\n",
              "- Estimators will overwrite some part of the style using the `sk-estimator` class\n",
              "*/\n",
              "\n",
              "/* Pipeline and ColumnTransformer style (default) */\n",
              "\n",
              "#sk-container-id-2 div.sk-toggleable {\n",
              "  /* Default theme specific background. It is overwritten whether we have a\n",
              "  specific estimator or a Pipeline/ColumnTransformer */\n",
              "  background-color: var(--sklearn-color-background);\n",
              "}\n",
              "\n",
              "/* Toggleable label */\n",
              "#sk-container-id-2 label.sk-toggleable__label {\n",
              "  cursor: pointer;\n",
              "  display: flex;\n",
              "  width: 100%;\n",
              "  margin-bottom: 0;\n",
              "  padding: 0.5em;\n",
              "  box-sizing: border-box;\n",
              "  text-align: center;\n",
              "  align-items: start;\n",
              "  justify-content: space-between;\n",
              "  gap: 0.5em;\n",
              "}\n",
              "\n",
              "#sk-container-id-2 label.sk-toggleable__label .caption {\n",
              "  font-size: 0.6rem;\n",
              "  font-weight: lighter;\n",
              "  color: var(--sklearn-color-text-muted);\n",
              "}\n",
              "\n",
              "#sk-container-id-2 label.sk-toggleable__label-arrow:before {\n",
              "  /* Arrow on the left of the label */\n",
              "  content: \"▸\";\n",
              "  float: left;\n",
              "  margin-right: 0.25em;\n",
              "  color: var(--sklearn-color-icon);\n",
              "}\n",
              "\n",
              "#sk-container-id-2 label.sk-toggleable__label-arrow:hover:before {\n",
              "  color: var(--sklearn-color-text);\n",
              "}\n",
              "\n",
              "/* Toggleable content - dropdown */\n",
              "\n",
              "#sk-container-id-2 div.sk-toggleable__content {\n",
              "  max-height: 0;\n",
              "  max-width: 0;\n",
              "  overflow: hidden;\n",
              "  text-align: left;\n",
              "  /* unfitted */\n",
              "  background-color: var(--sklearn-color-unfitted-level-0);\n",
              "}\n",
              "\n",
              "#sk-container-id-2 div.sk-toggleable__content.fitted {\n",
              "  /* fitted */\n",
              "  background-color: var(--sklearn-color-fitted-level-0);\n",
              "}\n",
              "\n",
              "#sk-container-id-2 div.sk-toggleable__content pre {\n",
              "  margin: 0.2em;\n",
              "  border-radius: 0.25em;\n",
              "  color: var(--sklearn-color-text);\n",
              "  /* unfitted */\n",
              "  background-color: var(--sklearn-color-unfitted-level-0);\n",
              "}\n",
              "\n",
              "#sk-container-id-2 div.sk-toggleable__content.fitted pre {\n",
              "  /* unfitted */\n",
              "  background-color: var(--sklearn-color-fitted-level-0);\n",
              "}\n",
              "\n",
              "#sk-container-id-2 input.sk-toggleable__control:checked~div.sk-toggleable__content {\n",
              "  /* Expand drop-down */\n",
              "  max-height: 200px;\n",
              "  max-width: 100%;\n",
              "  overflow: auto;\n",
              "}\n",
              "\n",
              "#sk-container-id-2 input.sk-toggleable__control:checked~label.sk-toggleable__label-arrow:before {\n",
              "  content: \"▾\";\n",
              "}\n",
              "\n",
              "/* Pipeline/ColumnTransformer-specific style */\n",
              "\n",
              "#sk-container-id-2 div.sk-label input.sk-toggleable__control:checked~label.sk-toggleable__label {\n",
              "  color: var(--sklearn-color-text);\n",
              "  background-color: var(--sklearn-color-unfitted-level-2);\n",
              "}\n",
              "\n",
              "#sk-container-id-2 div.sk-label.fitted input.sk-toggleable__control:checked~label.sk-toggleable__label {\n",
              "  background-color: var(--sklearn-color-fitted-level-2);\n",
              "}\n",
              "\n",
              "/* Estimator-specific style */\n",
              "\n",
              "/* Colorize estimator box */\n",
              "#sk-container-id-2 div.sk-estimator input.sk-toggleable__control:checked~label.sk-toggleable__label {\n",
              "  /* unfitted */\n",
              "  background-color: var(--sklearn-color-unfitted-level-2);\n",
              "}\n",
              "\n",
              "#sk-container-id-2 div.sk-estimator.fitted input.sk-toggleable__control:checked~label.sk-toggleable__label {\n",
              "  /* fitted */\n",
              "  background-color: var(--sklearn-color-fitted-level-2);\n",
              "}\n",
              "\n",
              "#sk-container-id-2 div.sk-label label.sk-toggleable__label,\n",
              "#sk-container-id-2 div.sk-label label {\n",
              "  /* The background is the default theme color */\n",
              "  color: var(--sklearn-color-text-on-default-background);\n",
              "}\n",
              "\n",
              "/* On hover, darken the color of the background */\n",
              "#sk-container-id-2 div.sk-label:hover label.sk-toggleable__label {\n",
              "  color: var(--sklearn-color-text);\n",
              "  background-color: var(--sklearn-color-unfitted-level-2);\n",
              "}\n",
              "\n",
              "/* Label box, darken color on hover, fitted */\n",
              "#sk-container-id-2 div.sk-label.fitted:hover label.sk-toggleable__label.fitted {\n",
              "  color: var(--sklearn-color-text);\n",
              "  background-color: var(--sklearn-color-fitted-level-2);\n",
              "}\n",
              "\n",
              "/* Estimator label */\n",
              "\n",
              "#sk-container-id-2 div.sk-label label {\n",
              "  font-family: monospace;\n",
              "  font-weight: bold;\n",
              "  display: inline-block;\n",
              "  line-height: 1.2em;\n",
              "}\n",
              "\n",
              "#sk-container-id-2 div.sk-label-container {\n",
              "  text-align: center;\n",
              "}\n",
              "\n",
              "/* Estimator-specific */\n",
              "#sk-container-id-2 div.sk-estimator {\n",
              "  font-family: monospace;\n",
              "  border: 1px dotted var(--sklearn-color-border-box);\n",
              "  border-radius: 0.25em;\n",
              "  box-sizing: border-box;\n",
              "  margin-bottom: 0.5em;\n",
              "  /* unfitted */\n",
              "  background-color: var(--sklearn-color-unfitted-level-0);\n",
              "}\n",
              "\n",
              "#sk-container-id-2 div.sk-estimator.fitted {\n",
              "  /* fitted */\n",
              "  background-color: var(--sklearn-color-fitted-level-0);\n",
              "}\n",
              "\n",
              "/* on hover */\n",
              "#sk-container-id-2 div.sk-estimator:hover {\n",
              "  /* unfitted */\n",
              "  background-color: var(--sklearn-color-unfitted-level-2);\n",
              "}\n",
              "\n",
              "#sk-container-id-2 div.sk-estimator.fitted:hover {\n",
              "  /* fitted */\n",
              "  background-color: var(--sklearn-color-fitted-level-2);\n",
              "}\n",
              "\n",
              "/* Specification for estimator info (e.g. \"i\" and \"?\") */\n",
              "\n",
              "/* Common style for \"i\" and \"?\" */\n",
              "\n",
              ".sk-estimator-doc-link,\n",
              "a:link.sk-estimator-doc-link,\n",
              "a:visited.sk-estimator-doc-link {\n",
              "  float: right;\n",
              "  font-size: smaller;\n",
              "  line-height: 1em;\n",
              "  font-family: monospace;\n",
              "  background-color: var(--sklearn-color-background);\n",
              "  border-radius: 1em;\n",
              "  height: 1em;\n",
              "  width: 1em;\n",
              "  text-decoration: none !important;\n",
              "  margin-left: 0.5em;\n",
              "  text-align: center;\n",
              "  /* unfitted */\n",
              "  border: var(--sklearn-color-unfitted-level-1) 1pt solid;\n",
              "  color: var(--sklearn-color-unfitted-level-1);\n",
              "}\n",
              "\n",
              ".sk-estimator-doc-link.fitted,\n",
              "a:link.sk-estimator-doc-link.fitted,\n",
              "a:visited.sk-estimator-doc-link.fitted {\n",
              "  /* fitted */\n",
              "  border: var(--sklearn-color-fitted-level-1) 1pt solid;\n",
              "  color: var(--sklearn-color-fitted-level-1);\n",
              "}\n",
              "\n",
              "/* On hover */\n",
              "div.sk-estimator:hover .sk-estimator-doc-link:hover,\n",
              ".sk-estimator-doc-link:hover,\n",
              "div.sk-label-container:hover .sk-estimator-doc-link:hover,\n",
              ".sk-estimator-doc-link:hover {\n",
              "  /* unfitted */\n",
              "  background-color: var(--sklearn-color-unfitted-level-3);\n",
              "  color: var(--sklearn-color-background);\n",
              "  text-decoration: none;\n",
              "}\n",
              "\n",
              "div.sk-estimator.fitted:hover .sk-estimator-doc-link.fitted:hover,\n",
              ".sk-estimator-doc-link.fitted:hover,\n",
              "div.sk-label-container:hover .sk-estimator-doc-link.fitted:hover,\n",
              ".sk-estimator-doc-link.fitted:hover {\n",
              "  /* fitted */\n",
              "  background-color: var(--sklearn-color-fitted-level-3);\n",
              "  color: var(--sklearn-color-background);\n",
              "  text-decoration: none;\n",
              "}\n",
              "\n",
              "/* Span, style for the box shown on hovering the info icon */\n",
              ".sk-estimator-doc-link span {\n",
              "  display: none;\n",
              "  z-index: 9999;\n",
              "  position: relative;\n",
              "  font-weight: normal;\n",
              "  right: .2ex;\n",
              "  padding: .5ex;\n",
              "  margin: .5ex;\n",
              "  width: min-content;\n",
              "  min-width: 20ex;\n",
              "  max-width: 50ex;\n",
              "  color: var(--sklearn-color-text);\n",
              "  box-shadow: 2pt 2pt 4pt #999;\n",
              "  /* unfitted */\n",
              "  background: var(--sklearn-color-unfitted-level-0);\n",
              "  border: .5pt solid var(--sklearn-color-unfitted-level-3);\n",
              "}\n",
              "\n",
              ".sk-estimator-doc-link.fitted span {\n",
              "  /* fitted */\n",
              "  background: var(--sklearn-color-fitted-level-0);\n",
              "  border: var(--sklearn-color-fitted-level-3);\n",
              "}\n",
              "\n",
              ".sk-estimator-doc-link:hover span {\n",
              "  display: block;\n",
              "}\n",
              "\n",
              "/* \"?\"-specific style due to the `<a>` HTML tag */\n",
              "\n",
              "#sk-container-id-2 a.estimator_doc_link {\n",
              "  float: right;\n",
              "  font-size: 1rem;\n",
              "  line-height: 1em;\n",
              "  font-family: monospace;\n",
              "  background-color: var(--sklearn-color-background);\n",
              "  border-radius: 1rem;\n",
              "  height: 1rem;\n",
              "  width: 1rem;\n",
              "  text-decoration: none;\n",
              "  /* unfitted */\n",
              "  color: var(--sklearn-color-unfitted-level-1);\n",
              "  border: var(--sklearn-color-unfitted-level-1) 1pt solid;\n",
              "}\n",
              "\n",
              "#sk-container-id-2 a.estimator_doc_link.fitted {\n",
              "  /* fitted */\n",
              "  border: var(--sklearn-color-fitted-level-1) 1pt solid;\n",
              "  color: var(--sklearn-color-fitted-level-1);\n",
              "}\n",
              "\n",
              "/* On hover */\n",
              "#sk-container-id-2 a.estimator_doc_link:hover {\n",
              "  /* unfitted */\n",
              "  background-color: var(--sklearn-color-unfitted-level-3);\n",
              "  color: var(--sklearn-color-background);\n",
              "  text-decoration: none;\n",
              "}\n",
              "\n",
              "#sk-container-id-2 a.estimator_doc_link.fitted:hover {\n",
              "  /* fitted */\n",
              "  background-color: var(--sklearn-color-fitted-level-3);\n",
              "}\n",
              "</style><div id=\"sk-container-id-2\" class=\"sk-top-container\"><div class=\"sk-text-repr-fallback\"><pre>XGBClassifier(base_score=None, booster=None, callbacks=None,\n",
              "              colsample_bylevel=None, colsample_bynode=None,\n",
              "              colsample_bytree=np.float64(0.6621422616094998), device=None,\n",
              "              early_stopping_rounds=None, enable_categorical=True,\n",
              "              eval_metric=&#x27;auc&#x27;, feature_types=None, feature_weights=None,\n",
              "              gamma=np.float64(4.738538693265129), grow_policy=None,\n",
              "              importance_type=None, interaction_constraints=None,\n",
              "              learning_rate=np.float64(0.15680113598338938), max_bin=None,\n",
              "              max_cat_threshold=None, max_cat_to_onehot=None,\n",
              "              max_delta_step=None, max_depth=3, max_leaves=None,\n",
              "              min_child_weight=None, missing=nan, monotone_constraints=None,\n",
              "              multi_strategy=None, n_estimators=100, n_jobs=None,\n",
              "              num_parallel_tree=None, ...)</pre><b>In a Jupyter environment, please rerun this cell to show the HTML representation or trust the notebook. <br />On GitHub, the HTML representation is unable to render, please try loading this page with nbviewer.org.</b></div><div class=\"sk-container\" hidden><div class=\"sk-item\"><div class=\"sk-estimator fitted sk-toggleable\"><input class=\"sk-toggleable__control sk-hidden--visually\" id=\"sk-estimator-id-2\" type=\"checkbox\" checked><label for=\"sk-estimator-id-2\" class=\"sk-toggleable__label fitted sk-toggleable__label-arrow\"><div><div>XGBClassifier</div></div><div><a class=\"sk-estimator-doc-link fitted\" rel=\"noreferrer\" target=\"_blank\" href=\"https://xgboost.readthedocs.io/en/release_3.0.0/python/python_api.html#xgboost.XGBClassifier\">?<span>Documentation for XGBClassifier</span></a><span class=\"sk-estimator-doc-link fitted\">i<span>Fitted</span></span></div></label><div class=\"sk-toggleable__content fitted\"><pre>XGBClassifier(base_score=None, booster=None, callbacks=None,\n",
              "              colsample_bylevel=None, colsample_bynode=None,\n",
              "              colsample_bytree=np.float64(0.6621422616094998), device=None,\n",
              "              early_stopping_rounds=None, enable_categorical=True,\n",
              "              eval_metric=&#x27;auc&#x27;, feature_types=None, feature_weights=None,\n",
              "              gamma=np.float64(4.738538693265129), grow_policy=None,\n",
              "              importance_type=None, interaction_constraints=None,\n",
              "              learning_rate=np.float64(0.15680113598338938), max_bin=None,\n",
              "              max_cat_threshold=None, max_cat_to_onehot=None,\n",
              "              max_delta_step=None, max_depth=3, max_leaves=None,\n",
              "              min_child_weight=None, missing=nan, monotone_constraints=None,\n",
              "              multi_strategy=None, n_estimators=100, n_jobs=None,\n",
              "              num_parallel_tree=None, ...)</pre></div> </div></div></div></div>"
            ]
          },
          "metadata": {},
          "execution_count": 22
        }
      ]
    },
    {
      "cell_type": "code",
      "source": [
        "train_preds_proba = final_clf.predict_proba(train_inputs)[:, 1]\n",
        "val_preds_proba = final_clf.predict_proba(val_inputs)[:, 1]\n",
        "\n",
        "train_auc = roc_auc_score(train_targets, train_preds_proba)\n",
        "val_auc = roc_auc_score(val_targets, val_preds_proba)\n",
        "\n",
        "print(f\"Final model - Train AUROC: {train_auc:.4f}\")\n",
        "print(f\"Final model - Validation AUROC: {val_auc:.4f}\")\n"
      ],
      "metadata": {
        "colab": {
          "base_uri": "https://localhost:8080/"
        },
        "id": "O4rwoZb6iuBb",
        "outputId": "73d39bb8-4488-44e0-b7ac-9041e6e58496"
      },
      "execution_count": 23,
      "outputs": [
        {
          "output_type": "stream",
          "name": "stdout",
          "text": [
            "Final model - Train AUROC: 0.9403\n",
            "Final model - Validation AUROC: 0.9373\n"
          ]
        }
      ]
    },
    {
      "cell_type": "markdown",
      "source": [
        "Спостереження:\n",
        "1. Валідаційний AUC покращився трохи — це знак, що підібрані гіперпараметри допомогли моделі краще узагальнювати.\n",
        "2. Різниця між train і val AUROC невелика (~0.003), що свідчить про баланс між недонавчанням і перенавчанням — гарний знак.\n",
        "3. Модель стала трохи простішою (train AUROC трохи знизився порівняно з попередньою, а валідаційна покращилася), отже ми, можливо, уникнули перенавчання."
      ],
      "metadata": {
        "id": "kIUvoB3Wi2kc"
      }
    },
    {
      "cell_type": "markdown",
      "source": [
        "4. Навчіть на наших даних модель LightGBM. Параметри алгоритму встановіть на свій розсуд, ми далі будемо їх тюнити. Рекомендую тренувати не дуже складну модель.\n",
        "\n",
        "  Опис всіх конфігураційних параметрів LightGBM - тут https://lightgbm.readthedocs.io/en/latest/Parameters.html\n",
        "\n",
        "  **Важливо:** зробіть такі налаштування LightGBM аби він самостійно обробляв незаповнені значення в даних і обробляв категоріальні колонки.\n",
        "\n",
        "  Аби передати категоріальні колонки в LightGBM - необхідно виявити їх індекси і передати в параметрі `cat_feature=cat_feature_indexes`\n",
        "\n",
        "  Після тренування моделі\n",
        "  1. Виміряйте точність з допомогою AUROC на тренувальному та валідаційному наборах.\n",
        "  2. Зробіть висновок про отриману модель: вона хороша/погана, чи є high bias/high variance?\n",
        "  3. Порівняйте якість цієї моделі з тою, що ви отрмали з використанням XGBoostClassifier раніше. Чи вийшло покращити якість?"
      ],
      "metadata": {
        "id": "Vg77SVWrBBmU"
      }
    },
    {
      "cell_type": "code",
      "source": [
        "cat_features = train_inputs.select_dtypes(include=['category']).columns.tolist()\n",
        "cat_feature_indexes = [train_inputs.columns.get_loc(col) for col in cat_features]\n",
        "print(\"Категоріальні колонки:\", cat_features)\n",
        "print(\"Індекси категоріальних колонок:\", cat_feature_indexes)"
      ],
      "metadata": {
        "id": "C-9aZn4d45No",
        "colab": {
          "base_uri": "https://localhost:8080/"
        },
        "outputId": "5bc12a1e-b7df-4b8c-9f16-e5e142697de8"
      },
      "execution_count": 24,
      "outputs": [
        {
          "output_type": "stream",
          "name": "stdout",
          "text": [
            "Категоріальні колонки: ['Geography', 'Gender', 'HasCrCard', 'IsActiveMember']\n",
            "Індекси категоріальних колонок: [1, 2, 7, 8]\n"
          ]
        }
      ]
    },
    {
      "cell_type": "code",
      "source": [
        "import lightgbm as lgb\n",
        "print(lgb.__version__)"
      ],
      "metadata": {
        "colab": {
          "base_uri": "https://localhost:8080/"
        },
        "id": "2ERmIGbXkIsi",
        "outputId": "bb3a6168-9d87-4934-a61f-108464b8fea0"
      },
      "execution_count": 28,
      "outputs": [
        {
          "output_type": "stream",
          "name": "stdout",
          "text": [
            "4.6.0\n"
          ]
        }
      ]
    },
    {
      "cell_type": "code",
      "source": [
        "model_lgb = lgb.train(\n",
        "    params,\n",
        "    lgb_train,\n",
        "    num_boost_round=100,\n",
        "    valid_sets=[lgb_train, lgb_val],\n",
        "    valid_names=['train', 'valid'],\n",
        "    callbacks=[\n",
        "        lgb.early_stopping(stopping_rounds=20),\n",
        "        lgb.log_evaluation(period=10)  # вивід прогресу кожні 10 ітерацій\n",
        "    ]\n",
        ")"
      ],
      "metadata": {
        "colab": {
          "base_uri": "https://localhost:8080/"
        },
        "id": "hY7LqF-CjeEs",
        "outputId": "29e9e959-a0cc-44fb-964f-4a4b2c686084"
      },
      "execution_count": 31,
      "outputs": [
        {
          "output_type": "stream",
          "name": "stdout",
          "text": [
            "Training until validation scores don't improve for 20 rounds\n",
            "[10]\ttrain's auc: 0.936743\tvalid's auc: 0.931026\n",
            "[20]\ttrain's auc: 0.942121\tvalid's auc: 0.933347\n",
            "[30]\ttrain's auc: 0.949594\tvalid's auc: 0.935136\n",
            "[40]\ttrain's auc: 0.954691\tvalid's auc: 0.934688\n",
            "Early stopping, best iteration is:\n",
            "[27]\ttrain's auc: 0.947812\tvalid's auc: 0.935542\n"
          ]
        }
      ]
    },
    {
      "cell_type": "code",
      "source": [
        "train_preds = model_lgb.predict(train_inputs, num_iteration=model_lgb.best_iteration)\n",
        "val_preds = model_lgb.predict(val_inputs, num_iteration=model_lgb.best_iteration)"
      ],
      "metadata": {
        "id": "HrC454LXjhWn"
      },
      "execution_count": 32,
      "outputs": []
    },
    {
      "cell_type": "code",
      "source": [
        "from sklearn.metrics import roc_auc_score\n",
        "\n",
        "print(\"Train AUROC:\", roc_auc_score(train_targets, train_preds))\n",
        "print(\"Validation AUROC:\", roc_auc_score(val_targets, val_preds))"
      ],
      "metadata": {
        "colab": {
          "base_uri": "https://localhost:8080/"
        },
        "id": "4W5kHATokvzG",
        "outputId": "65b87551-fcce-4747-9b29-8ad170b54cda"
      },
      "execution_count": 33,
      "outputs": [
        {
          "output_type": "stream",
          "name": "stdout",
          "text": [
            "Train AUROC: 0.9478124974829306\n",
            "Validation AUROC: 0.9355415323410385\n"
          ]
        }
      ]
    },
    {
      "cell_type": "markdown",
      "source": [
        "Спостпереження: дуже схоже на результати XGBoost, де ти мав Validation AUROC близько 0.9373. Тобто обидві моделі приблизно однакові за якістю.\n",
        "\n"
      ],
      "metadata": {
        "id": "NVz9TwP6k0nd"
      }
    },
    {
      "cell_type": "markdown",
      "source": [
        "5. Використовуючи бібліотеку `Hyperopt` і приклад пошуку гіперпараметрів для `LightGBM` з лекції знайдіть оптимальні значення гіперпараметрів `LightGBM` для нашої задачі. Задайте свою сітку гіперпараметрів виходячи з тих параметрів, які ви б хотіли перебрати. Поставте кількість раундів в підборі гіперпараметрів рівну **10**.\n",
        "\n",
        "  **Увага!** Для того, аби скористатись hyperopt, нам треба задати функцію `objective`. І тут ми також ставимо loss - негативне значення AUROC, як і при пошуці гіперпараметрів для XGBoost. До речі, можна спробувати написати код так, аби в objective передавати лише модель і не писати схожий код двічі :)\n",
        "\n",
        "  Після успішного завершення пошуку оптимальних гіперпараметрів\n",
        "    - виведіть найкращі значення гіперпараметрів\n",
        "    - створіть в окремій зміній `final_lgb_clf` модель `LightGBM` з найкращими гіперпараметрами\n",
        "    - навчіть модель `final_lgb_clf`\n",
        "    - оцініть якість моделі `final_lgb_clf` на тренувальній і валідаційній вибірках з допомогою AUROC.\n",
        "    - зробіть висновок про якість моделі. Чи стала вона краще порівняно з попереднім пунктом (4) цього завдання?"
      ],
      "metadata": {
        "id": "nCnkGD_sEW1i"
      }
    },
    {
      "cell_type": "code",
      "source": [
        "from hyperopt import hp\n",
        "\n",
        "space = {\n",
        "    'num_leaves': hp.choice('num_leaves', [20, 31, 40, 50]),\n",
        "    'max_depth': hp.choice('max_depth', [5, 10, 15, -1]),\n",
        "    'learning_rate': hp.loguniform('learning_rate', -3, 0),  # від ~0.05 до 1\n",
        "    'min_child_samples': hp.choice('min_child_samples', [10, 20, 30, 40]),\n",
        "    'subsample': hp.uniform('subsample', 0.6, 1.0),\n",
        "    'colsample_bytree': hp.uniform('colsample_bytree', 0.6, 1.0),\n",
        "    'reg_alpha': hp.uniform('reg_alpha', 0, 1),\n",
        "    'reg_lambda': hp.uniform('reg_lambda', 0, 1),\n",
        "}"
      ],
      "metadata": {
        "id": "cfMQKA4D47Rq"
      },
      "execution_count": 34,
      "outputs": []
    },
    {
      "cell_type": "code",
      "source": [
        "from lightgbm import LGBMClassifier\n",
        "from sklearn.metrics import roc_auc_score\n",
        "from hyperopt import STATUS_OK\n",
        "\n",
        "def objective(params):\n",
        "    # Перетворимо параметри, які вибрані через hp.choice, в int, якщо потрібно\n",
        "    params['num_leaves'] = int(params['num_leaves'])\n",
        "    params['max_depth'] = int(params['max_depth'])\n",
        "    params['min_child_samples'] = int(params['min_child_samples'])\n",
        "\n",
        "    model = LGBMClassifier(\n",
        "        n_estimators=100,\n",
        "        objective='binary',\n",
        "        random_state=42,\n",
        "        **params\n",
        "    )\n",
        "\n",
        "    model.fit(\n",
        "        train_inputs, train_targets,\n",
        "        eval_set=[(val_inputs, val_targets)],\n",
        "        eval_metric='auc',\n",
        "        early_stopping_rounds=20,\n",
        "        verbose=False,\n",
        "        categorical_feature=cat_feature_indexes\n",
        "    )\n",
        "\n",
        "    val_preds = model.predict_proba(val_inputs)[:, 1]\n",
        "    auc = roc_auc_score(val_targets, val_preds)\n",
        "\n",
        "    return {'loss': -auc, 'status': STATUS_OK}"
      ],
      "metadata": {
        "id": "sb1nADLKk-lx"
      },
      "execution_count": 35,
      "outputs": []
    },
    {
      "cell_type": "code",
      "source": [
        "def objective(params):\n",
        "    params['num_leaves'] = int(params['num_leaves'])\n",
        "    params['max_depth'] = int(params['max_depth'])\n",
        "    params['min_child_samples'] = int(params['min_child_samples'])\n",
        "\n",
        "    model = LGBMClassifier(\n",
        "        n_estimators=100,\n",
        "        objective='binary',\n",
        "        random_state=42,\n",
        "        **params\n",
        "    )\n",
        "\n",
        "    model.fit(\n",
        "        train_inputs, train_targets,\n",
        "        categorical_feature=cat_feature_indexes,\n",
        "        verbose=False\n",
        "    )\n",
        "\n",
        "    val_preds = model.predict_proba(val_inputs)[:, 1]\n",
        "    auc = roc_auc_score(val_targets, val_preds)\n",
        "\n",
        "    return {'loss': -auc, 'status': STATUS_OK}"
      ],
      "metadata": {
        "id": "Vvyb6BoIlBVP"
      },
      "execution_count": 37,
      "outputs": []
    },
    {
      "cell_type": "code",
      "source": [
        "final_lgb_clf = LGBMClassifier(\n",
        "    n_estimators=100,\n",
        "    objective='binary',\n",
        "    random_state=42,\n",
        "    **best_params\n",
        ")\n",
        "\n",
        "final_lgb_clf.fit(\n",
        "    train_inputs, train_targets,\n",
        "    categorical_feature=cat_feature_indexes\n",
        ")\n",
        "\n",
        "\n",
        "train_preds = final_lgb_clf.predict_proba(train_inputs)[:, 1]\n",
        "val_preds = final_lgb_clf.predict_proba(val_inputs)[:, 1]\n",
        "\n",
        "print(\"Final LightGBM Train AUROC:\", roc_auc_score(train_targets, train_preds))\n",
        "print(\"Final LightGBM Validation AUROC:\", roc_auc_score(val_targets, val_preds))"
      ],
      "metadata": {
        "colab": {
          "base_uri": "https://localhost:8080/"
        },
        "id": "Xhocr2pTlNO9",
        "outputId": "749c246a-4896-4fb2-b046-fa7753cab763"
      },
      "execution_count": 39,
      "outputs": [
        {
          "output_type": "stream",
          "name": "stdout",
          "text": [
            "Final LightGBM Train AUROC: 0.9460167880601026\n",
            "Final LightGBM Validation AUROC: 0.9365028465601206\n"
          ]
        }
      ]
    },
    {
      "cell_type": "markdown",
      "source": [
        "Спостереження: LightGBM трішки краще навчився на тренувальних даних (AUROC ~0.9460 проти ~0.9403 у XGBoost).\n",
        "На валідації результати дуже близькі, трохи кращий XGBoost (0.9373 проти 0.9365), але різниця мінімальна."
      ],
      "metadata": {
        "id": "4kksfogolZsG"
      }
    },
    {
      "cell_type": "markdown",
      "source": [
        "6. Оберіть модель з експериментів в цьому ДЗ і зробіть новий `submission` на Kaggle та додайте код для цього і скріншот скора на публічному лідерборді.\n",
        "  \n",
        "  **Напишіть коментар, чому ви обрали саме цю модель?**\n",
        "\n",
        "  І я вас вітаю - це останнє завдання з цим набором даних 💪 На цьому етапі корисно проаналізувати, які моделі показали себе найкраще і подумати, чому."
      ],
      "metadata": {
        "id": "XArADR2CG8VK"
      }
    },
    {
      "cell_type": "code",
      "source": [
        "print(\"Train columns:\", train_inputs.columns.tolist())\n",
        "print(\"Test columns:\", test_inputs.columns.tolist())"
      ],
      "metadata": {
        "colab": {
          "base_uri": "https://localhost:8080/"
        },
        "id": "UqRVHfB0o4Vz",
        "outputId": "dd59b4d1-c29c-4c9b-855f-259fe009f956"
      },
      "execution_count": 47,
      "outputs": [
        {
          "output_type": "stream",
          "name": "stdout",
          "text": [
            "Train columns: ['CreditScore', 'Geography', 'Gender', 'Age', 'Tenure', 'Balance', 'NumOfProducts', 'HasCrCard', 'IsActiveMember', 'EstimatedSalary']\n",
            "Test columns: ['id', 'CreditScore', 'Geography', 'Gender', 'Age', 'Tenure', 'Balance', 'NumOfProducts', 'HasCrCard', 'IsActiveMember', 'EstimatedSalary']\n"
          ]
        }
      ]
    },
    {
      "cell_type": "code",
      "source": [
        "if 'id' in test_inputs.columns:\n",
        "    test_inputs = test_inputs.drop(columns=['id'])"
      ],
      "metadata": {
        "id": "zZJs3Ow-pBsi"
      },
      "execution_count": 48,
      "outputs": []
    },
    {
      "cell_type": "code",
      "source": [
        "for col in categorical_cols:\n",
        "    if col in test_inputs.columns:\n",
        "        test_inputs[col] = test_inputs[col].astype('category')\n",
        "\n",
        "test_cat_feature_indexes = [test_inputs.columns.get_loc(col) for col in categorical_cols if col in test_inputs.columns]\n",
        "\n",
        "test_preds = final_lgb_clf.predict_proba(\n",
        "    test_inputs,\n",
        "    categorical_feature=test_cat_feature_indexes\n",
        ")[:, 1]\n"
      ],
      "metadata": {
        "id": "COIjJH9f5SSp"
      },
      "execution_count": 49,
      "outputs": []
    },
    {
      "cell_type": "code",
      "source": [
        "# Отримуємо індекси категоріальних колонок\n",
        "test_cat_feature_indexes = [test_inputs.columns.get_loc(col) for col in categorical_cols if col in test_inputs.columns]\n",
        "\n",
        "# Робимо передбачення ймовірностей для тесту\n",
        "test_preds = final_lgb_clf.predict_proba(\n",
        "    test_inputs,\n",
        "    categorical_feature=test_cat_feature_indexes\n",
        ")[:, 1]\n",
        "\n",
        "# Зчитуємо шаблон сабміту (файл sample_submission.csv повинен бути у теці)\n",
        "submission = pd.read_csv('sample_submission.csv')\n",
        "\n",
        "# Записуємо у стовпець для цільової змінної (наприклад, 'Exited')\n",
        "submission['Exited'] = test_preds\n",
        "\n",
        "# Зберігаємо фінальний файл сабміту\n",
        "submission.to_csv('submission_lightgbm_optimized.csv', index=False)"
      ],
      "metadata": {
        "id": "JKbQGx6ypXpK"
      },
      "execution_count": 52,
      "outputs": []
    },
    {
      "cell_type": "code",
      "source": [
        "print(submission.head())"
      ],
      "metadata": {
        "colab": {
          "base_uri": "https://localhost:8080/"
        },
        "id": "_wY00jB5pdXT",
        "outputId": "5c69396e-5ba3-41e6-a0e9-5d95530d6e18"
      },
      "execution_count": 54,
      "outputs": [
        {
          "output_type": "stream",
          "name": "stdout",
          "text": [
            "      id    Exited\n",
            "0  15000  0.081758\n",
            "1  15001  0.012897\n",
            "2  15002  0.058712\n",
            "3  15003  0.542474\n",
            "4  15004  0.029262\n"
          ]
        }
      ]
    },
    {
      "cell_type": "code",
      "source": [
        "# Завантажуємо файл (тільки якщо працюєш у Google Colab)\n",
        "from google.colab import files\n",
        "files.download('submission_lightgbm_optimized.csv')"
      ],
      "metadata": {
        "colab": {
          "base_uri": "https://localhost:8080/",
          "height": 38
        },
        "id": "TIf0suXcm6zL",
        "outputId": "33ce3613-8ba0-4229-8170-119ce2f87b5b"
      },
      "execution_count": 55,
      "outputs": [
        {
          "output_type": "display_data",
          "data": {
            "text/plain": [
              "<IPython.core.display.Javascript object>"
            ],
            "application/javascript": [
              "\n",
              "    async function download(id, filename, size) {\n",
              "      if (!google.colab.kernel.accessAllowed) {\n",
              "        return;\n",
              "      }\n",
              "      const div = document.createElement('div');\n",
              "      const label = document.createElement('label');\n",
              "      label.textContent = `Downloading \"${filename}\": `;\n",
              "      div.appendChild(label);\n",
              "      const progress = document.createElement('progress');\n",
              "      progress.max = size;\n",
              "      div.appendChild(progress);\n",
              "      document.body.appendChild(div);\n",
              "\n",
              "      const buffers = [];\n",
              "      let downloaded = 0;\n",
              "\n",
              "      const channel = await google.colab.kernel.comms.open(id);\n",
              "      // Send a message to notify the kernel that we're ready.\n",
              "      channel.send({})\n",
              "\n",
              "      for await (const message of channel.messages) {\n",
              "        // Send a message to notify the kernel that we're ready.\n",
              "        channel.send({})\n",
              "        if (message.buffers) {\n",
              "          for (const buffer of message.buffers) {\n",
              "            buffers.push(buffer);\n",
              "            downloaded += buffer.byteLength;\n",
              "            progress.value = downloaded;\n",
              "          }\n",
              "        }\n",
              "      }\n",
              "      const blob = new Blob(buffers, {type: 'application/binary'});\n",
              "      const a = document.createElement('a');\n",
              "      a.href = window.URL.createObjectURL(blob);\n",
              "      a.download = filename;\n",
              "      div.appendChild(a);\n",
              "      a.click();\n",
              "      div.remove();\n",
              "    }\n",
              "  "
            ]
          },
          "metadata": {}
        },
        {
          "output_type": "display_data",
          "data": {
            "text/plain": [
              "<IPython.core.display.Javascript object>"
            ],
            "application/javascript": [
              "download(\"download_9cafa32a-0398-42bd-ab04-ecbcdb128bba\", \"submission_lightgbm_optimized.csv\", 261102)"
            ]
          },
          "metadata": {}
        }
      ]
    },
    {
      "cell_type": "markdown",
      "source": [
        "Я обрала LightGBM з оптимізованими гіперпараметрами, бо:\n",
        "\n",
        "1. Модель показала стабільно високу AUROC як на тренуванні (0.946), так і на валідації (0.937), що свідчить про добрий баланс між underfitting та overfitting.\n",
        "2. LightGBM ефективно працює з категоріальними змінними без додаткової обробки.\n",
        "3. У порівнянні з XGBoost, LightGBM трохи краще навчився на тренувальних даних і показав конкурентний результат на валідації.\n",
        "Власне, LightGBM зазвичай швидший в тренуванні та прогнозуванні, що є плюсом при роботі з великими даними."
      ],
      "metadata": {
        "id": "F137m36Elo4w"
      }
    },
    {
      "cell_type": "markdown",
      "source": [
        "![26.07.2025.png](data:image/png;base64,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)"
      ],
      "metadata": {
        "id": "I2NyREIJrQsi"
      }
    }
  ]
}