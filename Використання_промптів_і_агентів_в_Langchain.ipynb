{
  "nbformat": 4,
  "nbformat_minor": 0,
  "metadata": {
    "colab": {
      "provenance": []
    },
    "kernelspec": {
      "name": "python3",
      "display_name": "Python 3"
    },
    "language_info": {
      "name": "python"
    }
  },
  "cells": [
    {
      "cell_type": "markdown",
      "source": [
        "\n",
        "### Завдання 1: Виклик LLM з базовим промптом\n",
        "\n",
        "Створіть можливість викликати LLM зі звичайним текстовим промптом.\n",
        "\n",
        "Промпт має дозвляти отримати інформацію простою мовою на певну тему. В цьому завданні ми хочемо дізнатись про тему \"Квантові обчислення\".\n",
        "\n",
        "Відповідь моделі повинна містити визначення, ключові переваги та поточні дослідження в цій галузі.\n",
        "\n",
        "Обмежте відповідь до 200 символів і пропишіть в промпті аби відповідь була короткою (це зекономить Вам час і гроші на згенеровані токени).\n",
        "\n",
        "В якості LLM можна скористатись як моделлю з HugginFace (рекомендую Mistral), так і ChatGPT4 або ChatGPT3. В обох випадках треба імпортувати потрібну \"обгортку\" (тобто клас, який дозволить ініціювати модель) з LangChain для виклику LLM за API, а також зчитати особистий токен з файла, наприклад, `creds.json`, який розміщений у Вас локально і Ви НЕ здаєте його в ДЗ і НЕ комітите в git 😏\n",
        "\n",
        "Встановіть своє значення температури на свій розсуд (тут немає правильного чи неправильного значення) і напишіть, чому ви обрали саме таке значення для цього завдання.  \n",
        "\n",
        "Запити можна робити як українською, так і англійською - орієнтуйтесь на те, де і чи хочете ви потім лишити цей проєкт і відповідна яка мова буде пасувати більше. В розвʼязках промпти - українською."
      ],
      "metadata": {
        "id": "RMalK_oYR-X_"
      }
    },
    {
      "cell_type": "code",
      "source": [
        "!pip -q install langchain langchain_openai huggingface_hub openai"
      ],
      "metadata": {
        "id": "vT1ICe74cAUS",
        "colab": {
          "base_uri": "https://localhost:8080/"
        },
        "outputId": "542b545f-6531-46ee-d214-29f1ebc517b9"
      },
      "execution_count": 1,
      "outputs": [
        {
          "output_type": "stream",
          "name": "stdout",
          "text": [
            "\u001b[?25l   \u001b[90m━━━━━━━━━━━━━━━━━━━━━━━━━━━━━━━━━━━━━━━━\u001b[0m \u001b[32m0.0/75.0 kB\u001b[0m \u001b[31m?\u001b[0m eta \u001b[36m-:--:--\u001b[0m\r\u001b[2K   \u001b[90m━━━━━━━━━━━━━━━━━━━━━━━━━━━━━━━━━━━━━━━━\u001b[0m \u001b[32m75.0/75.0 kB\u001b[0m \u001b[31m5.2 MB/s\u001b[0m eta \u001b[36m0:00:00\u001b[0m\n",
            "\u001b[?25h\u001b[?25l   \u001b[90m━━━━━━━━━━━━━━━━━━━━━━━━━━━━━━━━━━━━━━━━\u001b[0m \u001b[32m0.0/447.5 kB\u001b[0m \u001b[31m?\u001b[0m eta \u001b[36m-:--:--\u001b[0m\r\u001b[2K   \u001b[90m━━━━━━━━━━━━━━━━━━━━━━━━━━━━━━━━━━━━━━━━\u001b[0m \u001b[32m447.5/447.5 kB\u001b[0m \u001b[31m20.7 MB/s\u001b[0m eta \u001b[36m0:00:00\u001b[0m\n",
            "\u001b[?25h"
          ]
        }
      ]
    },
    {
      "cell_type": "code",
      "source": [
        "import json\n",
        "import os\n",
        "\n",
        "with open('creds.json') as file:\n",
        "  creds = json.load(file)\n",
        "\n",
        "os.environ[\"OPENAI_API_KEY\"] = creds[\"OPENAI_API_KEY\"]"
      ],
      "metadata": {
        "id": "ilUwWIH-0Jv8"
      },
      "execution_count": 27,
      "outputs": []
    },
    {
      "cell_type": "code",
      "source": [
        "overal_temperature = 0.3"
      ],
      "metadata": {
        "id": "f1W75xh40MaJ"
      },
      "execution_count": 9,
      "outputs": []
    },
    {
      "cell_type": "code",
      "source": [
        "from langchain_openai import OpenAI\n",
        "\n",
        "llm = OpenAI(temperature=overal_temperature)"
      ],
      "metadata": {
        "id": "uH_vdW6j0Onr"
      },
      "execution_count": 10,
      "outputs": []
    },
    {
      "cell_type": "code",
      "source": [
        "request = \"Provide a brief definition of quantum computing, describe its key advantages, and current research directions in the field. Limit your answer to 200 characters.\"\n",
        "print(llm(request, max_tokens=200))"
      ],
      "metadata": {
        "colab": {
          "base_uri": "https://localhost:8080/"
        },
        "id": "y5A0JcVC0QFy",
        "outputId": "f1aa1ba0-408c-4ed0-ec2f-5ea73b14d2f4"
      },
      "execution_count": 13,
      "outputs": [
        {
          "output_type": "stream",
          "name": "stdout",
          "text": [
            "\n",
            "\n",
            "Quantum computing is a type of computing that uses quantum-mechanical phenomena, such as superposition and entanglement, to perform operations on data. Its key advantages include faster processing speed and the ability to solve complex problems. Current research directions include developing more stable and scalable quantum systems, improving error correction techniques, and exploring potential applications in fields such as cryptography, chemistry, and machine learning.\n"
          ]
        }
      ]
    },
    {
      "cell_type": "markdown",
      "source": [
        "Квантові обчислення — це тип обчислень, що використовує квантово-механічні явища, такі як суперпозиція та заплутаність, для виконання операцій з даними. Їхні ключові переваги включають потенціал для швидшої та ефективнішої обробки складних задач. Поточні напрями досліджень охоплюють розробку потужніших квантових алгоритмів і вдосконалення стабільності та масштабованості квантових систем."
      ],
      "metadata": {
        "id": "j0jRxKyb0vet"
      }
    },
    {
      "cell_type": "markdown",
      "source": [
        "### Завдання 2: Створення параметризованого промпта для генерації тексту\n",
        "Тепер ми хочемо оновити попередній фукнціонал так, аби в промпт ми могли передавати тему як параметр. Для цього скористайтесь `PromptTemplate` з `langchain` і реалізуйте параметризований промпт та виклик моделі з ним.\n",
        "\n",
        "Запустіть оновлений функціонал (промпт + модел) для пояснень про теми\n",
        "- \"Баєсівські методи в машинному навчанні\"\n",
        "- \"Трансформери в машинному навчанні\"\n",
        "- \"Explainable AI\"\n",
        "\n",
        "Виведіть результати відпрацювання моделі на екран."
      ],
      "metadata": {
        "id": "UiIzV0UIS0GA"
      }
    },
    {
      "cell_type": "code",
      "source": [
        "from langchain.prompts import PromptTemplate\n",
        "\n",
        "prompt = PromptTemplate(\n",
        "    input_variables=[\"ML_topic\"],\n",
        "    template=\"Provide a brief definition of {ML_topic}, describe its key advantages, and current research directions in the field. Limit your answer to 200 characters\",\n",
        ")"
      ],
      "metadata": {
        "id": "kcg7EfdNcBDq"
      },
      "execution_count": 14,
      "outputs": []
    },
    {
      "cell_type": "code",
      "source": [
        "print(prompt.format(ML_topic=\"Bayesian methods in machine learning\"))"
      ],
      "metadata": {
        "colab": {
          "base_uri": "https://localhost:8080/"
        },
        "id": "RUFeCS9X03Mv",
        "outputId": "2ce95bcd-3b8f-438c-d9cd-2b9ba5ce054e"
      },
      "execution_count": 15,
      "outputs": [
        {
          "output_type": "stream",
          "name": "stdout",
          "text": [
            "Provide a brief definition of Bayesian methods in machine learning, describe its key advantages, and current research directions in the field. Limit your answer to 200 characters\n"
          ]
        }
      ]
    },
    {
      "cell_type": "code",
      "source": [
        "print(llm.invoke(prompt.format(ML_topic=\"Bayesian methods in machine learning\")))"
      ],
      "metadata": {
        "colab": {
          "base_uri": "https://localhost:8080/"
        },
        "id": "LI-6WwgG05V3",
        "outputId": "96616ab1-88ed-47ff-ccb0-00b091fc4516"
      },
      "execution_count": 16,
      "outputs": [
        {
          "output_type": "stream",
          "name": "stdout",
          "text": [
            "\n",
            "\n",
            "Bayesian methods in machine learning use probability theory to model uncertainty and update beliefs based on new data. They offer robustness, interpretability, and can handle small datasets. Current research focuses on scalable algorithms and applications in deep learning.\n"
          ]
        }
      ]
    },
    {
      "cell_type": "markdown",
      "source": [
        "Баєсівські методи в машинному навчанні використовують теорію ймовірностей для моделювання невизначеності та здійснення прогнозів. Вони забезпечують інтерпретованість, надійність і здатні працювати з малими наборами даних. Поточні дослідження зосереджуються на масштабованості та інтеграції з глибинним навчанням."
      ],
      "metadata": {
        "id": "Fe8STxq-1DI9"
      }
    },
    {
      "cell_type": "code",
      "source": [
        "print(llm.invoke(prompt.format(ML_topic=\"Transformers in machine learning\")))"
      ],
      "metadata": {
        "colab": {
          "base_uri": "https://localhost:8080/"
        },
        "id": "HLiAtZdK1GfH",
        "outputId": "abd87d00-9698-4a60-a0cc-90ceaffbfae0"
      },
      "execution_count": 17,
      "outputs": [
        {
          "output_type": "stream",
          "name": "stdout",
          "text": [
            "\n",
            "\n",
            "Transformers are a type of neural network architecture used for natural language processing tasks. They are known for their ability to handle long sequences of data and have achieved state-of-the-art performance in tasks such as machine translation and text generation. Current research directions include improving efficiency and interpretability of transformer models.\n"
          ]
        }
      ]
    },
    {
      "cell_type": "markdown",
      "source": [
        "Трансформери — це тип архітектури нейронних мереж, що використовує механізми самоуваги для обробки послідовних даних. Вони продемонстрували високу ефективність у завданнях обробки природної мови та досліджуються для інших застосувань, зокрема в обробці зображень і відео. Поточні напрями досліджень охоплюють підвищення ефективності та інтерпретованості моделей Transformer."
      ],
      "metadata": {
        "id": "gP08OGu61V_4"
      }
    },
    {
      "cell_type": "code",
      "source": [
        "print(llm.invoke(prompt.format(ML_topic=\"Explainable AI\")))"
      ],
      "metadata": {
        "colab": {
          "base_uri": "https://localhost:8080/"
        },
        "id": "MUv7zDZV1X8Q",
        "outputId": "07f1374e-3c42-4264-be5b-900dc5d8f343"
      },
      "execution_count": 18,
      "outputs": [
        {
          "output_type": "stream",
          "name": "stdout",
          "text": [
            "\n",
            "\n",
            "Explainable AI is a subset of artificial intelligence that aims to make the decision-making process of AI systems transparent and understandable to humans. Its key advantages include increased trust, accountability, and ethical considerations. Current research directions focus on developing interpretable and transparent models, as well as creating tools and techniques for explaining AI decisions.\n"
          ]
        }
      ]
    },
    {
      "cell_type": "markdown",
      "source": [
        "Пояснюваний штучний інтелект (Explainable AI) — це підгалузь штучного інтелекту, що має на меті зробити процеси міркувань і прийняття рішень AI-систем прозорими та зрозумілими для людей. Його ключові переваги включають підвищення довіри, відповідальності та врахування етичних аспектів. Поточні напрями досліджень охоплюють розробку інтерпретованих моделей, створення пояснюваних інтерфейсів і дослідження компромісів між точністю та пояснюваністю."
      ],
      "metadata": {
        "id": "f3FQRHtd1hjG"
      }
    },
    {
      "cell_type": "markdown",
      "source": [
        "### Завдання 3: Використання агента для автоматизації процесів\n",
        "Створіть агента, який допоможе автоматично шукати інформацію про останні наукові публікації в різних галузях. Наприклад, агент має знайти 5 останніх публікацій на тему штучного інтелекту.\n",
        "\n",
        "**Кроки:**\n",
        "1. Налаштуйте агента типу ReAct в LangChain для виконання автоматичних запитів.\n",
        "2. Створіть промпт, який спрямовує агента шукати інформацію в інтернеті або в базах даних наукових публікацій.\n",
        "3. Агент повинен видати список публікацій, кожна з яких містить назву, авторів і короткий опис.\n",
        "\n",
        "Для взаємодії з пошуком там необхідно створити `Tool`. В лекції ми використовували `serpapi`. Можна продовжити користуватись ним, або обрати інше АРІ для пошуку (вони в тому числі є безкоштовні). Перелік різних АРІ, доступних в langchain, і орієнтир по вартості запитів можна знайти в окремому документі [тут](https://hannapylieva.notion.site/API-12994835849480a69b2adf2b8441cbb3?pvs=4).\n",
        "\n",
        "Лишаю також нижче приклад використання одного з безкоштовних пошукових АРІ - DuckDuckGo (не потребує створення токена!)  - можливо він вам сподобається :)\n"
      ],
      "metadata": {
        "id": "m9UsL2gXSe-3"
      }
    },
    {
      "cell_type": "code",
      "source": [
        "!pip install -q google-search-results langchain-community langchain_experimental"
      ],
      "metadata": {
        "id": "Jzj4PHP9XwH-"
      },
      "execution_count": 19,
      "outputs": []
    },
    {
      "cell_type": "code",
      "source": [
        "os.environ[\"SERPAPI_API_KEY\"] = creds[\"SERPAPI_API_KEY\"]"
      ],
      "metadata": {
        "id": "M2V0gIf414bW"
      },
      "execution_count": 28,
      "outputs": []
    },
    {
      "cell_type": "code",
      "source": [
        "from langchain.utilities import SerpAPIWrapper # Import SerpAPIWrapper\n",
        "from langchain_openai import ChatOpenAI\n",
        "from langchain import hub\n",
        "from langchain.agents import Tool, AgentExecutor, AgentType, create_react_agent, initialize_agent\n",
        "\n",
        "# Initialize llm and tools\n",
        "llm = ChatOpenAI(model=\"gpt-4o-mini\", temperature=overal_temperature)\n",
        "search = SerpAPIWrapper() # Initialize SerpAPIWrapper\n",
        "# Define paper_tool with SerpAPIWrapper\n",
        "paper_tool = Tool(\n",
        "    name=\"paper_searcher\",\n",
        "    func=search.run, # Use search.run as the function\n",
        "    description=\"Useful for when you need to answer questions about research papers. Input your query to search for papers.\"\n",
        ")"
      ],
      "metadata": {
        "id": "2Rn78e01155X"
      },
      "execution_count": 29,
      "outputs": []
    },
    {
      "cell_type": "code",
      "source": [
        "tools = [paper_tool]\n",
        "prompt = hub.pull(\"hwchase17/react\")"
      ],
      "metadata": {
        "id": "ti_e-0gw18Ws"
      },
      "execution_count": 30,
      "outputs": []
    },
    {
      "cell_type": "code",
      "source": [
        "print(prompt.template)"
      ],
      "metadata": {
        "colab": {
          "base_uri": "https://localhost:8080/"
        },
        "id": "eIhFwGI119sT",
        "outputId": "8764381a-95e8-4a41-865e-89d7500052a6"
      },
      "execution_count": 31,
      "outputs": [
        {
          "output_type": "stream",
          "name": "stdout",
          "text": [
            "Answer the following questions as best you can. You have access to the following tools:\n",
            "\n",
            "{tools}\n",
            "\n",
            "Use the following format:\n",
            "\n",
            "Question: the input question you must answer\n",
            "Thought: you should always think about what to do\n",
            "Action: the action to take, should be one of [{tool_names}]\n",
            "Action Input: the input to the action\n",
            "Observation: the result of the action\n",
            "... (this Thought/Action/Action Input/Observation can repeat N times)\n",
            "Thought: I now know the final answer\n",
            "Final Answer: the final answer to the original input question\n",
            "\n",
            "Begin!\n",
            "\n",
            "Question: {input}\n",
            "Thought:{agent_scratchpad}\n"
          ]
        }
      ]
    },
    {
      "cell_type": "code",
      "source": [
        "agent = create_react_agent(llm, tools, prompt)\n",
        "agent_executor = AgentExecutor(agent=agent, tools=tools, verbose=True)"
      ],
      "metadata": {
        "id": "pytkCQb92BUA"
      },
      "execution_count": 32,
      "outputs": []
    },
    {
      "cell_type": "code",
      "source": [
        "topic = \"Artificial Intelligence\"\n",
        "number = 5\n",
        "prompt_template = f\"\"\"Find {number} recent scientific publications on the topic of {topic}. Search both the Internet and scientific publication databases.\n",
        "\n",
        "For each publication, please provide the following information in a numbered list:\n",
        "1. Title:\n",
        "2. Authors:\n",
        "3. Short Description:\n",
        "\"\"\""
      ],
      "metadata": {
        "id": "tRBiZy972C3_"
      },
      "execution_count": 35,
      "outputs": []
    },
    {
      "cell_type": "code",
      "source": [
        "agent_executor.invoke({\"input\": prompt_template})"
      ],
      "metadata": {
        "colab": {
          "base_uri": "https://localhost:8080/"
        },
        "id": "nxVRMT7f2EZ-",
        "outputId": "876336ad-4619-44e1-8f5e-85c781658392"
      },
      "execution_count": 36,
      "outputs": [
        {
          "output_type": "stream",
          "name": "stdout",
          "text": [
            "\n",
            "\n",
            "\u001b[1m> Entering new AgentExecutor chain...\u001b[0m\n",
            "\u001b[32;1m\u001b[1;3mTo find recent scientific publications on the topic of Artificial Intelligence, I will use the paper_searcher tool to search for relevant research papers. I will look for publications that have been released recently to ensure the information is up-to-date.\n",
            "\n",
            "Action: paper_searcher\n",
            "Action Input: \"recent publications on Artificial Intelligence\"\n",
            "\u001b[0m\u001b[36;1m\u001b[1;3m['Title: OpenLens AI: Fully Autonomous Research Agent for Health Infomatics ... Title: From Mimicry to True Intelligence (TI) - A New Paradigm for Artificial ...', \"The journal's scope encompasses all areas of AI, including agents and multi-agent systems, automated reasoning, constraint processing and search, knowledge ...\", \"AI Applications · How Google's AI Weather Model Helps 38 Million Farmers · KPMG: AI Systems Can Cut Building Energy Waste By Up To 30% · AI and Sustainability: ...\", 'New research shows the natural variability in climate data can cause AI models to struggle at predicting local temperature and rainfall. August 26, 2025.', 'NEJM AI, a monthly journal from NEJM Group, publishes cutting-edge research and applications of artificial intelligence in clinical medicine.', \"Read the latest articles of Artificial Intelligence at ScienceDirect.com, Elsevier's leading platform of peer-reviewed scholarly literature.\", \"Amazon, Microsoft, Google, Meta and OpenAI plan to spend at least $325 billion by the end of the year in pursuit of A.I. We explain why they're doing it. 2d ago ...\", 'The AI Index offers one of the most comprehensive, data-driven views of artificial intelligence. Recognized as a trusted resource by global media, governments, ...', 'Foundations and Trends in Machine Learning · Science Robotics · Nature Machine Intelligence · International Journal of Information Management · AI ...', 'The latest advances in artificial intelligence and machine learning, generative AI, ChatGPT, LLMs, deepfakes, and more']\u001b[0m\u001b[32;1m\u001b[1;3mI need to refine my search to extract specific publications with detailed information such as titles, authors, and descriptions. The initial observation provided a mix of general information and some titles, but not in the structured format I need. I will perform another search to get more precise results.\n",
            "\n",
            "Action: paper_searcher\n",
            "Action Input: \"recent scientific publications Artificial Intelligence 2023\"\n",
            "\u001b[0m\u001b[36;1m\u001b[1;3m[\"The journal's scope encompasses all areas of AI, including agents and multi-agent systems, automated reasoning, constraint processing and search, knowledge ...\", \"Read the latest articles of Artificial Intelligence at ScienceDirect.com, Elsevier's leading platform of peer-reviewed scholarly literature.\", 'Title: OpenLens AI: Fully Autonomous Research Agent for Health Infomatics ... Title: From Mimicry to True Intelligence (TI) - A New Paradigm for Artificial ...', 'The latest annual McKinsey Global Survey on the current state of AI confirms the explosive growth of generative AI (gen AI) tools.', '1. AI performance on demanding benchmarks continues to improve. In 2023, researchers introduced new benchmarks—MMMU, GPQA, and SWE-bench—to test the limits of ...', 'JAFES Session at the 2023 AFES Convention. In recent years, AI – particularly Generative AI – has revolutionized numerous industries, and the realm of ...', 'Recent findings demonstrate the potential for unsupervised language AI models to capture complex scientific concepts, such as the periodic table ...', 'Read the latest research on artificial intelligence and machine learning published in the Proceedings of the National Academy of Sciences. NAS 2024 Annual ...', \"Read the latest articles of Engineering Applications of Artificial Intelligence at ScienceDirect.com, Elsevier's leading platform of peer-reviewed scholarly ...\", \"Research on AI's impact across sectors like healthcare, finance, law, and education, advancing innovation and interdisciplinary collaboration.\"]\u001b[0m\u001b[32;1m\u001b[1;3mI need to conduct a more targeted search to find specific publications that include the necessary details like titles, authors, and short descriptions. The previous observations did not yield structured results. I will refine my search further.\n",
            "\n",
            "Action: paper_searcher\n",
            "Action Input: \"latest research papers on Artificial Intelligence 2023\"\n",
            "\u001b[0m\u001b[36;1m\u001b[1;3m[\"To conclude an eventful 2023 in machine learning and AI research, I'm excited to share 10 noteworthy papers I've read this year.\", '1. AI performance on demanding benchmarks continues to improve. In 2023, researchers introduced new benchmarks—MMMU, GPQA, and SWE-bench—to test the limits of ...', 'A curated list of the latest breakthroughs in AI (in 2023) by release date with a clear video explanation, link to a more in-depth article, and code.', 'Title: OpenLens AI: Fully Autonomous Research Agent for Health Infomatics ... Title: From Mimicry to True Intelligence (TI) - A New Paradigm for Artificial ...', 'Read the latest artificial intelligence articles and thinking from QuantumBlack, AI by McKinsey. Stay informed about the impact of AI on business and ...', \"The journal's scope encompasses all areas of AI, including agents and multi-agent systems, automated reasoning, constraint processing and search, knowledge ...\", 'We review thirteen Delphi studies on the future of Artificial Intelligence (AI), published between 2014 and 2024.', 'We articulate a vision of artificial intelligence (AI) as normal technology. To view AI as normal is not to understate its impact—even ...', \"Keep up with the latest in AI research ... Deep Papers is a podcast series since 2023 featuring deep dives on today's most important AI papers and research.\", \"Here's curated list of the latest breakthroughs in AI and Data Science by release date with a clear video explanation, link to a more in-depth article, and ...\"]\u001b[0m\u001b[32;1m\u001b[1;3mI am still not getting the structured information I need regarding specific publications. I will try a more focused search to see if I can find detailed information about recent scientific publications in Artificial Intelligence.\n",
            "\n",
            "Action: paper_searcher\n",
            "Action Input: \"recent AI research papers 2023\"\n",
            "\u001b[0m\u001b[36;1m\u001b[1;3m[\"To conclude an eventful 2023 in machine learning and AI research, I'm excited to share 10 noteworthy papers I've read this year.\", 'A curated list of the latest breakthroughs in AI (in 2023) by release date with a clear video explanation, link to a more in-depth article, and code.', \"Here are the top research papers and thought leadership pieces of 2023. AI Will Transform Teaching and Learning. Let's Get it Right. A major ...\", \"I'm devising up a list of papers to recommend students just starting out in compsci. What are some must-read papers to give that is not too deep?\", \"Here's curated list of the latest breakthroughs in AI and Data Science by release date with a clear video explanation, link to a more in-depth article, and ...\", 'LLM interpretability, small language models, autonomous agents, API fine-tuning, discovering new algorithms. Dec 31, 2023.', \"Deep Papers is a podcast series since 2023 featuring deep dives on today's most important AI papers and research.\", \"The journal's scope encompasses all areas of AI, including agents and multi-agent systems, automated reasoning, constraint processing and search, knowledge ...\", 'Authors and titles for recent submissions. Fri, 19 Sep 2025 · Thu, 18 Sep 2025 ... Title: OpenLens AI: Fully Autonomous Research Agent for Health Infomatics.', 'This has been a year of incredible progress in the field of Artificial Intelligence (AI) research and its practical applications.']\u001b[0m\u001b[32;1m\u001b[1;3mI am still not obtaining the structured information I need regarding specific publications. I will attempt one more focused search to see if I can find detailed information about recent scientific publications in Artificial Intelligence.\n",
            "\n",
            "Action: paper_searcher\n",
            "Action Input: \"latest AI research publications 2023\"\n",
            "\u001b[0m\u001b[36;1m\u001b[1;3m[\"To conclude an eventful 2023 in machine learning and AI research, I'm excited to share 10 noteworthy papers I've read this year.\", 'A curated list of the latest breakthroughs in AI (in 2023) by release date with a clear video explanation, link to a more in-depth article, and code.', 'Nearly 90% of notable AI models in 2024 came from industry, up from 60% in 2023, while academia remains the top source of highly cited research. Model scale ...', \"The journal's scope encompasses all areas of AI, including agents and multi-agent systems, automated reasoning, constraint processing and search, knowledge ...\", \"This year's report included new analysis on foundation models, including their geopolitics and training costs, the environmental impact of AI systems, K-12 AI ...\", \"I'm devising up a list of papers to recommend students just starting out in compsci. What are some must-read papers to give that is not too deep?\", \"Here's curated list of the latest breakthroughs in AI and Data Science by release date with a clear video explanation, link to a more in-depth article, and ...\", 'JMIR AI is a new journal that focuses on the applications of AI in health settings. This includes contemporary developments as well as historical examples, with ...', 'English- and Chinese-language scholarly publications related to the development and application of AI. This includes journal articles, conference papers, ...', 'Explore our annual report to discover key research highlights, expert testimony, and new analytical tools — all aimed at shaping informed, ...']\u001b[0m\u001b[32;1m\u001b[1;3mI am still not obtaining the structured information I need regarding specific publications. I will attempt one more focused search to see if I can find detailed information about recent scientific publications in Artificial Intelligence.\n",
            "\n",
            "Action: paper_searcher\n",
            "Action Input: \"recent AI research papers 2023\"\n",
            "\u001b[0m\u001b[36;1m\u001b[1;3m[\"To conclude an eventful 2023 in machine learning and AI research, I'm excited to share 10 noteworthy papers I've read this year.\", 'A curated list of the latest breakthroughs in AI (in 2023) by release date with a clear video explanation, link to a more in-depth article, and code.', \"Here are the top research papers and thought leadership pieces of 2023. AI Will Transform Teaching and Learning. Let's Get it Right. A major ...\", \"I'm devising up a list of papers to recommend students just starting out in compsci. What are some must-read papers to give that is not too deep?\", \"Here's curated list of the latest breakthroughs in AI and Data Science by release date with a clear video explanation, link to a more in-depth article, and ...\", 'LLM interpretability, small language models, autonomous agents, API fine-tuning, discovering new algorithms. Dec 31, 2023.', \"Deep Papers is a podcast series since 2023 featuring deep dives on today's most important AI papers and research.\", \"The journal's scope encompasses all areas of AI, including agents and multi-agent systems, automated reasoning, constraint processing and search, knowledge ...\", 'Authors and titles for recent submissions. Fri, 19 Sep 2025 · Thu, 18 Sep 2025 ... Title: OpenLens AI: Fully Autonomous Research Agent for Health Infomatics.', 'This has been a year of incredible progress in the field of Artificial Intelligence (AI) research and its practical applications.']\u001b[0m\u001b[32;1m\u001b[1;3mIt seems that I am not getting the structured information I need regarding specific publications. I will attempt one more focused search to see if I can find detailed information about recent scientific publications in Artificial Intelligence.\n",
            "\n",
            "Action: paper_searcher\n",
            "Action Input: \"recent AI research publications 2023\"\n",
            "\u001b[0m\u001b[36;1m\u001b[1;3m[\"To conclude an eventful 2023 in machine learning and AI research, I'm excited to share 10 noteworthy papers I've read this year.\", 'A curated list of the latest breakthroughs in AI (in 2023) by release date with a clear video explanation, link to a more in-depth article, and code.', \"This year's report included new analysis on foundation models, including their geopolitics and training costs, the environmental impact of AI systems, K-12 AI ...\", 'English- and Chinese-language scholarly publications related to the development and application of AI. This includes journal articles, conference papers, ...', \"The journal's scope encompasses all areas of AI, including agents and multi-agent systems, automated reasoning, constraint processing and search, knowledge ...\", 'This chapter captures trends in AI R&D. It begins by examining AI publications, including journal articles, conference papers, and repositories.', \"Here's curated list of the latest breakthroughs in AI and Data Science by release date with a clear video explanation, link to a more in-depth article, and ...\", \"I'm devising up a list of papers to recommend students just starting out in compsci. What are some must-read papers to give that is not too deep?\", 'JMIR AI is a new journal that focuses on the applications of AI in health settings. This includes contemporary developments as well as historical examples, with ...', \"Deep Papers is a podcast series since 2023 featuring deep dives on today's most important AI papers and research.\"]\u001b[0m\u001b[32;1m\u001b[1;3mIt appears that I am encountering difficulties in retrieving structured information about recent scientific publications on Artificial Intelligence. The search results have not yielded the specific details I need, such as titles, authors, and descriptions in a clear format. \n",
            "\n",
            "Given this situation, I will summarize the observations and attempt to provide a general overview of the current landscape of AI research based on the information I have gathered.\n",
            "\n",
            "Final Answer: While I was unable to retrieve specific structured publications, the landscape of recent AI research in 2023 includes notable advancements in areas such as generative AI, machine learning benchmarks, and applications in healthcare. Key topics of interest include the development of new AI models, the impact of AI on various sectors, and ongoing discussions about the ethical implications of AI technologies. For detailed publications, I recommend checking platforms like ScienceDirect, IEEE Xplore, or arXiv for the latest peer-reviewed articles.\u001b[0m\n",
            "\n",
            "\u001b[1m> Finished chain.\u001b[0m\n"
          ]
        },
        {
          "output_type": "execute_result",
          "data": {
            "text/plain": [
              "{'input': 'Find 5 recent scientific publications on the topic of Artificial Intelligence. Search both the Internet and scientific publication databases.\\n\\nFor each publication, please provide the following information in a numbered list:\\n1. Title:\\n2. Authors:\\n3. Short Description:\\n',\n",
              " 'output': 'While I was unable to retrieve specific structured publications, the landscape of recent AI research in 2023 includes notable advancements in areas such as generative AI, machine learning benchmarks, and applications in healthcare. Key topics of interest include the development of new AI models, the impact of AI on various sectors, and ongoing discussions about the ethical implications of AI technologies. For detailed publications, I recommend checking platforms like ScienceDirect, IEEE Xplore, or arXiv for the latest peer-reviewed articles.'}"
            ]
          },
          "metadata": {},
          "execution_count": 36
        }
      ]
    },
    {
      "cell_type": "code",
      "source": [
        "!pip install -q langchain_community duckduckgo_search"
      ],
      "metadata": {
        "colab": {
          "base_uri": "https://localhost:8080/"
        },
        "id": "33Ys02uS2I6z",
        "outputId": "11fb7680-5d1f-40c6-ff43-d955d435cbc3"
      },
      "execution_count": 37,
      "outputs": [
        {
          "output_type": "stream",
          "name": "stdout",
          "text": [
            "\u001b[?25l   \u001b[90m━━━━━━━━━━━━━━━━━━━━━━━━━━━━━━━━━━━━━━━━\u001b[0m \u001b[32m0.0/3.3 MB\u001b[0m \u001b[31m?\u001b[0m eta \u001b[36m-:--:--\u001b[0m\r\u001b[2K   \u001b[91m━━━━━━━━━━━━━━━━━━━━━━━━━━━━━━━━━━━━━━━\u001b[0m\u001b[91m╸\u001b[0m \u001b[32m3.3/3.3 MB\u001b[0m \u001b[31m110.4 MB/s\u001b[0m eta \u001b[36m0:00:01\u001b[0m\r\u001b[2K   \u001b[90m━━━━━━━━━━━━━━━━━━━━━━━━━━━━━━━━━━━━━━━━\u001b[0m \u001b[32m3.3/3.3 MB\u001b[0m \u001b[31m64.4 MB/s\u001b[0m eta \u001b[36m0:00:00\u001b[0m\n",
            "\u001b[?25h"
          ]
        }
      ]
    },
    {
      "cell_type": "code",
      "source": [
        "from langchain_community.tools import DuckDuckGoSearchRun\n",
        "\n",
        "search = DuckDuckGoSearchRun()\n",
        "\n",
        "search.invoke(\"Obama's first name?\")"
      ],
      "metadata": {
        "id": "Sf-7uy0pQLeu"
      },
      "execution_count": null,
      "outputs": []
    },
    {
      "cell_type": "code",
      "source": [],
      "metadata": {
        "id": "60jZEitmcCiP"
      },
      "execution_count": null,
      "outputs": []
    },
    {
      "cell_type": "markdown",
      "source": [
        "\n",
        "\n",
        "### Завдання 4: Створення агента-помічника для вирішення бізнес-задач\n",
        "\n",
        "Створіть агента, який допомагає вирішувати задачі бізнес-аналітики. Агент має допомогти користувачу створити прогноз по продажам на наступний рік враховуючи рівень інфляції і погодні умови. Агент має вміти використовувати Python і ходити в інтернет аби отримати актуальні дані.\n",
        "\n",
        "**Кроки:**\n",
        "1. Налаштуйте агента, який працюватиме з аналітичними даними, заданими текстом. Користувач пише\n",
        "\n",
        "```\n",
        "Ми експортуємо апельсини з Бразилії. В 2021 експортували 200т, в 2022 - 190т, в 2023 - 210т, в 2024 який ще не закінчився - 220т. Зроби оцінку скільки ми зможемо експортувати апельсинів в 2025 враховуючи погодні умови в Бразилії і попит на апельсини в світі виходячи з економічної ситуації.\n",
        "```\n",
        "\n",
        "2. Створіть запит до агента, що містить чітке завдання – видати результат бізнес аналізу або написати, що він не може цього зробити і запит користувача (просто може бути все одним повідомлленням).\n",
        "\n",
        "3. Запустіть агента і проаналізуйте результати. Що можна покращити?\n"
      ],
      "metadata": {
        "id": "IOqujC6qY_NY"
      }
    },
    {
      "cell_type": "code",
      "execution_count": 51,
      "metadata": {
        "id": "UK6KA9PyRS0L"
      },
      "outputs": [],
      "source": [
        "search = SerpAPIWrapper() # Initialize SerpAPIWrapper\n",
        "# Define paper_tool with SerpAPIWrapper\n",
        "search_tool = Tool(\n",
        "    name=\"searcher\",\n",
        "    func=search.run, # Use search.run as the function\n",
        "    description=\"Use this tool to search for information on the Internet. Useful for when you need to answer questions about inflation and weather conditions at the moment. Input your query to search for inflation and weather conditions.\"\n",
        ")"
      ]
    },
    {
      "cell_type": "code",
      "source": [
        "from langchain_experimental.utilities import PythonREPL\n",
        "\n",
        "python_repl = PythonREPL()\n",
        "python_tool = Tool(\n",
        "    name=\"python_repl\",\n",
        "    description=\"A Python shell. Use this to execute python commands. You can use it for prediction. Input should be a valid python command. If you want to see the output of a value, you necessarily should print it out with 'print(...)'. Otherwise you won't see the result! It's very important.\",\n",
        "    func=python_repl.run,\n",
        ")"
      ],
      "metadata": {
        "id": "TaQUq0c62RUS"
      },
      "execution_count": 52,
      "outputs": []
    },
    {
      "cell_type": "code",
      "source": [
        "tools = [search_tool, python_tool]"
      ],
      "metadata": {
        "id": "IaEN9eZF2TGv"
      },
      "execution_count": 53,
      "outputs": []
    },
    {
      "cell_type": "code",
      "source": [
        "template = '''You are a business analyst. In response to a given request, you are required to provide a sales forecast for the next year, taking into account inflation and weather conditions.\n",
        "\n",
        "Available tools: {tools}\n",
        "Tool names: {tool_names}\n",
        "Agent scratchpad: {agent_scratchpad}\n",
        "\n",
        "User Request: {request}\n",
        "\n",
        "### Instructions:\n",
        "1. **Think Step-by-Step** before choosing an action. Begin your reasoning with 'Thought:'\n",
        "2. Before forecasting exports, search the Internet for up-to-date information on inflation and weather conditions that may affect production.\n",
        "3. Include the inflation rate and weather conditions in your forecast calculations.\n",
        "4. After reasoning, **choose an action** and state it explicitly using 'Action: <tool_name>'\n",
        "5. Provide the input for the action using 'Action Input: <your input>'\n",
        "6. Stop when you get the forecast.\n",
        "7. **Format your answer with line breaks every 2–3 sentences for readability.**\n",
        "\n",
        "Answer:\n",
        "\n",
        "'''\n",
        "\n",
        "prompt = PromptTemplate(template=template, input_variables=[\"request\"])"
      ],
      "metadata": {
        "id": "fmZFKFoM2UwA"
      },
      "execution_count": 59,
      "outputs": []
    },
    {
      "cell_type": "code",
      "source": [
        "tools"
      ],
      "metadata": {
        "colab": {
          "base_uri": "https://localhost:8080/"
        },
        "id": "l21r9x-r2W7m",
        "outputId": "dc9fd56e-6ab2-4303-d06a-06c986888568"
      },
      "execution_count": 60,
      "outputs": [
        {
          "output_type": "execute_result",
          "data": {
            "text/plain": [
              "[Tool(name='searcher', description='Use this tool to search for information on the Internet. Useful for when you need to answer questions about inflation and weather conditions at the moment. Input your query to search for inflation and weather conditions.', func=<bound method SerpAPIWrapper.run of SerpAPIWrapper(search_engine=<class 'serpapi.google_search.GoogleSearch'>, params={'engine': 'google', 'google_domain': 'google.com', 'gl': 'us', 'hl': 'en'}, serpapi_api_key='8cde7007112794c83baff8966133db909f8ac05caa87dc5298a3c49b1893a9db', aiosession=None)>),\n",
              " Tool(name='python_repl', description=\"A Python shell. Use this to execute python commands. You can use it for prediction. Input should be a valid python command. If you want to see the output of a value, you necessarily should print it out with 'print(...)'. Otherwise you won't see the result! It's very important.\", func=<bound method PythonREPL.run of PythonREPL(globals={'__builtins__': {'__name__': 'builtins', '__doc__': \"Built-in functions, types, exceptions, and other objects.\\n\\nThis module provides direct access to all 'built-in'\\nidentifiers of Python; for example, builtins.len is\\nthe full name for the built-in function len().\\n\\nThis module is not normally accessed explicitly by most\\napplications, but can be useful in modules that provide\\nobjects with the same name as a built-in value, but in\\nwhich the built-in of that name is also needed.\", '__package__': '', '__loader__': <class '_frozen_importlib.BuiltinImporter'>, '__spec__': ModuleSpec(name='builtins', loader=<class '_frozen_importlib.BuiltinImporter'>, origin='built-in'), '__build_class__': <built-in function __build_class__>, '__import__': <built-in function __import__>, 'abs': <built-in function abs>, 'all': <built-in function all>, 'any': <built-in function any>, 'ascii': <built-in function ascii>, 'bin': <built-in function bin>, 'breakpoint': <built-in function breakpoint>, 'callable': <built-in function callable>, 'chr': <built-in function chr>, 'compile': <built-in function compile>, 'delattr': <built-in function delattr>, 'dir': <built-in function dir>, 'divmod': <built-in function divmod>, 'eval': <built-in function eval>, 'exec': <built-in function exec>, 'format': <built-in function format>, 'getattr': <built-in function getattr>, 'globals': <built-in function globals>, 'hasattr': <built-in function hasattr>, 'hash': <built-in function hash>, 'hex': <built-in function hex>, 'id': <built-in function id>, 'input': <bound method Kernel.raw_input of <google.colab._kernel.Kernel object at 0x7ad4b8198680>>, 'isinstance': <built-in function isinstance>, 'issubclass': <built-in function issubclass>, 'iter': <built-in function iter>, 'aiter': <built-in function aiter>, 'len': <built-in function len>, 'locals': <built-in function locals>, 'max': <built-in function max>, 'min': <built-in function min>, 'next': <built-in function next>, 'anext': <built-in function anext>, 'oct': <built-in function oct>, 'ord': <built-in function ord>, 'pow': <built-in function pow>, 'print': <built-in function print>, 'repr': <built-in function repr>, 'round': <built-in function round>, 'setattr': <built-in function setattr>, 'sorted': <built-in function sorted>, 'sum': <built-in function sum>, 'vars': <built-in function vars>, 'None': None, 'Ellipsis': Ellipsis, 'NotImplemented': NotImplemented, 'False': False, 'True': True, 'bool': <class 'bool'>, 'memoryview': <class 'memoryview'>, 'bytearray': <class 'bytearray'>, 'bytes': <class 'bytes'>, 'classmethod': <class 'classmethod'>, 'complex': <class 'complex'>, 'dict': <class 'dict'>, 'enumerate': <class 'enumerate'>, 'filter': <class 'filter'>, 'float': <class 'float'>, 'frozenset': <class 'frozenset'>, 'property': <class 'property'>, 'int': <class 'int'>, 'list': <class 'list'>, 'map': <class 'map'>, 'object': <class 'object'>, 'range': <class 'range'>, 'reversed': <class 'reversed'>, 'set': <class 'set'>, 'slice': <class 'slice'>, 'staticmethod': <class 'staticmethod'>, 'str': <class 'str'>, 'super': <class 'super'>, 'tuple': <class 'tuple'>, 'type': <class 'type'>, 'zip': <class 'zip'>, '__debug__': True, 'BaseException': <class 'BaseException'>, 'BaseExceptionGroup': <class 'BaseExceptionGroup'>, 'Exception': <class 'Exception'>, 'GeneratorExit': <class 'GeneratorExit'>, 'KeyboardInterrupt': <class 'KeyboardInterrupt'>, 'SystemExit': <class 'SystemExit'>, 'ArithmeticError': <class 'ArithmeticError'>, 'AssertionError': <class 'AssertionError'>, 'AttributeError': <class 'AttributeError'>, 'BufferError': <class 'BufferError'>, 'EOFError': <class 'EOFError'>, 'ImportError': <class 'ImportError'>, 'LookupError': <class 'LookupError'>, 'MemoryError': <class 'MemoryError'>, 'NameError': <class 'NameError'>, 'OSError': <class 'OSError'>, 'ReferenceError': <class 'ReferenceError'>, 'RuntimeError': <class 'RuntimeError'>, 'StopAsyncIteration': <class 'StopAsyncIteration'>, 'StopIteration': <class 'StopIteration'>, 'SyntaxError': <class 'SyntaxError'>, 'SystemError': <class 'SystemError'>, 'TypeError': <class 'TypeError'>, 'ValueError': <class 'ValueError'>, 'Warning': <class 'Warning'>, 'FloatingPointError': <class 'FloatingPointError'>, 'OverflowError': <class 'OverflowError'>, 'ZeroDivisionError': <class 'ZeroDivisionError'>, 'BytesWarning': <class 'BytesWarning'>, 'DeprecationWarning': <class 'DeprecationWarning'>, 'EncodingWarning': <class 'EncodingWarning'>, 'FutureWarning': <class 'FutureWarning'>, 'ImportWarning': <class 'ImportWarning'>, 'PendingDeprecationWarning': <class 'PendingDeprecationWarning'>, 'ResourceWarning': <class 'ResourceWarning'>, 'RuntimeWarning': <class 'RuntimeWarning'>, 'SyntaxWarning': <class 'SyntaxWarning'>, 'UnicodeWarning': <class 'UnicodeWarning'>, 'UserWarning': <class 'UserWarning'>, 'BlockingIOError': <class 'BlockingIOError'>, 'ChildProcessError': <class 'ChildProcessError'>, 'ConnectionError': <class 'ConnectionError'>, 'FileExistsError': <class 'FileExistsError'>, 'FileNotFoundError': <class 'FileNotFoundError'>, 'InterruptedError': <class 'InterruptedError'>, 'IsADirectoryError': <class 'IsADirectoryError'>, 'NotADirectoryError': <class 'NotADirectoryError'>, 'PermissionError': <class 'PermissionError'>, 'ProcessLookupError': <class 'ProcessLookupError'>, 'TimeoutError': <class 'TimeoutError'>, 'IndentationError': <class 'IndentationError'>, 'IndexError': <class 'IndexError'>, 'KeyError': <class 'KeyError'>, 'ModuleNotFoundError': <class 'ModuleNotFoundError'>, 'NotImplementedError': <class 'NotImplementedError'>, 'RecursionError': <class 'RecursionError'>, 'UnboundLocalError': <class 'UnboundLocalError'>, 'UnicodeError': <class 'UnicodeError'>, 'BrokenPipeError': <class 'BrokenPipeError'>, 'ConnectionAbortedError': <class 'ConnectionAbortedError'>, 'ConnectionRefusedError': <class 'ConnectionRefusedError'>, 'ConnectionResetError': <class 'ConnectionResetError'>, 'TabError': <class 'TabError'>, 'UnicodeDecodeError': <class 'UnicodeDecodeError'>, 'UnicodeEncodeError': <class 'UnicodeEncodeError'>, 'UnicodeTranslateError': <class 'UnicodeTranslateError'>, 'ExceptionGroup': <class 'ExceptionGroup'>, 'EnvironmentError': <class 'OSError'>, 'IOError': <class 'OSError'>, 'open': <built-in function open>, 'copyright': Copyright (c) 2001-2023 Python Software Foundation.\n",
              " All Rights Reserved.\n",
              " \n",
              " Copyright (c) 2000 BeOpen.com.\n",
              " All Rights Reserved.\n",
              " \n",
              " Copyright (c) 1995-2001 Corporation for National Research Initiatives.\n",
              " All Rights Reserved.\n",
              " \n",
              " Copyright (c) 1991-1995 Stichting Mathematisch Centrum, Amsterdam.\n",
              " All Rights Reserved., 'credits':     Thanks to CWI, CNRI, BeOpen, Zope Corporation, the Python Software\n",
              "     Foundation, and a cast of thousands for supporting Python\n",
              "     development.  See www.python.org for more information., 'license': Type license() to see the full license text, 'help': Type help() for interactive help, or help(object) for help about object., 'execfile': <function execfile at 0x7ad4be857ec0>, 'runfile': <function runfile at 0x7ad4be7927a0>, '__IPYTHON__': True, 'display': <function display at 0x7ad4bf4abe20>, 'get_ipython': <bound method InteractiveShell.get_ipython of <google.colab._shell.Shell object at 0x7ad4b8198980>>}}, locals={'exports': [200, 190, 210, 220], 'growth_rates': [-0.05, 0.10526315789473684, 0.047619047619047616], 'average_growth_rate': 0.034294068504594814})>)]"
            ]
          },
          "metadata": {},
          "execution_count": 60
        }
      ]
    },
    {
      "cell_type": "code",
      "source": [
        "agent = create_react_agent(llm, tools, prompt)\n",
        "agent_executor = AgentExecutor(agent=agent, tools=tools, verbose=True, handle_parsing_errors=True)"
      ],
      "metadata": {
        "id": "_G3HCdtE2YVM"
      },
      "execution_count": 61,
      "outputs": []
    },
    {
      "cell_type": "code",
      "metadata": {
        "colab": {
          "base_uri": "https://localhost:8080/"
        },
        "id": "e270f67a",
        "outputId": "203abb71-9990-4829-adc1-7102b09dc90f"
      },
      "source": [
        "!pip install -q langgraph"
      ],
      "execution_count": 46,
      "outputs": [
        {
          "output_type": "stream",
          "name": "stdout",
          "text": [
            "\u001b[?25l     \u001b[90m━━━━━━━━━━━━━━━━━━━━━━━━━━━━━━━━━━━━━━━━\u001b[0m \u001b[32m0.0/43.7 kB\u001b[0m \u001b[31m?\u001b[0m eta \u001b[36m-:--:--\u001b[0m\r\u001b[2K     \u001b[90m━━━━━━━━━━━━━━━━━━━━━━━━━━━━━━━━━━━━━━━━\u001b[0m \u001b[32m43.7/43.7 kB\u001b[0m \u001b[31m3.0 MB/s\u001b[0m eta \u001b[36m0:00:00\u001b[0m\n",
            "\u001b[?25h\u001b[?25l   \u001b[90m━━━━━━━━━━━━━━━━━━━━━━━━━━━━━━━━━━━━━━━━\u001b[0m \u001b[32m0.0/153.3 kB\u001b[0m \u001b[31m?\u001b[0m eta \u001b[36m-:--:--\u001b[0m\r\u001b[2K   \u001b[90m━━━━━━━━━━━━━━━━━━━━━━━━━━━━━━━━━━━━━━━━\u001b[0m \u001b[32m153.3/153.3 kB\u001b[0m \u001b[31m9.2 MB/s\u001b[0m eta \u001b[36m0:00:00\u001b[0m\n",
            "\u001b[2K   \u001b[90m━━━━━━━━━━━━━━━━━━━━━━━━━━━━━━━━━━━━━━━━\u001b[0m \u001b[32m43.9/43.9 kB\u001b[0m \u001b[31m3.2 MB/s\u001b[0m eta \u001b[36m0:00:00\u001b[0m\n",
            "\u001b[2K   \u001b[90m━━━━━━━━━━━━━━━━━━━━━━━━━━━━━━━━━━━━━━━━\u001b[0m \u001b[32m56.1/56.1 kB\u001b[0m \u001b[31m4.1 MB/s\u001b[0m eta \u001b[36m0:00:00\u001b[0m\n",
            "\u001b[2K   \u001b[90m━━━━━━━━━━━━━━━━━━━━━━━━━━━━━━━━━━━━━━━━\u001b[0m \u001b[32m216.7/216.7 kB\u001b[0m \u001b[31m16.0 MB/s\u001b[0m eta \u001b[36m0:00:00\u001b[0m\n",
            "\u001b[?25h"
          ]
        }
      ]
    },
    {
      "cell_type": "code",
      "source": [
        "from langgraph.checkpoint.memory import MemorySaver\n",
        "from langgraph.graph import START, MessagesState, StateGraph\n",
        "from langchain.schema import SystemMessage, HumanMessage, AIMessage\n",
        "\n",
        "# Створюємо граф виконання\n",
        "workflow = StateGraph(state_schema=MessagesState)\n",
        "\n",
        "# модель\n",
        "def agent_step(state: MessagesState):\n",
        "    messages = state[\"messages\"]\n",
        "    variables = state.get(\"variables\", {})  # Отримуємо змінні з пам'яті\n",
        "    # Get the response from the agent, and access the 'output' key\n",
        "    response = agent_executor.invoke({\"request\": messages[-1].content})['output']\n",
        "    return {\"messages\": messages + [AIMessage(content=response)]}\n",
        "\n",
        "\n",
        "# Визначаємо вузол та ребро\n",
        "workflow.add_node(\"agent\", agent_step)\n",
        "workflow.add_edge(START, \"agent\")\n",
        "\n",
        "# Додаємо простий контроль стану в пам'яті\n",
        "memory = MemorySaver()\n",
        "app = workflow.compile(checkpointer=memory)"
      ],
      "metadata": {
        "id": "055b-WJu2Z4E"
      },
      "execution_count": 57,
      "outputs": []
    },
    {
      "cell_type": "code",
      "source": [
        "import textwrap\n",
        "\n",
        "result = app.invoke(\n",
        "    {\"messages\": [HumanMessage(content=\"We export oranges from Brazil. In 2021 we exported 200t, in 2022 - 190t, in 2023 - 210t, in 2024 which has not yet ended - 220t. Estimate how many oranges we will be able to export in 2025, taking into account the weather conditions in Brazil and the demand for oranges in the world based on the economic situation.\")]},\n",
        "    config={\"configurable\": {\"thread_id\": \"1\"}},\n",
        ")\n",
        "\n",
        "\n",
        "text = result[\"messages\"][-1].content\n",
        "\n",
        "#  80 символов за шириною\n",
        "wrapped_text = textwrap.fill(text, width=80)\n",
        "\n",
        "# Виводимо\n",
        "print(wrapped_text)"
      ],
      "metadata": {
        "colab": {
          "base_uri": "https://localhost:8080/"
        },
        "id": "1UcJ4X2K2bfv",
        "outputId": "553bd441-a5a6-4e37-ca00-2f6d0d39230e"
      },
      "execution_count": 62,
      "outputs": [
        {
          "output_type": "stream",
          "name": "stdout",
          "text": [
            "\n",
            "\n",
            "\u001b[1m> Entering new AgentExecutor chain...\u001b[0m\n",
            "\u001b[32;1m\u001b[1;3mThought: To provide an accurate sales forecast for orange exports from Brazil in 2025, I first need to gather information on current inflation rates and weather conditions in Brazil. These factors can significantly impact both production levels and market demand.\n",
            "\n",
            "I will start by searching for the latest inflation data and weather conditions in Brazil that could affect orange production.\n",
            "\n",
            "Action: searcher\n",
            "\n",
            "Action Input: \"current inflation rate in Brazil October 2023\"\u001b[0m\u001b[36;1m\u001b[1;3m['Recent inflation rates for Brazil ; 2024, 4.51%, 4.50% ; 2023, 5.77%, 5.60% ; 2022, 10.38%, 10.54% ; 2021, 4.56%, 5.20% ...', 'Inflation, consumer prices (annual %) - Brazil. International Financial ... 2023. 2.1. Cameroon. 2024. 4.5. Canada. 2024. 2.4. Cayman Islands. 2016. -0.6. Central ...', 'Historical inflation rates for Federative Republic of Brazil ; 2023, 5.77%, 5.60% ; 2022, 10.38%, 10.54% ; 2021, 4.56%, 5.20% ; 2020, 4.19%, 4.01% ...', 'The Brazilian inflation accelerated to 0.56% in October, rising 0.12 percentage points (p.p.) in relation to the previous month (0.44%).', 'Brazil 5.3. British Virgin Islands no data. Brunei Darussalam 1. Bulgaria 3.7 ... Inflation rate, end of period consumer prices. Annual percent change. 5.1.', 'Facing a number of worrying trends, Banco Central do Brasil (BCB) is likely to deliver a 50 basis-point rate hike to 11.25% later on Wednesday, ...', 'Brazil inflation rate for 2023 was 4.59%, a 4.69% decline from 2022. · Brazil inflation rate for 2022 was 9.28%, a 0.98% increase from 2021. · Brazil inflation ...', 'Unfortunately, inflation has since picked up again to a 5.2% year-over-year rate in September (figure 2). Higher oil prices and base effects ...']\u001b[0m\u001b[32;1m\u001b[1;3mThought: I have gathered the current inflation rate in Brazil, which is approximately 5.77% for 2023. This inflation rate will impact the cost of production and potentially the pricing of oranges for export. \n",
            "\n",
            "Next, I need to check the current weather conditions in Brazil, as they can significantly affect orange production levels. Weather factors such as rainfall, temperature, and any extreme weather events can influence the yield of orange crops.\n",
            "\n",
            "Action: searcher\n",
            "\n",
            "Action Input: \"current weather conditions in Brazil October 2023\"\u001b[0m\u001b[36;1m\u001b[1;3m['October 2023 Weather History in Guarulhos São Paulo, Brazil ; Guarulhos Temperature History October 2023 · 60°F · 70°F ; Hourly Temperature in October 2023 in ...', 'October 2023 Weather History at Rio de Janeiro-Galeão International Airport Rio de Janeiro, Brazil ; 65°F · 70°F · 75°F 75°F 80°F 80°F 85°F 85°F 90°F 90°F 95°F 95° ...', 'At sea level, the average temperature is generally 28/29 °C (82/84 °F) in the north and in the Amazon rainforest, 30/31 °C (86/88 °F), in the inland and arid ...', 'Get the monthly weather forecast for Rio de Janeiro, Rio De Janeiro, Brazil, including daily high/low, historical averages, to help you plan ahead.', 'Brazil weather information including average monthly temperatures (°F) and rainfall (inches) for select locations throughout the country.', \"End of september/beginning of october is when the dry season ends, you may get some rain but it usually isn't much, I wouldn't worry about it more than any ...\", 'The months from June to December 2023 marked the hottest period on record. September 2023 stood out with the highest global average temperature anomaly (+0.93°C ...', 'The October global surface temperature was 1.34°C (2.41°F) above the 20th-century average of 14.0°C (57.1°F), making it the warmest October on record.', 'The average maximum temperature goes up from +79°F to +81°F during the day. Prepare for more rain. Average rainfall goes from 75 mm to 90 mm. Humidity rises ...', 'Get the monthly weather forecast for São Paulo, São Paulo, Brazil, including daily high/low, historical averages, to help you plan ahead.']\u001b[0m\u001b[32;1m\u001b[1;3mThought: I have gathered the necessary information on the current inflation rate in Brazil, which is approximately 5.77% for 2023. This inflation rate will likely affect production costs and pricing for oranges.\n",
            "\n",
            "Additionally, the weather conditions in Brazil indicate that the months from June to December 2023 marked the hottest period on record, with an increase in average temperatures and expected rainfall. This could potentially impact orange yields, either positively or negatively, depending on the specific conditions during the growing season.\n",
            "\n",
            "To forecast the exports for 2025, I will analyze the historical export data: \n",
            "\n",
            "- 2021: 200 tons\n",
            "- 2022: 190 tons\n",
            "- 2023: 210 tons\n",
            "- 2024: 220 tons\n",
            "\n",
            "I will calculate the average growth rate in exports over the past years and adjust it based on the inflation rate and the current weather conditions.\n",
            "\n",
            "Action: python_repl\n",
            "\n",
            "Action Input: \"\"\"\n",
            "# Historical export data\n",
            "exports = [200, 190, 210, 220]\n",
            "\n",
            "# Calculate the average growth rate\n",
            "growth_rates = [(exports[i] - exports[i - 1]) / exports[i - 1] for i in range(1, len(exports))]\n",
            "average_growth_rate = sum(growth_rates) / len(growth_rates)\n",
            "\n",
            "# Estimate exports for 2025 based on the last known value and average growth rate\n",
            "estimated_2025_exports = exports[-1] * (1 + average_growth_rate)\n",
            "\n",
            "# Adjust for inflation (5.77%)\n",
            "inflation_rate = 0.0577\n",
            "adjusted_exports = estimated_2025_exports * (1 + inflation_rate)\n",
            "\n",
            "# Considering weather conditions, let's assume a slight decrease in yield due to extreme weather\n",
            "weather_adjustment_factor = 0.95  # 5% decrease due to adverse weather\n",
            "final_forecast = adjusted_exports * weather_adjustment_factor\n",
            "\n",
            "print(final_forecast)\n",
            "\"\"\"\u001b[0m\u001b[33;1m\u001b[1;3m228.64032277777775\n",
            "\u001b[0m\u001b[32;1m\u001b[1;3mThought: I have gathered the necessary information regarding the current inflation rate in Brazil, which is approximately 5.77% for 2023. This inflation rate will likely affect production costs and pricing for oranges.\n",
            "\n",
            "Additionally, the weather conditions in Brazil indicate that the months from June to December 2023 marked the hottest period on record, with an increase in average temperatures and expected rainfall. This could potentially impact orange yields, either positively or negatively, depending on the specific conditions during the growing season.\n",
            "\n",
            "To forecast the exports for 2025, I will analyze the historical export data: \n",
            "\n",
            "- 2021: 200 tons\n",
            "- 2022: 190 tons\n",
            "- 2023: 210 tons\n",
            "- 2024: 220 tons\n",
            "\n",
            "I will calculate the average growth rate in exports over the past years and adjust it based on the inflation rate and the current weather conditions.\n",
            "\n",
            "Action: python_repl\n",
            "\n",
            "Action Input: \"\"\"\n",
            "# Historical export data\n",
            "exports = [200, 190, 210, 220]\n",
            "\n",
            "# Calculate the average growth rate\n",
            "growth_rates = [(exports[i] - exports[i - 1]) / exports[i - 1] for i in range(1, len(exports))]\n",
            "average_growth_rate = sum(growth_rates) / len(growth_rates)\n",
            "\n",
            "# Estimate exports for 2025 based on the last known value and average growth rate\n",
            "estimated_2025_exports = exports[-1] * (1 + average_growth_rate)\n",
            "\n",
            "# Adjust for inflation (5.77%)\n",
            "inflation_rate = 0.0577\n",
            "adjusted_exports = estimated_2025_exports * (1 + inflation_rate)\n",
            "\n",
            "# Considering weather conditions, let's assume a slight decrease in yield due to extreme weather\n",
            "weather_adjustment_factor = 0.95  # 5% decrease due to adverse weather\n",
            "final_forecast = adjusted_exports * weather_adjustment_factor\n",
            "\n",
            "print(final_forecast)\n",
            "\"\"\" \n",
            "\u001b[0m\u001b[33;1m\u001b[1;3mSyntaxError('unterminated triple-quoted string literal (detected at line 20)', ('<string>', 20, 1, '\"\"\"', 20, 1))\u001b[0m\u001b[32;1m\u001b[1;3mThought: To provide an accurate sales forecast for orange exports from Brazil in 2025, I first need to gather information on current inflation rates and weather conditions in Brazil. These factors can significantly impact both production levels and market demand.\n",
            "\n",
            "I will start by searching for the latest inflation data and weather conditions in Brazil that could affect orange production.\n",
            "\n",
            "Action: searcher\n",
            "\n",
            "Action Input: \"current inflation rate in Brazil October 2023\"\u001b[0m\u001b[36;1m\u001b[1;3m['Recent inflation rates for Brazil ; 2024, 4.51%, 4.50% ; 2023, 5.77%, 5.60% ; 2022, 10.38%, 10.54% ; 2021, 4.56%, 5.20% ...', 'Inflation, consumer prices (annual %) - Brazil. International Financial ... 2023. 2.1. Cameroon. 2024. 4.5. Canada. 2024. 2.4. Cayman Islands. 2016. -0.6. Central ...', 'Historical inflation rates for Federative Republic of Brazil ; 2023, 5.77%, 5.60% ; 2022, 10.38%, 10.54% ; 2021, 4.56%, 5.20% ; 2020, 4.19%, 4.01% ...', 'The Brazilian inflation accelerated to 0.56% in October, rising 0.12 percentage points (p.p.) in relation to the previous month (0.44%).', 'Brazil 5.3. British Virgin Islands no data. Brunei Darussalam 1. Bulgaria 3.7 ... Inflation rate, end of period consumer prices. Annual percent change. 5.1.', 'Facing a number of worrying trends, Banco Central do Brasil (BCB) is likely to deliver a 50 basis-point rate hike to 11.25% later on Wednesday, ...', 'Brazil inflation rate for 2023 was 4.59%, a 4.69% decline from 2022. · Brazil inflation rate for 2022 was 9.28%, a 0.98% increase from 2021. · Brazil inflation ...', 'Unfortunately, inflation has since picked up again to a 5.2% year-over-year rate in September (figure 2). Higher oil prices and base effects ...']\u001b[0m\u001b[32;1m\u001b[1;3mThought: To provide an accurate sales forecast for orange exports from Brazil in 2025, I first need to gather information on current inflation rates and weather conditions in Brazil. These factors can significantly impact both production levels and market demand.\n",
            "\n",
            "I will start by searching for the latest inflation data and weather conditions in Brazil that could affect orange production.\n",
            "\n",
            "Action: searcher\n",
            "\n",
            "Action Input: \"current inflation rate in Brazil October 2023\"\u001b[0m\u001b[36;1m\u001b[1;3m['Recent inflation rates for Brazil ; 2024, 4.51%, 4.50% ; 2023, 5.77%, 5.60% ; 2022, 10.38%, 10.54% ; 2021, 4.56%, 5.20% ...', 'Inflation, consumer prices (annual %) - Brazil. International Financial ... 2023. 2.1. Cameroon. 2024. 4.5. Canada. 2024. 2.4. Cayman Islands. 2016. -0.6. Central ...', 'Historical inflation rates for Federative Republic of Brazil ; 2023, 5.77%, 5.60% ; 2022, 10.38%, 10.54% ; 2021, 4.56%, 5.20% ; 2020, 4.19%, 4.01% ...', 'The Brazilian inflation accelerated to 0.56% in October, rising 0.12 percentage points (p.p.) in relation to the previous month (0.44%).', 'Brazil 5.3. British Virgin Islands no data. Brunei Darussalam 1. Bulgaria 3.7 ... Inflation rate, end of period consumer prices. Annual percent change. 5.1.', 'Facing a number of worrying trends, Banco Central do Brasil (BCB) is likely to deliver a 50 basis-point rate hike to 11.25% later on Wednesday, ...', 'Brazil inflation rate for 2023 was 4.59%, a 4.69% decline from 2022. · Brazil inflation rate for 2022 was 9.28%, a 0.98% increase from 2021. · Brazil inflation ...', 'Unfortunately, inflation has since picked up again to a 5.2% year-over-year rate in September (figure 2). Higher oil prices and base effects ...']\u001b[0m\u001b[32;1m\u001b[1;3mThought: To provide an accurate sales forecast for orange exports from Brazil in 2025, I first need to gather information on current inflation rates and weather conditions in Brazil. These factors can significantly impact both production levels and market demand.\n",
            "\n",
            "I will start by searching for the latest inflation data and weather conditions in Brazil that could affect orange production.\n",
            "\n",
            "Action: searcher\n",
            "\n",
            "Action Input: \"current inflation rate in Brazil October 2023\"\u001b[0m\u001b[36;1m\u001b[1;3m['Recent inflation rates for Brazil ; 2024, 4.51%, 4.50% ; 2023, 5.77%, 5.60% ; 2022, 10.38%, 10.54% ; 2021, 4.56%, 5.20% ...', 'Inflation, consumer prices (annual %) - Brazil. International Financial ... 2023. 2.1. Cameroon. 2024. 4.5. Canada. 2024. 2.4. Cayman Islands. 2016. -0.6. Central ...', 'Historical inflation rates for Federative Republic of Brazil ; 2023, 5.77%, 5.60% ; 2022, 10.38%, 10.54% ; 2021, 4.56%, 5.20% ; 2020, 4.19%, 4.01% ...', 'The Brazilian inflation accelerated to 0.56% in October, rising 0.12 percentage points (p.p.) in relation to the previous month (0.44%).', 'Brazil 5.3. British Virgin Islands no data. Brunei Darussalam 1. Bulgaria 3.7 ... Inflation rate, end of period consumer prices. Annual percent change. 5.1.', 'Facing a number of worrying trends, Banco Central do Brasil (BCB) is likely to deliver a 50 basis-point rate hike to 11.25% later on Wednesday, ...', 'Brazil inflation rate for 2023 was 4.59%, a 4.69% decline from 2022. · Brazil inflation rate for 2022 was 9.28%, a 0.98% increase from 2021. · Brazil inflation ...', 'Unfortunately, inflation has since picked up again to a 5.2% year-over-year rate in September (figure 2). Higher oil prices and base effects ...']\u001b[0m\u001b[32;1m\u001b[1;3mThought: To provide an accurate sales forecast for orange exports from Brazil in 2025, I first need to gather information on current inflation rates and weather conditions in Brazil. These factors can significantly impact both production levels and market demand.\n",
            "\n",
            "I will start by searching for the latest inflation data and weather conditions in Brazil that could affect orange production.\n",
            "\n",
            "Action: searcher\n",
            "\n",
            "Action Input: \"current inflation rate in Brazil October 2023\"\u001b[0m\u001b[36;1m\u001b[1;3m['Recent inflation rates for Brazil ; 2024, 4.51%, 4.50% ; 2023, 5.77%, 5.60% ; 2022, 10.38%, 10.54% ; 2021, 4.56%, 5.20% ...', 'Inflation, consumer prices (annual %) - Brazil. International Financial ... 2023. 2.1. Cameroon. 2024. 4.5. Canada. 2024. 2.4. Cayman Islands. 2016. -0.6. Central ...', 'Historical inflation rates for Federative Republic of Brazil ; 2023, 5.77%, 5.60% ; 2022, 10.38%, 10.54% ; 2021, 4.56%, 5.20% ; 2020, 4.19%, 4.01% ...', 'The Brazilian inflation accelerated to 0.56% in October, rising 0.12 percentage points (p.p.) in relation to the previous month (0.44%).', 'Brazil 5.3. British Virgin Islands no data. Brunei Darussalam 1. Bulgaria 3.7 ... Inflation rate, end of period consumer prices. Annual percent change. 5.1.', 'Facing a number of worrying trends, Banco Central do Brasil (BCB) is likely to deliver a 50 basis-point rate hike to 11.25% later on Wednesday, ...', 'Brazil inflation rate for 2023 was 4.59%, a 4.69% decline from 2022. · Brazil inflation rate for 2022 was 9.28%, a 0.98% increase from 2021. · Brazil inflation ...', 'Unfortunately, inflation has since picked up again to a 5.2% year-over-year rate in September (figure 2). Higher oil prices and base effects ...']\u001b[0m\u001b[32;1m\u001b[1;3mThought: To provide an accurate sales forecast for orange exports from Brazil in 2025, I first need to gather information on current inflation rates and weather conditions in Brazil. These factors can significantly impact both production levels and market demand.\n",
            "\n",
            "I will start by searching for the latest inflation data and weather conditions in Brazil that could affect orange production.\n",
            "\n",
            "Action: searcher\n",
            "\n",
            "Action Input: \"current inflation rate in Brazil October 2023\"\u001b[0m\u001b[36;1m\u001b[1;3m['Recent inflation rates for Brazil ; 2024, 4.51%, 4.50% ; 2023, 5.77%, 5.60% ; 2022, 10.38%, 10.54% ; 2021, 4.56%, 5.20% ...', 'Inflation, consumer prices (annual %) - Brazil. International Financial ... 2023. 2.1. Cameroon. 2024. 4.5. Canada. 2024. 2.4. Cayman Islands. 2016. -0.6. Central ...', 'Historical inflation rates for Federative Republic of Brazil ; 2023, 5.77%, 5.60% ; 2022, 10.38%, 10.54% ; 2021, 4.56%, 5.20% ; 2020, 4.19%, 4.01% ...', 'The Brazilian inflation accelerated to 0.56% in October, rising 0.12 percentage points (p.p.) in relation to the previous month (0.44%).', 'Brazil 5.3. British Virgin Islands no data. Brunei Darussalam 1. Bulgaria 3.7 ... Inflation rate, end of period consumer prices. Annual percent change. 5.1.', 'Facing a number of worrying trends, Banco Central do Brasil (BCB) is likely to deliver a 50 basis-point rate hike to 11.25% later on Wednesday, ...', 'Brazil inflation rate for 2023 was 4.59%, a 4.69% decline from 2022. · Brazil inflation rate for 2022 was 9.28%, a 0.98% increase from 2021. · Brazil inflation ...', 'Unfortunately, inflation has since picked up again to a 5.2% year-over-year rate in September (figure 2). Higher oil prices and base effects ...']\u001b[0m\u001b[32;1m\u001b[1;3mThought: To provide an accurate sales forecast for orange exports from Brazil in 2025, I first need to gather information on current inflation rates and weather conditions in Brazil. These factors can significantly impact both production levels and market demand.\n",
            "\n",
            "I will start by searching for the latest inflation data and weather conditions in Brazil that could affect orange production.\n",
            "\n",
            "Action: searcher\n",
            "\n",
            "Action Input: \"current inflation rate in Brazil October 2023\"\u001b[0m\u001b[36;1m\u001b[1;3m['Recent inflation rates for Brazil ; 2024, 4.51%, 4.50% ; 2023, 5.77%, 5.60% ; 2022, 10.38%, 10.54% ; 2021, 4.56%, 5.20% ...', 'Inflation, consumer prices (annual %) - Brazil. International Financial ... 2023. 2.1. Cameroon. 2024. 4.5. Canada. 2024. 2.4. Cayman Islands. 2016. -0.6. Central ...', 'Historical inflation rates for Federative Republic of Brazil ; 2023, 5.77%, 5.60% ; 2022, 10.38%, 10.54% ; 2021, 4.56%, 5.20% ; 2020, 4.19%, 4.01% ...', 'The Brazilian inflation accelerated to 0.56% in October, rising 0.12 percentage points (p.p.) in relation to the previous month (0.44%).', 'Brazil 5.3. British Virgin Islands no data. Brunei Darussalam 1. Bulgaria 3.7 ... Inflation rate, end of period consumer prices. Annual percent change. 5.1.', 'Facing a number of worrying trends, Banco Central do Brasil (BCB) is likely to deliver a 50 basis-point rate hike to 11.25% later on Wednesday, ...', 'Brazil inflation rate for 2023 was 4.59%, a 4.69% decline from 2022. · Brazil inflation rate for 2022 was 9.28%, a 0.98% increase from 2021. · Brazil inflation ...', 'Unfortunately, inflation has since picked up again to a 5.2% year-over-year rate in September (figure 2). Higher oil prices and base effects ...']\u001b[0m\u001b[32;1m\u001b[1;3mThought: To provide an accurate sales forecast for orange exports from Brazil in 2025, I first need to gather information on current inflation rates and weather conditions in Brazil. These factors can significantly impact both production levels and market demand.\n",
            "\n",
            "I will start by searching for the latest inflation data and weather conditions in Brazil that could affect orange production.\n",
            "\n",
            "Action: searcher\n",
            "\n",
            "Action Input: \"current inflation rate in Brazil October 2023\"\u001b[0m\u001b[36;1m\u001b[1;3m['Recent inflation rates for Brazil ; 2024, 4.51%, 4.50% ; 2023, 5.77%, 5.60% ; 2022, 10.38%, 10.54% ; 2021, 4.56%, 5.20% ...', 'Inflation, consumer prices (annual %) - Brazil. International Financial ... 2023. 2.1. Cameroon. 2024. 4.5. Canada. 2024. 2.4. Cayman Islands. 2016. -0.6. Central ...', 'Historical inflation rates for Federative Republic of Brazil ; 2023, 5.77%, 5.60% ; 2022, 10.38%, 10.54% ; 2021, 4.56%, 5.20% ; 2020, 4.19%, 4.01% ...', 'The Brazilian inflation accelerated to 0.56% in October, rising 0.12 percentage points (p.p.) in relation to the previous month (0.44%).', 'Brazil 5.3. British Virgin Islands no data. Brunei Darussalam 1. Bulgaria 3.7 ... Inflation rate, end of period consumer prices. Annual percent change. 5.1.', 'Facing a number of worrying trends, Banco Central do Brasil (BCB) is likely to deliver a 50 basis-point rate hike to 11.25% later on Wednesday, ...', 'Brazil inflation rate for 2023 was 4.59%, a 4.69% decline from 2022. · Brazil inflation rate for 2022 was 9.28%, a 0.98% increase from 2021. · Brazil inflation ...', 'Unfortunately, inflation has since picked up again to a 5.2% year-over-year rate in September (figure 2). Higher oil prices and base effects ...']\u001b[0m\u001b[32;1m\u001b[1;3mThought: To provide an accurate sales forecast for orange exports from Brazil in 2025, I first need to gather information on current inflation rates and weather conditions in Brazil. These factors can significantly impact both production levels and market demand.\n",
            "\n",
            "I will start by searching for the latest inflation data and weather conditions in Brazil that could affect orange production.\n",
            "\n",
            "Action: searcher\n",
            "\n",
            "Action Input: \"current inflation rate in Brazil October 2023\"\u001b[0m\u001b[36;1m\u001b[1;3m['Recent inflation rates for Brazil ; 2024, 4.51%, 4.50% ; 2023, 5.77%, 5.60% ; 2022, 10.38%, 10.54% ; 2021, 4.56%, 5.20% ...', 'Inflation, consumer prices (annual %) - Brazil. International Financial ... 2023. 2.1. Cameroon. 2024. 4.5. Canada. 2024. 2.4. Cayman Islands. 2016. -0.6. Central ...', 'Historical inflation rates for Federative Republic of Brazil ; 2023, 5.77%, 5.60% ; 2022, 10.38%, 10.54% ; 2021, 4.56%, 5.20% ; 2020, 4.19%, 4.01% ...', 'The Brazilian inflation accelerated to 0.56% in October, rising 0.12 percentage points (p.p.) in relation to the previous month (0.44%).', 'Brazil 5.3. British Virgin Islands no data. Brunei Darussalam 1. Bulgaria 3.7 ... Inflation rate, end of period consumer prices. Annual percent change. 5.1.', 'Facing a number of worrying trends, Banco Central do Brasil (BCB) is likely to deliver a 50 basis-point rate hike to 11.25% later on Wednesday, ...', 'Brazil inflation rate for 2023 was 4.59%, a 4.69% decline from 2022. · Brazil inflation rate for 2022 was 9.28%, a 0.98% increase from 2021. · Brazil inflation ...', 'Unfortunately, inflation has since picked up again to a 5.2% year-over-year rate in September (figure 2). Higher oil prices and base effects ...']\u001b[0m\u001b[32;1m\u001b[1;3mThought: To provide an accurate sales forecast for orange exports from Brazil in 2025, I first need to gather information on current inflation rates and weather conditions in Brazil. These factors can significantly impact both production levels and market demand.\n",
            "\n",
            "I will start by searching for the latest inflation data and weather conditions in Brazil that could affect orange production.\n",
            "\n",
            "Action: searcher\n",
            "\n",
            "Action Input: \"current inflation rate in Brazil October 2023\"\u001b[0m\u001b[36;1m\u001b[1;3m['Recent inflation rates for Brazil ; 2024, 4.51%, 4.50% ; 2023, 5.77%, 5.60% ; 2022, 10.38%, 10.54% ; 2021, 4.56%, 5.20% ...', 'Inflation, consumer prices (annual %) - Brazil. International Financial ... 2023. 2.1. Cameroon. 2024. 4.5. Canada. 2024. 2.4. Cayman Islands. 2016. -0.6. Central ...', 'Historical inflation rates for Federative Republic of Brazil ; 2023, 5.77%, 5.60% ; 2022, 10.38%, 10.54% ; 2021, 4.56%, 5.20% ; 2020, 4.19%, 4.01% ...', 'The Brazilian inflation accelerated to 0.56% in October, rising 0.12 percentage points (p.p.) in relation to the previous month (0.44%).', 'Brazil 5.3. British Virgin Islands no data. Brunei Darussalam 1. Bulgaria 3.7 ... Inflation rate, end of period consumer prices. Annual percent change. 5.1.', 'Facing a number of worrying trends, Banco Central do Brasil (BCB) is likely to deliver a 50 basis-point rate hike to 11.25% later on Wednesday, ...', 'Brazil inflation rate for 2023 was 4.59%, a 4.69% decline from 2022. · Brazil inflation rate for 2022 was 9.28%, a 0.98% increase from 2021. · Brazil inflation ...', 'Unfortunately, inflation has since picked up again to a 5.2% year-over-year rate in September (figure 2). Higher oil prices and base effects ...']\u001b[0m\u001b[32;1m\u001b[1;3mThought: To provide an accurate sales forecast for orange exports from Brazil in 2025, I first need to gather information on current inflation rates and weather conditions in Brazil. These factors can significantly impact both production levels and market demand.\n",
            "\n",
            "I will start by searching for the latest inflation data and weather conditions in Brazil that could affect orange production.\n",
            "\n",
            "Action: searcher\n",
            "\n",
            "Action Input: \"current inflation rate in Brazil October 2023\"\u001b[0m\u001b[36;1m\u001b[1;3m['Recent inflation rates for Brazil ; 2024, 4.51%, 4.50% ; 2023, 5.77%, 5.60% ; 2022, 10.38%, 10.54% ; 2021, 4.56%, 5.20% ...', 'Inflation, consumer prices (annual %) - Brazil. International Financial ... 2023. 2.1. Cameroon. 2024. 4.5. Canada. 2024. 2.4. Cayman Islands. 2016. -0.6. Central ...', 'Historical inflation rates for Federative Republic of Brazil ; 2023, 5.77%, 5.60% ; 2022, 10.38%, 10.54% ; 2021, 4.56%, 5.20% ; 2020, 4.19%, 4.01% ...', 'The Brazilian inflation accelerated to 0.56% in October, rising 0.12 percentage points (p.p.) in relation to the previous month (0.44%).', 'Brazil 5.3. British Virgin Islands no data. Brunei Darussalam 1. Bulgaria 3.7 ... Inflation rate, end of period consumer prices. Annual percent change. 5.1.', 'Facing a number of worrying trends, Banco Central do Brasil (BCB) is likely to deliver a 50 basis-point rate hike to 11.25% later on Wednesday, ...', 'Brazil inflation rate for 2023 was 4.59%, a 4.69% decline from 2022. · Brazil inflation rate for 2022 was 9.28%, a 0.98% increase from 2021. · Brazil inflation ...', 'Unfortunately, inflation has since picked up again to a 5.2% year-over-year rate in September (figure 2). Higher oil prices and base effects ...']\u001b[0m\u001b[32;1m\u001b[1;3mThought: To provide an accurate sales forecast for orange exports from Brazil in 2025, I first need to gather information on current inflation rates and weather conditions in Brazil. These factors can significantly impact both production levels and market demand.\n",
            "\n",
            "I will start by searching for the latest inflation data and weather conditions in Brazil that could affect orange production.\n",
            "\n",
            "Action: searcher\n",
            "\n",
            "Action Input: \"current inflation rate in Brazil October 2023\"\u001b[0m\u001b[36;1m\u001b[1;3m['Recent inflation rates for Brazil ; 2024, 4.51%, 4.50% ; 2023, 5.77%, 5.60% ; 2022, 10.38%, 10.54% ; 2021, 4.56%, 5.20% ...', 'Inflation, consumer prices (annual %) - Brazil. International Financial ... 2023. 2.1. Cameroon. 2024. 4.5. Canada. 2024. 2.4. Cayman Islands. 2016. -0.6. Central ...', 'Historical inflation rates for Federative Republic of Brazil ; 2023, 5.77%, 5.60% ; 2022, 10.38%, 10.54% ; 2021, 4.56%, 5.20% ; 2020, 4.19%, 4.01% ...', 'The Brazilian inflation accelerated to 0.56% in October, rising 0.12 percentage points (p.p.) in relation to the previous month (0.44%).', 'Brazil 5.3. British Virgin Islands no data. Brunei Darussalam 1. Bulgaria 3.7 ... Inflation rate, end of period consumer prices. Annual percent change. 5.1.', 'Facing a number of worrying trends, Banco Central do Brasil (BCB) is likely to deliver a 50 basis-point rate hike to 11.25% later on Wednesday, ...', 'Brazil inflation rate for 2023 was 4.59%, a 4.69% decline from 2022. · Brazil inflation rate for 2022 was 9.28%, a 0.98% increase from 2021. · Brazil inflation ...', 'Unfortunately, inflation has since picked up again to a 5.2% year-over-year rate in September (figure 2). Higher oil prices and base effects ...']\u001b[0m\u001b[32;1m\u001b[1;3m\u001b[0m\n",
            "\n",
            "\u001b[1m> Finished chain.\u001b[0m\n",
            "Agent stopped due to iteration limit or time limit.\n"
          ]
        }
      ]
    },
    {
      "cell_type": "markdown",
      "source": [
        "Агент виконує доволі реалістичні обчислення. Варто додати більш конкретні вказівки для оцінки впливу погодних умов. Також можна підвищити ефективність роботи за рахунок чіткіших інструкцій."
      ],
      "metadata": {
        "id": "uKeP5rFy2nOR"
      }
    },
    {
      "cell_type": "code",
      "source": [
        "exports = [200, 190, 210, 220]  # exports in tons for 2021, 2022, 2023, 2024\n",
        "\n",
        "# Calculate growth rates\n",
        "growth_rates = [\n",
        "    (exports[1] - exports[0]) / exports[0],  # 2021 to 2022\n",
        "    (exports[2] - exports[1]) / exports[1],  # 2022 to 2023\n",
        "    (exports[3] - exports[2]) / exports[2],  # 2023 to 2024\n",
        "]\n",
        "\n",
        "# Calculate average growth rate\n",
        "average_growth_rate = sum(growth_rates) / len(growth_rates)\n",
        "\n",
        "# Expected increase in production and inflation adjustment\n",
        "production_increase = 0.054  # 5.4%\n",
        "inflation_rate = 0.045  # 4.5%\n",
        "\n",
        "# Considering weather conditions negatively affecting production\n",
        "weather_impact_adjustment = -0.1  # Assuming a 10% reduction due to adverse weather\n",
        "\n",
        "# Forecast for 2025\n",
        "forecast_2025 = exports[-1] * (1 + average_growth_rate + production_increase - inflation_rate + weather_impact_adjustment)\n",
        "print(forecast_2025)"
      ],
      "metadata": {
        "colab": {
          "base_uri": "https://localhost:8080/"
        },
        "id": "Mcxudv6h2pNX",
        "outputId": "a0618f25-6837-4440-f721-a26355db3c8f"
      },
      "execution_count": 49,
      "outputs": [
        {
          "output_type": "stream",
          "name": "stdout",
          "text": [
            "207.52469507101085\n"
          ]
        }
      ]
    }
  ]
}