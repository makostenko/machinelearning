{
  "nbformat": 4,
  "nbformat_minor": 0,
  "metadata": {
    "colab": {
      "provenance": []
    },
    "kernelspec": {
      "name": "python3",
      "display_name": "Python 3"
    },
    "language_info": {
      "name": "python"
    }
  },
  "cells": [
    {
      "cell_type": "markdown",
      "source": [
        "В цьому домашньому завданні ми знову працюємо з даними з нашого змагання [\"Bank Customer Churn Prediction (DLU Course)\"](https://www.kaggle.com/t/7c080c5d8ec64364a93cf4e8f880b6a0).\n",
        "\n",
        "Тут ми побудуємо рішення задачі класифікації з використанням kNearestNeighboors, знайдемо оптимальні гіперпараметри для цього методу і зробимо базові ансамблі. Це дасть змогу порівняти перформанс моделі з попередніми вивченими методами."
      ],
      "metadata": {
        "id": "fDefDHQt8LXC"
      }
    },
    {
      "cell_type": "markdown",
      "source": [
        "0. Зчитайте дані `train.csv` та зробіть препроцесинг використовуючи написаний Вами скрипт `process_bank_churn.py` так, аби в результаті отримати дані в розбитті X_train, train_targets, X_val, val_targets для експериментів.\n",
        "\n",
        "  Якщо Вам не вдалось реалізувати в завданні `2.3. Дерева прийняття рішень` скрипт `process_bank_churn.py` - можна скористатись готовим скриптом з запропонованого рішення того завдання."
      ],
      "metadata": {
        "id": "LhivzW9W8-Dz"
      }
    },
    {
      "cell_type": "code",
      "source": [
        "%load_ext autoreload\n",
        "%autoreload 2"
      ],
      "metadata": {
        "id": "Z-mntPMAH-rv",
        "colab": {
          "base_uri": "https://localhost:8080/"
        },
        "outputId": "a46db356-53bd-4f88-8f31-f67e3b5edc45"
      },
      "execution_count": 48,
      "outputs": [
        {
          "output_type": "stream",
          "name": "stdout",
          "text": [
            "The autoreload extension is already loaded. To reload it, use:\n",
            "  %reload_ext autoreload\n"
          ]
        }
      ]
    },
    {
      "cell_type": "code",
      "source": [
        "import pandas as pd\n",
        "import numpy as np\n",
        "import seaborn as sns\n",
        "import matplotlib.pyplot as plt\n",
        "from sklearn.tree import plot_tree, export_text\n",
        "\n",
        "from process_bank_churn import preprocess_data"
      ],
      "metadata": {
        "id": "XcOv5zDHhI5b"
      },
      "execution_count": 49,
      "outputs": []
    },
    {
      "cell_type": "code",
      "source": [
        "raw_df = pd.read_csv('train.csv')"
      ],
      "metadata": {
        "id": "0c35IvjehGw_"
      },
      "execution_count": 6,
      "outputs": []
    },
    {
      "cell_type": "code",
      "source": [
        "X_train, train_targets, X_val, val_targets, input_cols, scaler, encoder = preprocess_data(raw_df, scale_numeric=False)"
      ],
      "metadata": {
        "id": "02RYl1TAhLb8"
      },
      "execution_count": 7,
      "outputs": []
    },
    {
      "cell_type": "code",
      "source": [
        "X_train.head()"
      ],
      "metadata": {
        "colab": {
          "base_uri": "https://localhost:8080/",
          "height": 221
        },
        "id": "NDnWM05QhQzr",
        "outputId": "a41acf97-03c5-4faf-b250-f79b2cacbcd2"
      },
      "execution_count": 8,
      "outputs": [
        {
          "output_type": "execute_result",
          "data": {
            "text/plain": [
              "       CustomerId  CreditScore   Age  Tenure    Balance  NumOfProducts  \\\n",
              "7180   15652218.0        682.0  30.0     1.0  131394.56            1.0   \n",
              "10393  15592937.0        684.0  39.0     2.0  178058.06            1.0   \n",
              "80     15774586.0        705.0  35.0     6.0  116320.68            2.0   \n",
              "3365   15780572.0        669.0  58.0     0.0       0.00            2.0   \n",
              "12236  15642099.0        707.0  21.0     3.0       0.00            2.0   \n",
              "\n",
              "       HasCrCard  IsActiveMember  EstimatedSalary  Geography_France  \\\n",
              "7180         1.0             1.0        143952.24               1.0   \n",
              "10393        1.0             0.0        145518.31               1.0   \n",
              "80           1.0             0.0        174431.01               0.0   \n",
              "3365         0.0             1.0         51565.98               0.0   \n",
              "12236        1.0             1.0        148564.76               1.0   \n",
              "\n",
              "       Geography_Germany  Geography_Spain  Gender_Female  Gender_Male  \n",
              "7180                 0.0              0.0            0.0          1.0  \n",
              "10393                0.0              0.0            1.0          0.0  \n",
              "80                   1.0              0.0            0.0          1.0  \n",
              "3365                 0.0              1.0            0.0          1.0  \n",
              "12236                0.0              0.0            0.0          1.0  "
            ],
            "text/html": [
              "\n",
              "  <div id=\"df-d12ccc03-df47-4c38-8508-08a597e0c50b\" class=\"colab-df-container\">\n",
              "    <div>\n",
              "<style scoped>\n",
              "    .dataframe tbody tr th:only-of-type {\n",
              "        vertical-align: middle;\n",
              "    }\n",
              "\n",
              "    .dataframe tbody tr th {\n",
              "        vertical-align: top;\n",
              "    }\n",
              "\n",
              "    .dataframe thead th {\n",
              "        text-align: right;\n",
              "    }\n",
              "</style>\n",
              "<table border=\"1\" class=\"dataframe\">\n",
              "  <thead>\n",
              "    <tr style=\"text-align: right;\">\n",
              "      <th></th>\n",
              "      <th>CustomerId</th>\n",
              "      <th>CreditScore</th>\n",
              "      <th>Age</th>\n",
              "      <th>Tenure</th>\n",
              "      <th>Balance</th>\n",
              "      <th>NumOfProducts</th>\n",
              "      <th>HasCrCard</th>\n",
              "      <th>IsActiveMember</th>\n",
              "      <th>EstimatedSalary</th>\n",
              "      <th>Geography_France</th>\n",
              "      <th>Geography_Germany</th>\n",
              "      <th>Geography_Spain</th>\n",
              "      <th>Gender_Female</th>\n",
              "      <th>Gender_Male</th>\n",
              "    </tr>\n",
              "  </thead>\n",
              "  <tbody>\n",
              "    <tr>\n",
              "      <th>7180</th>\n",
              "      <td>15652218.0</td>\n",
              "      <td>682.0</td>\n",
              "      <td>30.0</td>\n",
              "      <td>1.0</td>\n",
              "      <td>131394.56</td>\n",
              "      <td>1.0</td>\n",
              "      <td>1.0</td>\n",
              "      <td>1.0</td>\n",
              "      <td>143952.24</td>\n",
              "      <td>1.0</td>\n",
              "      <td>0.0</td>\n",
              "      <td>0.0</td>\n",
              "      <td>0.0</td>\n",
              "      <td>1.0</td>\n",
              "    </tr>\n",
              "    <tr>\n",
              "      <th>10393</th>\n",
              "      <td>15592937.0</td>\n",
              "      <td>684.0</td>\n",
              "      <td>39.0</td>\n",
              "      <td>2.0</td>\n",
              "      <td>178058.06</td>\n",
              "      <td>1.0</td>\n",
              "      <td>1.0</td>\n",
              "      <td>0.0</td>\n",
              "      <td>145518.31</td>\n",
              "      <td>1.0</td>\n",
              "      <td>0.0</td>\n",
              "      <td>0.0</td>\n",
              "      <td>1.0</td>\n",
              "      <td>0.0</td>\n",
              "    </tr>\n",
              "    <tr>\n",
              "      <th>80</th>\n",
              "      <td>15774586.0</td>\n",
              "      <td>705.0</td>\n",
              "      <td>35.0</td>\n",
              "      <td>6.0</td>\n",
              "      <td>116320.68</td>\n",
              "      <td>2.0</td>\n",
              "      <td>1.0</td>\n",
              "      <td>0.0</td>\n",
              "      <td>174431.01</td>\n",
              "      <td>0.0</td>\n",
              "      <td>1.0</td>\n",
              "      <td>0.0</td>\n",
              "      <td>0.0</td>\n",
              "      <td>1.0</td>\n",
              "    </tr>\n",
              "    <tr>\n",
              "      <th>3365</th>\n",
              "      <td>15780572.0</td>\n",
              "      <td>669.0</td>\n",
              "      <td>58.0</td>\n",
              "      <td>0.0</td>\n",
              "      <td>0.00</td>\n",
              "      <td>2.0</td>\n",
              "      <td>0.0</td>\n",
              "      <td>1.0</td>\n",
              "      <td>51565.98</td>\n",
              "      <td>0.0</td>\n",
              "      <td>0.0</td>\n",
              "      <td>1.0</td>\n",
              "      <td>0.0</td>\n",
              "      <td>1.0</td>\n",
              "    </tr>\n",
              "    <tr>\n",
              "      <th>12236</th>\n",
              "      <td>15642099.0</td>\n",
              "      <td>707.0</td>\n",
              "      <td>21.0</td>\n",
              "      <td>3.0</td>\n",
              "      <td>0.00</td>\n",
              "      <td>2.0</td>\n",
              "      <td>1.0</td>\n",
              "      <td>1.0</td>\n",
              "      <td>148564.76</td>\n",
              "      <td>1.0</td>\n",
              "      <td>0.0</td>\n",
              "      <td>0.0</td>\n",
              "      <td>0.0</td>\n",
              "      <td>1.0</td>\n",
              "    </tr>\n",
              "  </tbody>\n",
              "</table>\n",
              "</div>\n",
              "    <div class=\"colab-df-buttons\">\n",
              "\n",
              "  <div class=\"colab-df-container\">\n",
              "    <button class=\"colab-df-convert\" onclick=\"convertToInteractive('df-d12ccc03-df47-4c38-8508-08a597e0c50b')\"\n",
              "            title=\"Convert this dataframe to an interactive table.\"\n",
              "            style=\"display:none;\">\n",
              "\n",
              "  <svg xmlns=\"http://www.w3.org/2000/svg\" height=\"24px\" viewBox=\"0 -960 960 960\">\n",
              "    <path d=\"M120-120v-720h720v720H120Zm60-500h600v-160H180v160Zm220 220h160v-160H400v160Zm0 220h160v-160H400v160ZM180-400h160v-160H180v160Zm440 0h160v-160H620v160ZM180-180h160v-160H180v160Zm440 0h160v-160H620v160Z\"/>\n",
              "  </svg>\n",
              "    </button>\n",
              "\n",
              "  <style>\n",
              "    .colab-df-container {\n",
              "      display:flex;\n",
              "      gap: 12px;\n",
              "    }\n",
              "\n",
              "    .colab-df-convert {\n",
              "      background-color: #E8F0FE;\n",
              "      border: none;\n",
              "      border-radius: 50%;\n",
              "      cursor: pointer;\n",
              "      display: none;\n",
              "      fill: #1967D2;\n",
              "      height: 32px;\n",
              "      padding: 0 0 0 0;\n",
              "      width: 32px;\n",
              "    }\n",
              "\n",
              "    .colab-df-convert:hover {\n",
              "      background-color: #E2EBFA;\n",
              "      box-shadow: 0px 1px 2px rgba(60, 64, 67, 0.3), 0px 1px 3px 1px rgba(60, 64, 67, 0.15);\n",
              "      fill: #174EA6;\n",
              "    }\n",
              "\n",
              "    .colab-df-buttons div {\n",
              "      margin-bottom: 4px;\n",
              "    }\n",
              "\n",
              "    [theme=dark] .colab-df-convert {\n",
              "      background-color: #3B4455;\n",
              "      fill: #D2E3FC;\n",
              "    }\n",
              "\n",
              "    [theme=dark] .colab-df-convert:hover {\n",
              "      background-color: #434B5C;\n",
              "      box-shadow: 0px 1px 3px 1px rgba(0, 0, 0, 0.15);\n",
              "      filter: drop-shadow(0px 1px 2px rgba(0, 0, 0, 0.3));\n",
              "      fill: #FFFFFF;\n",
              "    }\n",
              "  </style>\n",
              "\n",
              "    <script>\n",
              "      const buttonEl =\n",
              "        document.querySelector('#df-d12ccc03-df47-4c38-8508-08a597e0c50b button.colab-df-convert');\n",
              "      buttonEl.style.display =\n",
              "        google.colab.kernel.accessAllowed ? 'block' : 'none';\n",
              "\n",
              "      async function convertToInteractive(key) {\n",
              "        const element = document.querySelector('#df-d12ccc03-df47-4c38-8508-08a597e0c50b');\n",
              "        const dataTable =\n",
              "          await google.colab.kernel.invokeFunction('convertToInteractive',\n",
              "                                                    [key], {});\n",
              "        if (!dataTable) return;\n",
              "\n",
              "        const docLinkHtml = 'Like what you see? Visit the ' +\n",
              "          '<a target=\"_blank\" href=https://colab.research.google.com/notebooks/data_table.ipynb>data table notebook</a>'\n",
              "          + ' to learn more about interactive tables.';\n",
              "        element.innerHTML = '';\n",
              "        dataTable['output_type'] = 'display_data';\n",
              "        await google.colab.output.renderOutput(dataTable, element);\n",
              "        const docLink = document.createElement('div');\n",
              "        docLink.innerHTML = docLinkHtml;\n",
              "        element.appendChild(docLink);\n",
              "      }\n",
              "    </script>\n",
              "  </div>\n",
              "\n",
              "\n",
              "    <div id=\"df-df39c372-27a8-42b4-9abc-28be33435939\">\n",
              "      <button class=\"colab-df-quickchart\" onclick=\"quickchart('df-df39c372-27a8-42b4-9abc-28be33435939')\"\n",
              "                title=\"Suggest charts\"\n",
              "                style=\"display:none;\">\n",
              "\n",
              "<svg xmlns=\"http://www.w3.org/2000/svg\" height=\"24px\"viewBox=\"0 0 24 24\"\n",
              "     width=\"24px\">\n",
              "    <g>\n",
              "        <path d=\"M19 3H5c-1.1 0-2 .9-2 2v14c0 1.1.9 2 2 2h14c1.1 0 2-.9 2-2V5c0-1.1-.9-2-2-2zM9 17H7v-7h2v7zm4 0h-2V7h2v10zm4 0h-2v-4h2v4z\"/>\n",
              "    </g>\n",
              "</svg>\n",
              "      </button>\n",
              "\n",
              "<style>\n",
              "  .colab-df-quickchart {\n",
              "      --bg-color: #E8F0FE;\n",
              "      --fill-color: #1967D2;\n",
              "      --hover-bg-color: #E2EBFA;\n",
              "      --hover-fill-color: #174EA6;\n",
              "      --disabled-fill-color: #AAA;\n",
              "      --disabled-bg-color: #DDD;\n",
              "  }\n",
              "\n",
              "  [theme=dark] .colab-df-quickchart {\n",
              "      --bg-color: #3B4455;\n",
              "      --fill-color: #D2E3FC;\n",
              "      --hover-bg-color: #434B5C;\n",
              "      --hover-fill-color: #FFFFFF;\n",
              "      --disabled-bg-color: #3B4455;\n",
              "      --disabled-fill-color: #666;\n",
              "  }\n",
              "\n",
              "  .colab-df-quickchart {\n",
              "    background-color: var(--bg-color);\n",
              "    border: none;\n",
              "    border-radius: 50%;\n",
              "    cursor: pointer;\n",
              "    display: none;\n",
              "    fill: var(--fill-color);\n",
              "    height: 32px;\n",
              "    padding: 0;\n",
              "    width: 32px;\n",
              "  }\n",
              "\n",
              "  .colab-df-quickchart:hover {\n",
              "    background-color: var(--hover-bg-color);\n",
              "    box-shadow: 0 1px 2px rgba(60, 64, 67, 0.3), 0 1px 3px 1px rgba(60, 64, 67, 0.15);\n",
              "    fill: var(--button-hover-fill-color);\n",
              "  }\n",
              "\n",
              "  .colab-df-quickchart-complete:disabled,\n",
              "  .colab-df-quickchart-complete:disabled:hover {\n",
              "    background-color: var(--disabled-bg-color);\n",
              "    fill: var(--disabled-fill-color);\n",
              "    box-shadow: none;\n",
              "  }\n",
              "\n",
              "  .colab-df-spinner {\n",
              "    border: 2px solid var(--fill-color);\n",
              "    border-color: transparent;\n",
              "    border-bottom-color: var(--fill-color);\n",
              "    animation:\n",
              "      spin 1s steps(1) infinite;\n",
              "  }\n",
              "\n",
              "  @keyframes spin {\n",
              "    0% {\n",
              "      border-color: transparent;\n",
              "      border-bottom-color: var(--fill-color);\n",
              "      border-left-color: var(--fill-color);\n",
              "    }\n",
              "    20% {\n",
              "      border-color: transparent;\n",
              "      border-left-color: var(--fill-color);\n",
              "      border-top-color: var(--fill-color);\n",
              "    }\n",
              "    30% {\n",
              "      border-color: transparent;\n",
              "      border-left-color: var(--fill-color);\n",
              "      border-top-color: var(--fill-color);\n",
              "      border-right-color: var(--fill-color);\n",
              "    }\n",
              "    40% {\n",
              "      border-color: transparent;\n",
              "      border-right-color: var(--fill-color);\n",
              "      border-top-color: var(--fill-color);\n",
              "    }\n",
              "    60% {\n",
              "      border-color: transparent;\n",
              "      border-right-color: var(--fill-color);\n",
              "    }\n",
              "    80% {\n",
              "      border-color: transparent;\n",
              "      border-right-color: var(--fill-color);\n",
              "      border-bottom-color: var(--fill-color);\n",
              "    }\n",
              "    90% {\n",
              "      border-color: transparent;\n",
              "      border-bottom-color: var(--fill-color);\n",
              "    }\n",
              "  }\n",
              "</style>\n",
              "\n",
              "      <script>\n",
              "        async function quickchart(key) {\n",
              "          const quickchartButtonEl =\n",
              "            document.querySelector('#' + key + ' button');\n",
              "          quickchartButtonEl.disabled = true;  // To prevent multiple clicks.\n",
              "          quickchartButtonEl.classList.add('colab-df-spinner');\n",
              "          try {\n",
              "            const charts = await google.colab.kernel.invokeFunction(\n",
              "                'suggestCharts', [key], {});\n",
              "          } catch (error) {\n",
              "            console.error('Error during call to suggestCharts:', error);\n",
              "          }\n",
              "          quickchartButtonEl.classList.remove('colab-df-spinner');\n",
              "          quickchartButtonEl.classList.add('colab-df-quickchart-complete');\n",
              "        }\n",
              "        (() => {\n",
              "          let quickchartButtonEl =\n",
              "            document.querySelector('#df-df39c372-27a8-42b4-9abc-28be33435939 button');\n",
              "          quickchartButtonEl.style.display =\n",
              "            google.colab.kernel.accessAllowed ? 'block' : 'none';\n",
              "        })();\n",
              "      </script>\n",
              "    </div>\n",
              "\n",
              "    </div>\n",
              "  </div>\n"
            ],
            "application/vnd.google.colaboratory.intrinsic+json": {
              "type": "dataframe",
              "variable_name": "X_train",
              "summary": "{\n  \"name\": \"X_train\",\n  \"rows\": 12000,\n  \"fields\": [\n    {\n      \"column\": \"CustomerId\",\n      \"properties\": {\n        \"dtype\": \"number\",\n        \"std\": 146930.97193473845,\n        \"min\": 1581102.0,\n        \"max\": 15815690.0,\n        \"num_unique_values\": 5700,\n        \"samples\": [\n          15778089.0,\n          15601787.0,\n          15679550.0\n        ],\n        \"semantic_type\": \"\",\n        \"description\": \"\"\n      }\n    },\n    {\n      \"column\": \"CreditScore\",\n      \"properties\": {\n        \"dtype\": \"number\",\n        \"std\": 72.3349092176692,\n        \"min\": 431.0,\n        \"max\": 850.0,\n        \"num_unique_values\": 373,\n        \"samples\": [\n          759.0,\n          564.0,\n          678.0\n        ],\n        \"semantic_type\": \"\",\n        \"description\": \"\"\n      }\n    },\n    {\n      \"column\": \"Age\",\n      \"properties\": {\n        \"dtype\": \"number\",\n        \"std\": 8.138440074340142,\n        \"min\": 18.0,\n        \"max\": 74.0,\n        \"num_unique_values\": 56,\n        \"samples\": [\n          30.0,\n          37.0,\n          27.0\n        ],\n        \"semantic_type\": \"\",\n        \"description\": \"\"\n      }\n    },\n    {\n      \"column\": \"Tenure\",\n      \"properties\": {\n        \"dtype\": \"number\",\n        \"std\": 2.7819743483411368,\n        \"min\": 0.0,\n        \"max\": 10.0,\n        \"num_unique_values\": 11,\n        \"samples\": [\n          9.0,\n          1.0,\n          7.0\n        ],\n        \"semantic_type\": \"\",\n        \"description\": \"\"\n      }\n    },\n    {\n      \"column\": \"Balance\",\n      \"properties\": {\n        \"dtype\": \"number\",\n        \"std\": 59906.62766025313,\n        \"min\": 0.0,\n        \"max\": 209767.31,\n        \"num_unique_values\": 2895,\n        \"samples\": [\n          110641.18,\n          171283.91,\n          170214.23\n        ],\n        \"semantic_type\": \"\",\n        \"description\": \"\"\n      }\n    },\n    {\n      \"column\": \"NumOfProducts\",\n      \"properties\": {\n        \"dtype\": \"number\",\n        \"std\": 0.5326461428498426,\n        \"min\": 1.0,\n        \"max\": 4.0,\n        \"num_unique_values\": 4,\n        \"samples\": [\n          2.0,\n          4.0,\n          1.0\n        ],\n        \"semantic_type\": \"\",\n        \"description\": \"\"\n      }\n    },\n    {\n      \"column\": \"HasCrCard\",\n      \"properties\": {\n        \"dtype\": \"number\",\n        \"std\": 0.4070876632692669,\n        \"min\": 0.0,\n        \"max\": 1.0,\n        \"num_unique_values\": 2,\n        \"samples\": [\n          0.0,\n          1.0\n        ],\n        \"semantic_type\": \"\",\n        \"description\": \"\"\n      }\n    },\n    {\n      \"column\": \"IsActiveMember\",\n      \"properties\": {\n        \"dtype\": \"number\",\n        \"std\": 0.49994998638656074,\n        \"min\": 0.0,\n        \"max\": 1.0,\n        \"num_unique_values\": 2,\n        \"samples\": [\n          0.0,\n          1.0\n        ],\n        \"semantic_type\": \"\",\n        \"description\": \"\"\n      }\n    },\n    {\n      \"column\": \"EstimatedSalary\",\n      \"properties\": {\n        \"dtype\": \"number\",\n        \"std\": 45589.48460747334,\n        \"min\": 11.58,\n        \"max\": 199992.48,\n        \"num_unique_values\": 5502,\n        \"samples\": [\n          140723.09,\n          179540.73\n        ],\n        \"semantic_type\": \"\",\n        \"description\": \"\"\n      }\n    },\n    {\n      \"column\": \"Geography_France\",\n      \"properties\": {\n        \"dtype\": \"number\",\n        \"std\": 0.4897303469324766,\n        \"min\": 0.0,\n        \"max\": 1.0,\n        \"num_unique_values\": 2,\n        \"samples\": [\n          0.0,\n          1.0\n        ],\n        \"semantic_type\": \"\",\n        \"description\": \"\"\n      }\n    },\n    {\n      \"column\": \"Geography_Germany\",\n      \"properties\": {\n        \"dtype\": \"number\",\n        \"std\": 0.38357749995910745,\n        \"min\": 0.0,\n        \"max\": 1.0,\n        \"num_unique_values\": 2,\n        \"samples\": [\n          1.0,\n          0.0\n        ],\n        \"semantic_type\": \"\",\n        \"description\": \"\"\n      }\n    },\n    {\n      \"column\": \"Geography_Spain\",\n      \"properties\": {\n        \"dtype\": \"number\",\n        \"std\": 0.4141508569349529,\n        \"min\": 0.0,\n        \"max\": 1.0,\n        \"num_unique_values\": 2,\n        \"samples\": [\n          1.0,\n          0.0\n        ],\n        \"semantic_type\": \"\",\n        \"description\": \"\"\n      }\n    },\n    {\n      \"column\": \"Gender_Female\",\n      \"properties\": {\n        \"dtype\": \"number\",\n        \"std\": 0.49466290638096455,\n        \"min\": 0.0,\n        \"max\": 1.0,\n        \"num_unique_values\": 2,\n        \"samples\": [\n          1.0,\n          0.0\n        ],\n        \"semantic_type\": \"\",\n        \"description\": \"\"\n      }\n    },\n    {\n      \"column\": \"Gender_Male\",\n      \"properties\": {\n        \"dtype\": \"number\",\n        \"std\": 0.49466290638096455,\n        \"min\": 0.0,\n        \"max\": 1.0,\n        \"num_unique_values\": 2,\n        \"samples\": [\n          0.0,\n          1.0\n        ],\n        \"semantic_type\": \"\",\n        \"description\": \"\"\n      }\n    }\n  ]\n}"
            }
          },
          "metadata": {},
          "execution_count": 8
        }
      ]
    },
    {
      "cell_type": "code",
      "source": [
        "print(X_train.shape)\n",
        "print(train_targets.shape)\n",
        "print(X_val.shape)\n",
        "print(val_targets.shape)"
      ],
      "metadata": {
        "colab": {
          "base_uri": "https://localhost:8080/"
        },
        "id": "XYBQVADiili4",
        "outputId": "814f2003-7a88-4192-8ae6-26734958516d"
      },
      "execution_count": 11,
      "outputs": [
        {
          "output_type": "stream",
          "name": "stdout",
          "text": [
            "(12000, 14)\n",
            "(12000,)\n",
            "(3000, 14)\n",
            "(3000,)\n"
          ]
        }
      ]
    },
    {
      "cell_type": "markdown",
      "source": [
        "1. Навчіть на цих даних класифікатор kNN з параметрами за замовченням і виміряйте точність з допомогою AUROC на тренувальному та валідаційному наборах. Зробіть заключення про отриману модель: вона хороша/погана, чи є high bias/high variance?"
      ],
      "metadata": {
        "id": "_LxWkv4o-wMe"
      }
    },
    {
      "cell_type": "code",
      "source": [
        "from sklearn.neighbors import KNeighborsClassifier\n",
        "from sklearn.metrics import roc_auc_score"
      ],
      "metadata": {
        "id": "1TH7H_Z9IAHD"
      },
      "execution_count": 12,
      "outputs": []
    },
    {
      "cell_type": "code",
      "source": [
        "knn = KNeighborsClassifier()\n",
        "knn.fit(X_train, train_targets)"
      ],
      "metadata": {
        "colab": {
          "base_uri": "https://localhost:8080/",
          "height": 99
        },
        "id": "nJnoHVlqi0ti",
        "outputId": "5ba80d37-8202-43f2-ccf6-fde194f15789"
      },
      "execution_count": 13,
      "outputs": [
        {
          "output_type": "execute_result",
          "data": {
            "text/plain": [
              "KNeighborsClassifier()"
            ],
            "text/html": [
              "<style>#sk-container-id-1 {\n",
              "  /* Definition of color scheme common for light and dark mode */\n",
              "  --sklearn-color-text: #000;\n",
              "  --sklearn-color-text-muted: #666;\n",
              "  --sklearn-color-line: gray;\n",
              "  /* Definition of color scheme for unfitted estimators */\n",
              "  --sklearn-color-unfitted-level-0: #fff5e6;\n",
              "  --sklearn-color-unfitted-level-1: #f6e4d2;\n",
              "  --sklearn-color-unfitted-level-2: #ffe0b3;\n",
              "  --sklearn-color-unfitted-level-3: chocolate;\n",
              "  /* Definition of color scheme for fitted estimators */\n",
              "  --sklearn-color-fitted-level-0: #f0f8ff;\n",
              "  --sklearn-color-fitted-level-1: #d4ebff;\n",
              "  --sklearn-color-fitted-level-2: #b3dbfd;\n",
              "  --sklearn-color-fitted-level-3: cornflowerblue;\n",
              "\n",
              "  /* Specific color for light theme */\n",
              "  --sklearn-color-text-on-default-background: var(--sg-text-color, var(--theme-code-foreground, var(--jp-content-font-color1, black)));\n",
              "  --sklearn-color-background: var(--sg-background-color, var(--theme-background, var(--jp-layout-color0, white)));\n",
              "  --sklearn-color-border-box: var(--sg-text-color, var(--theme-code-foreground, var(--jp-content-font-color1, black)));\n",
              "  --sklearn-color-icon: #696969;\n",
              "\n",
              "  @media (prefers-color-scheme: dark) {\n",
              "    /* Redefinition of color scheme for dark theme */\n",
              "    --sklearn-color-text-on-default-background: var(--sg-text-color, var(--theme-code-foreground, var(--jp-content-font-color1, white)));\n",
              "    --sklearn-color-background: var(--sg-background-color, var(--theme-background, var(--jp-layout-color0, #111)));\n",
              "    --sklearn-color-border-box: var(--sg-text-color, var(--theme-code-foreground, var(--jp-content-font-color1, white)));\n",
              "    --sklearn-color-icon: #878787;\n",
              "  }\n",
              "}\n",
              "\n",
              "#sk-container-id-1 {\n",
              "  color: var(--sklearn-color-text);\n",
              "}\n",
              "\n",
              "#sk-container-id-1 pre {\n",
              "  padding: 0;\n",
              "}\n",
              "\n",
              "#sk-container-id-1 input.sk-hidden--visually {\n",
              "  border: 0;\n",
              "  clip: rect(1px 1px 1px 1px);\n",
              "  clip: rect(1px, 1px, 1px, 1px);\n",
              "  height: 1px;\n",
              "  margin: -1px;\n",
              "  overflow: hidden;\n",
              "  padding: 0;\n",
              "  position: absolute;\n",
              "  width: 1px;\n",
              "}\n",
              "\n",
              "#sk-container-id-1 div.sk-dashed-wrapped {\n",
              "  border: 1px dashed var(--sklearn-color-line);\n",
              "  margin: 0 0.4em 0.5em 0.4em;\n",
              "  box-sizing: border-box;\n",
              "  padding-bottom: 0.4em;\n",
              "  background-color: var(--sklearn-color-background);\n",
              "}\n",
              "\n",
              "#sk-container-id-1 div.sk-container {\n",
              "  /* jupyter's `normalize.less` sets `[hidden] { display: none; }`\n",
              "     but bootstrap.min.css set `[hidden] { display: none !important; }`\n",
              "     so we also need the `!important` here to be able to override the\n",
              "     default hidden behavior on the sphinx rendered scikit-learn.org.\n",
              "     See: https://github.com/scikit-learn/scikit-learn/issues/21755 */\n",
              "  display: inline-block !important;\n",
              "  position: relative;\n",
              "}\n",
              "\n",
              "#sk-container-id-1 div.sk-text-repr-fallback {\n",
              "  display: none;\n",
              "}\n",
              "\n",
              "div.sk-parallel-item,\n",
              "div.sk-serial,\n",
              "div.sk-item {\n",
              "  /* draw centered vertical line to link estimators */\n",
              "  background-image: linear-gradient(var(--sklearn-color-text-on-default-background), var(--sklearn-color-text-on-default-background));\n",
              "  background-size: 2px 100%;\n",
              "  background-repeat: no-repeat;\n",
              "  background-position: center center;\n",
              "}\n",
              "\n",
              "/* Parallel-specific style estimator block */\n",
              "\n",
              "#sk-container-id-1 div.sk-parallel-item::after {\n",
              "  content: \"\";\n",
              "  width: 100%;\n",
              "  border-bottom: 2px solid var(--sklearn-color-text-on-default-background);\n",
              "  flex-grow: 1;\n",
              "}\n",
              "\n",
              "#sk-container-id-1 div.sk-parallel {\n",
              "  display: flex;\n",
              "  align-items: stretch;\n",
              "  justify-content: center;\n",
              "  background-color: var(--sklearn-color-background);\n",
              "  position: relative;\n",
              "}\n",
              "\n",
              "#sk-container-id-1 div.sk-parallel-item {\n",
              "  display: flex;\n",
              "  flex-direction: column;\n",
              "}\n",
              "\n",
              "#sk-container-id-1 div.sk-parallel-item:first-child::after {\n",
              "  align-self: flex-end;\n",
              "  width: 50%;\n",
              "}\n",
              "\n",
              "#sk-container-id-1 div.sk-parallel-item:last-child::after {\n",
              "  align-self: flex-start;\n",
              "  width: 50%;\n",
              "}\n",
              "\n",
              "#sk-container-id-1 div.sk-parallel-item:only-child::after {\n",
              "  width: 0;\n",
              "}\n",
              "\n",
              "/* Serial-specific style estimator block */\n",
              "\n",
              "#sk-container-id-1 div.sk-serial {\n",
              "  display: flex;\n",
              "  flex-direction: column;\n",
              "  align-items: center;\n",
              "  background-color: var(--sklearn-color-background);\n",
              "  padding-right: 1em;\n",
              "  padding-left: 1em;\n",
              "}\n",
              "\n",
              "\n",
              "/* Toggleable style: style used for estimator/Pipeline/ColumnTransformer box that is\n",
              "clickable and can be expanded/collapsed.\n",
              "- Pipeline and ColumnTransformer use this feature and define the default style\n",
              "- Estimators will overwrite some part of the style using the `sk-estimator` class\n",
              "*/\n",
              "\n",
              "/* Pipeline and ColumnTransformer style (default) */\n",
              "\n",
              "#sk-container-id-1 div.sk-toggleable {\n",
              "  /* Default theme specific background. It is overwritten whether we have a\n",
              "  specific estimator or a Pipeline/ColumnTransformer */\n",
              "  background-color: var(--sklearn-color-background);\n",
              "}\n",
              "\n",
              "/* Toggleable label */\n",
              "#sk-container-id-1 label.sk-toggleable__label {\n",
              "  cursor: pointer;\n",
              "  display: flex;\n",
              "  width: 100%;\n",
              "  margin-bottom: 0;\n",
              "  padding: 0.5em;\n",
              "  box-sizing: border-box;\n",
              "  text-align: center;\n",
              "  align-items: start;\n",
              "  justify-content: space-between;\n",
              "  gap: 0.5em;\n",
              "}\n",
              "\n",
              "#sk-container-id-1 label.sk-toggleable__label .caption {\n",
              "  font-size: 0.6rem;\n",
              "  font-weight: lighter;\n",
              "  color: var(--sklearn-color-text-muted);\n",
              "}\n",
              "\n",
              "#sk-container-id-1 label.sk-toggleable__label-arrow:before {\n",
              "  /* Arrow on the left of the label */\n",
              "  content: \"▸\";\n",
              "  float: left;\n",
              "  margin-right: 0.25em;\n",
              "  color: var(--sklearn-color-icon);\n",
              "}\n",
              "\n",
              "#sk-container-id-1 label.sk-toggleable__label-arrow:hover:before {\n",
              "  color: var(--sklearn-color-text);\n",
              "}\n",
              "\n",
              "/* Toggleable content - dropdown */\n",
              "\n",
              "#sk-container-id-1 div.sk-toggleable__content {\n",
              "  max-height: 0;\n",
              "  max-width: 0;\n",
              "  overflow: hidden;\n",
              "  text-align: left;\n",
              "  /* unfitted */\n",
              "  background-color: var(--sklearn-color-unfitted-level-0);\n",
              "}\n",
              "\n",
              "#sk-container-id-1 div.sk-toggleable__content.fitted {\n",
              "  /* fitted */\n",
              "  background-color: var(--sklearn-color-fitted-level-0);\n",
              "}\n",
              "\n",
              "#sk-container-id-1 div.sk-toggleable__content pre {\n",
              "  margin: 0.2em;\n",
              "  border-radius: 0.25em;\n",
              "  color: var(--sklearn-color-text);\n",
              "  /* unfitted */\n",
              "  background-color: var(--sklearn-color-unfitted-level-0);\n",
              "}\n",
              "\n",
              "#sk-container-id-1 div.sk-toggleable__content.fitted pre {\n",
              "  /* unfitted */\n",
              "  background-color: var(--sklearn-color-fitted-level-0);\n",
              "}\n",
              "\n",
              "#sk-container-id-1 input.sk-toggleable__control:checked~div.sk-toggleable__content {\n",
              "  /* Expand drop-down */\n",
              "  max-height: 200px;\n",
              "  max-width: 100%;\n",
              "  overflow: auto;\n",
              "}\n",
              "\n",
              "#sk-container-id-1 input.sk-toggleable__control:checked~label.sk-toggleable__label-arrow:before {\n",
              "  content: \"▾\";\n",
              "}\n",
              "\n",
              "/* Pipeline/ColumnTransformer-specific style */\n",
              "\n",
              "#sk-container-id-1 div.sk-label input.sk-toggleable__control:checked~label.sk-toggleable__label {\n",
              "  color: var(--sklearn-color-text);\n",
              "  background-color: var(--sklearn-color-unfitted-level-2);\n",
              "}\n",
              "\n",
              "#sk-container-id-1 div.sk-label.fitted input.sk-toggleable__control:checked~label.sk-toggleable__label {\n",
              "  background-color: var(--sklearn-color-fitted-level-2);\n",
              "}\n",
              "\n",
              "/* Estimator-specific style */\n",
              "\n",
              "/* Colorize estimator box */\n",
              "#sk-container-id-1 div.sk-estimator input.sk-toggleable__control:checked~label.sk-toggleable__label {\n",
              "  /* unfitted */\n",
              "  background-color: var(--sklearn-color-unfitted-level-2);\n",
              "}\n",
              "\n",
              "#sk-container-id-1 div.sk-estimator.fitted input.sk-toggleable__control:checked~label.sk-toggleable__label {\n",
              "  /* fitted */\n",
              "  background-color: var(--sklearn-color-fitted-level-2);\n",
              "}\n",
              "\n",
              "#sk-container-id-1 div.sk-label label.sk-toggleable__label,\n",
              "#sk-container-id-1 div.sk-label label {\n",
              "  /* The background is the default theme color */\n",
              "  color: var(--sklearn-color-text-on-default-background);\n",
              "}\n",
              "\n",
              "/* On hover, darken the color of the background */\n",
              "#sk-container-id-1 div.sk-label:hover label.sk-toggleable__label {\n",
              "  color: var(--sklearn-color-text);\n",
              "  background-color: var(--sklearn-color-unfitted-level-2);\n",
              "}\n",
              "\n",
              "/* Label box, darken color on hover, fitted */\n",
              "#sk-container-id-1 div.sk-label.fitted:hover label.sk-toggleable__label.fitted {\n",
              "  color: var(--sklearn-color-text);\n",
              "  background-color: var(--sklearn-color-fitted-level-2);\n",
              "}\n",
              "\n",
              "/* Estimator label */\n",
              "\n",
              "#sk-container-id-1 div.sk-label label {\n",
              "  font-family: monospace;\n",
              "  font-weight: bold;\n",
              "  display: inline-block;\n",
              "  line-height: 1.2em;\n",
              "}\n",
              "\n",
              "#sk-container-id-1 div.sk-label-container {\n",
              "  text-align: center;\n",
              "}\n",
              "\n",
              "/* Estimator-specific */\n",
              "#sk-container-id-1 div.sk-estimator {\n",
              "  font-family: monospace;\n",
              "  border: 1px dotted var(--sklearn-color-border-box);\n",
              "  border-radius: 0.25em;\n",
              "  box-sizing: border-box;\n",
              "  margin-bottom: 0.5em;\n",
              "  /* unfitted */\n",
              "  background-color: var(--sklearn-color-unfitted-level-0);\n",
              "}\n",
              "\n",
              "#sk-container-id-1 div.sk-estimator.fitted {\n",
              "  /* fitted */\n",
              "  background-color: var(--sklearn-color-fitted-level-0);\n",
              "}\n",
              "\n",
              "/* on hover */\n",
              "#sk-container-id-1 div.sk-estimator:hover {\n",
              "  /* unfitted */\n",
              "  background-color: var(--sklearn-color-unfitted-level-2);\n",
              "}\n",
              "\n",
              "#sk-container-id-1 div.sk-estimator.fitted:hover {\n",
              "  /* fitted */\n",
              "  background-color: var(--sklearn-color-fitted-level-2);\n",
              "}\n",
              "\n",
              "/* Specification for estimator info (e.g. \"i\" and \"?\") */\n",
              "\n",
              "/* Common style for \"i\" and \"?\" */\n",
              "\n",
              ".sk-estimator-doc-link,\n",
              "a:link.sk-estimator-doc-link,\n",
              "a:visited.sk-estimator-doc-link {\n",
              "  float: right;\n",
              "  font-size: smaller;\n",
              "  line-height: 1em;\n",
              "  font-family: monospace;\n",
              "  background-color: var(--sklearn-color-background);\n",
              "  border-radius: 1em;\n",
              "  height: 1em;\n",
              "  width: 1em;\n",
              "  text-decoration: none !important;\n",
              "  margin-left: 0.5em;\n",
              "  text-align: center;\n",
              "  /* unfitted */\n",
              "  border: var(--sklearn-color-unfitted-level-1) 1pt solid;\n",
              "  color: var(--sklearn-color-unfitted-level-1);\n",
              "}\n",
              "\n",
              ".sk-estimator-doc-link.fitted,\n",
              "a:link.sk-estimator-doc-link.fitted,\n",
              "a:visited.sk-estimator-doc-link.fitted {\n",
              "  /* fitted */\n",
              "  border: var(--sklearn-color-fitted-level-1) 1pt solid;\n",
              "  color: var(--sklearn-color-fitted-level-1);\n",
              "}\n",
              "\n",
              "/* On hover */\n",
              "div.sk-estimator:hover .sk-estimator-doc-link:hover,\n",
              ".sk-estimator-doc-link:hover,\n",
              "div.sk-label-container:hover .sk-estimator-doc-link:hover,\n",
              ".sk-estimator-doc-link:hover {\n",
              "  /* unfitted */\n",
              "  background-color: var(--sklearn-color-unfitted-level-3);\n",
              "  color: var(--sklearn-color-background);\n",
              "  text-decoration: none;\n",
              "}\n",
              "\n",
              "div.sk-estimator.fitted:hover .sk-estimator-doc-link.fitted:hover,\n",
              ".sk-estimator-doc-link.fitted:hover,\n",
              "div.sk-label-container:hover .sk-estimator-doc-link.fitted:hover,\n",
              ".sk-estimator-doc-link.fitted:hover {\n",
              "  /* fitted */\n",
              "  background-color: var(--sklearn-color-fitted-level-3);\n",
              "  color: var(--sklearn-color-background);\n",
              "  text-decoration: none;\n",
              "}\n",
              "\n",
              "/* Span, style for the box shown on hovering the info icon */\n",
              ".sk-estimator-doc-link span {\n",
              "  display: none;\n",
              "  z-index: 9999;\n",
              "  position: relative;\n",
              "  font-weight: normal;\n",
              "  right: .2ex;\n",
              "  padding: .5ex;\n",
              "  margin: .5ex;\n",
              "  width: min-content;\n",
              "  min-width: 20ex;\n",
              "  max-width: 50ex;\n",
              "  color: var(--sklearn-color-text);\n",
              "  box-shadow: 2pt 2pt 4pt #999;\n",
              "  /* unfitted */\n",
              "  background: var(--sklearn-color-unfitted-level-0);\n",
              "  border: .5pt solid var(--sklearn-color-unfitted-level-3);\n",
              "}\n",
              "\n",
              ".sk-estimator-doc-link.fitted span {\n",
              "  /* fitted */\n",
              "  background: var(--sklearn-color-fitted-level-0);\n",
              "  border: var(--sklearn-color-fitted-level-3);\n",
              "}\n",
              "\n",
              ".sk-estimator-doc-link:hover span {\n",
              "  display: block;\n",
              "}\n",
              "\n",
              "/* \"?\"-specific style due to the `<a>` HTML tag */\n",
              "\n",
              "#sk-container-id-1 a.estimator_doc_link {\n",
              "  float: right;\n",
              "  font-size: 1rem;\n",
              "  line-height: 1em;\n",
              "  font-family: monospace;\n",
              "  background-color: var(--sklearn-color-background);\n",
              "  border-radius: 1rem;\n",
              "  height: 1rem;\n",
              "  width: 1rem;\n",
              "  text-decoration: none;\n",
              "  /* unfitted */\n",
              "  color: var(--sklearn-color-unfitted-level-1);\n",
              "  border: var(--sklearn-color-unfitted-level-1) 1pt solid;\n",
              "}\n",
              "\n",
              "#sk-container-id-1 a.estimator_doc_link.fitted {\n",
              "  /* fitted */\n",
              "  border: var(--sklearn-color-fitted-level-1) 1pt solid;\n",
              "  color: var(--sklearn-color-fitted-level-1);\n",
              "}\n",
              "\n",
              "/* On hover */\n",
              "#sk-container-id-1 a.estimator_doc_link:hover {\n",
              "  /* unfitted */\n",
              "  background-color: var(--sklearn-color-unfitted-level-3);\n",
              "  color: var(--sklearn-color-background);\n",
              "  text-decoration: none;\n",
              "}\n",
              "\n",
              "#sk-container-id-1 a.estimator_doc_link.fitted:hover {\n",
              "  /* fitted */\n",
              "  background-color: var(--sklearn-color-fitted-level-3);\n",
              "}\n",
              "</style><div id=\"sk-container-id-1\" class=\"sk-top-container\"><div class=\"sk-text-repr-fallback\"><pre>KNeighborsClassifier()</pre><b>In a Jupyter environment, please rerun this cell to show the HTML representation or trust the notebook. <br />On GitHub, the HTML representation is unable to render, please try loading this page with nbviewer.org.</b></div><div class=\"sk-container\" hidden><div class=\"sk-item\"><div class=\"sk-estimator fitted sk-toggleable\"><input class=\"sk-toggleable__control sk-hidden--visually\" id=\"sk-estimator-id-1\" type=\"checkbox\" checked><label for=\"sk-estimator-id-1\" class=\"sk-toggleable__label fitted sk-toggleable__label-arrow\"><div><div>KNeighborsClassifier</div></div><div><a class=\"sk-estimator-doc-link fitted\" rel=\"noreferrer\" target=\"_blank\" href=\"https://scikit-learn.org/1.6/modules/generated/sklearn.neighbors.KNeighborsClassifier.html\">?<span>Documentation for KNeighborsClassifier</span></a><span class=\"sk-estimator-doc-link fitted\">i<span>Fitted</span></span></div></label><div class=\"sk-toggleable__content fitted\"><pre>KNeighborsClassifier()</pre></div> </div></div></div></div>"
            ]
          },
          "metadata": {},
          "execution_count": 13
        }
      ]
    },
    {
      "cell_type": "code",
      "source": [
        "train_probs = knn.predict_proba(X_train)[:, 1]\n",
        "val_probs = knn.predict_proba(X_val)[:, 1]"
      ],
      "metadata": {
        "id": "T49Vcw-Pi3s2"
      },
      "execution_count": 14,
      "outputs": []
    },
    {
      "cell_type": "code",
      "source": [
        "train_auc = roc_auc_score(train_targets, train_probs)\n",
        "val_auc = roc_auc_score(val_targets, val_probs)\n",
        "\n",
        "print(f\"Train AUROC: {train_auc:.4f}\")\n",
        "print(f\"Validation AUROC: {val_auc:.4f}\")"
      ],
      "metadata": {
        "colab": {
          "base_uri": "https://localhost:8080/"
        },
        "id": "CApZrj08i587",
        "outputId": "2888aed8-35f3-4064-c81a-a3eaa82ac280"
      },
      "execution_count": 15,
      "outputs": [
        {
          "output_type": "stream",
          "name": "stdout",
          "text": [
            "Train AUROC: 0.8102\n",
            "Validation AUROC: 0.5587\n"
          ]
        }
      ]
    },
    {
      "cell_type": "markdown",
      "source": [
        "Модель має high variance (overfitting), бо Train AUROC = 0.81 значно вище за Validation AUROC = 0.56. Модель запам’ятала тренувальні дані, але не узагальнює на нові. Модель у такому вигляді є не надійною для прогнозу."
      ],
      "metadata": {
        "id": "ldwsHwTijLaV"
      }
    },
    {
      "cell_type": "markdown",
      "source": [
        "2. Використовуючи `GridSearchCV` знайдіть оптимальне значення параметра `n_neighbors` для класифікатора `kNN`. Псотавте крос валідацію на 5 фолдів.\n",
        "\n",
        "  Після успішного завершення пошуку оптимального гіперпараметра\n",
        "    - виведіть найкраще значення параметра\n",
        "    - збережіть в окрему змінну `knn_best` найкращу модель, знайдену з `GridSearchCV`\n",
        "    - оцініть якість передбачень  `knn_best` на тренувальній і валідаційній вибірці з допомогою AUROC.\n",
        "    - зробіть висновок про якість моделі. Чи стала вона краще порівняно з попереднім пукнтом (2) цього завдання? Чи є вона краще за дерево прийняття рішень з попереднього ДЗ?"
      ],
      "metadata": {
        "id": "U4hm5qYs_f7x"
      }
    },
    {
      "cell_type": "code",
      "source": [
        "from sklearn.model_selection import GridSearchCV\n",
        "from sklearn.neighbors import KNeighborsClassifier\n",
        "from sklearn.metrics import roc_auc_score\n",
        "\n",
        "# Параметрична сітка\n",
        "param_grid = {\n",
        "    'n_neighbors': list(range(1, 21))\n",
        "}\n",
        "\n",
        "# Базова модель\n",
        "knn = KNeighborsClassifier()\n",
        "\n",
        "# Налаштування GridSearchCV\n",
        "grid_search = GridSearchCV(\n",
        "    knn,\n",
        "    param_grid,\n",
        "    cv=5,\n",
        "    scoring='roc_auc',\n",
        "    n_jobs=-1\n",
        ")\n",
        "\n",
        "# Навчання\n",
        "grid_search.fit(X_train, train_targets)\n",
        "\n",
        "# Найкращий параметр\n",
        "print(\"Найкраще значення n_neighbors:\", grid_search.best_params_['n_neighbors'])\n",
        "\n",
        "# Найкраща модель\n",
        "knn_best = grid_search.best_estimator_\n",
        "\n",
        "# AUROC на train/val\n",
        "train_probs_best = knn_best.predict_proba(X_train)[:, 1]\n",
        "val_probs_best = knn_best.predict_proba(X_val)[:, 1]\n",
        "\n",
        "train_auc_best = roc_auc_score(train_targets, train_probs_best)\n",
        "val_auc_best = roc_auc_score(val_targets, val_probs_best)\n",
        "\n",
        "print(f\"Train AUROC (best model): {train_auc_best:.4f}\")\n",
        "print(f\"Validation AUROC (best model): {val_auc_best:.4f}\")\n"
      ],
      "metadata": {
        "id": "a50AtDZ9IDNx"
      },
      "execution_count": null,
      "outputs": []
    },
    {
      "cell_type": "markdown",
      "source": [
        "Модель kNN після GridSearchCV трохи покращилась на валідації (AUROC =0.60), але залишилась значно гіршою за дерево рішень (AUROC =0.92)."
      ],
      "metadata": {
        "id": "-1zoP7BwkD9S"
      }
    },
    {
      "cell_type": "markdown",
      "source": [
        "3. Виконайте пошук оптимальних гіперпараметрів для `DecisionTreeClassifier` з `GridSearchCV` за сіткою параметрів\n",
        "  - `max_depth` від 1 до 20 з кроком 2\n",
        "  - `max_leaf_nodes` від 2 до 10 з кроком 1\n",
        "\n",
        "  Обовʼязково при цьому ініціюйте модель з фіксацією `random_state`.\n",
        "\n",
        "  Поставте кросвалідацію на 3 фолди, `scoring='roc_auc'`, та виміряйте, скільки часу потребує пошук оптимальних гіперпараметрів.\n",
        "\n",
        "  Після успішного завершення пошуку оптимальних гіперпараметрів\n",
        "    - виведіть найкращі значення параметра\n",
        "    - збережіть в окрему змінну `dt_best` найкращу модель, знайдену з `GridSearchCV`\n",
        "    - оцініть якість передбачень  `dt_best` на тренувальній і валідаційній вибірці з допомогою AUROC.\n",
        "    - зробіть висновок про якість моделі. Чи ця модель краща за ту, що ви знайшли вручну?"
      ],
      "metadata": {
        "id": "Vg77SVWrBBmU"
      }
    },
    {
      "cell_type": "code",
      "source": [
        "from sklearn.tree import DecisionTreeClassifier\n",
        "from sklearn.model_selection import GridSearchCV\n",
        "from sklearn.metrics import roc_auc_score\n",
        "import time\n",
        "\n",
        "# Сітка параметрів\n",
        "param_grid = {\n",
        "    'max_depth': list(range(1, 21, 2)),\n",
        "    'max_leaf_nodes': list(range(2, 11))\n",
        "}\n",
        "\n",
        "# Базова модель з random_state\n",
        "dtree = DecisionTreeClassifier(random_state=42)\n",
        "\n",
        "# GridSearchCV\n",
        "grid_search = GridSearchCV(\n",
        "    estimator=dtree,\n",
        "    param_grid=param_grid,\n",
        "    cv=3,\n",
        "    scoring='roc_auc',\n",
        "    n_jobs=-1\n",
        ")"
      ],
      "metadata": {
        "id": "RVg6jX-7IEwl"
      },
      "execution_count": 17,
      "outputs": []
    },
    {
      "cell_type": "code",
      "source": [
        "# Навчання з виміром часу\n",
        "start_time = time.time()\n",
        "grid_search.fit(X_train, train_targets)\n",
        "end_time = time.time()\n",
        "\n",
        "print(f\"Час пошуку (сек): {end_time - start_time:.2f}\")\n",
        "print(\"Найкращі параметри:\", grid_search.best_params_)\n",
        "\n",
        "# Найкраща модель\n",
        "dt_best = grid_search.best_estimator_"
      ],
      "metadata": {
        "colab": {
          "base_uri": "https://localhost:8080/"
        },
        "id": "YqecGg8akfyW",
        "outputId": "a61cde3d-5c72-4e6c-e93b-430ec992ce56"
      },
      "execution_count": 18,
      "outputs": [
        {
          "output_type": "stream",
          "name": "stdout",
          "text": [
            "Час пошуку (сек): 5.97\n",
            "Найкращі параметри: {'max_depth': 5, 'max_leaf_nodes': 10}\n"
          ]
        }
      ]
    },
    {
      "cell_type": "code",
      "source": [
        "# Оцінка AUROC\n",
        "train_probs = dt_best.predict_proba(X_train)[:, 1]\n",
        "val_probs = dt_best.predict_proba(X_val)[:, 1]\n",
        "\n",
        "train_auc = roc_auc_score(train_targets, train_probs)\n",
        "val_auc = roc_auc_score(val_targets, val_probs)\n",
        "\n",
        "print(f\"Train AUROC (best tree): {train_auc:.4f}\")\n",
        "print(f\"Validation AUROC (best tree): {val_auc:.4f}\")"
      ],
      "metadata": {
        "colab": {
          "base_uri": "https://localhost:8080/"
        },
        "id": "DmWa4Vn-kiz1",
        "outputId": "e76ce8e7-7c84-449b-ecdf-90bf9f012a6d"
      },
      "execution_count": 19,
      "outputs": [
        {
          "output_type": "stream",
          "name": "stdout",
          "text": [
            "Train AUROC (best tree): 0.9015\n",
            "Validation AUROC (best tree): 0.9002\n"
          ]
        }
      ]
    },
    {
      "cell_type": "markdown",
      "source": [
        "GridSearchCV (5.97 с) знайшов оптимальні параметри max_depth=5, max_leaf_nodes=10. Модель показала Train AUROC ~0.90, Validation AUROC =0.90, що свідчить про високу якість та хорошу узагальнюваність. Якість трохи нижча за вручну підібрану модель (=0.92), але результат все ще дуже хороший."
      ],
      "metadata": {
        "id": "Ub7kWxTCk3to"
      }
    },
    {
      "cell_type": "markdown",
      "source": [
        "4. Виконайте пошук оптимальних гіперпараметрів для `DecisionTreeClassifier` з `RandomizedSearchCV` за заданою сіткою параметрів і кількість ітерацій 40.\n",
        "\n",
        "  Поставте кросвалідацію на 3 фолди, `scoring='roc_auc'`, зафіксуйте `random_seed` процедури крос валідації та виміряйте, скільки часу потребує пошук оптимальних гіперпараметрів.\n",
        "\n",
        "  Після успішного завершення пошуку оптимальних гіперпараметрів\n",
        "    - виведіть найкращі значення параметра\n",
        "    - збережіть в окрему змінну `dt_random_search_best` найкращу модель, знайдену з `RandomizedSearchCV`\n",
        "    - оцініть якість передбачень  `dt_random_search_best` на тренувальній і валідаційній вибірці з допомогою AUROC.\n",
        "    - зробіть висновок про якість моделі. Чи ця модель краща за ту, що ви знайшли з `GridSearch`?\n",
        "    - проаналізуйте параметри `dt_random_search_best` і порівняйте з параметрами `dt_best` - яку бачите відмінність? Ця вправа потрібна аби зрозуміти, як різні налаштування `DecisionTreeClassifier` впливають на якість моделі."
      ],
      "metadata": {
        "id": "nCnkGD_sEW1i"
      }
    },
    {
      "cell_type": "code",
      "source": [
        "from sklearn.tree import DecisionTreeClassifier\n",
        "from sklearn.model_selection import RandomizedSearchCV\n",
        "from sklearn.metrics import roc_auc_score\n",
        "import numpy as np\n",
        "import time"
      ],
      "metadata": {
        "id": "lZSqzQH4lO9J"
      },
      "execution_count": 20,
      "outputs": []
    },
    {
      "cell_type": "code",
      "source": [
        "params_dt = {\n",
        "    'criterion': ['gini', 'entropy'],\n",
        "    'splitter': ['best', 'random'],\n",
        "    'max_depth': np.arange(1, 20),\n",
        "    'max_leaf_nodes': np.arange(2, 20),\n",
        "    'min_samples_split': [2, 5, 10, 20],\n",
        "    'min_samples_leaf': [1, 2, 4, 8],\n",
        "    'max_features': [None, 'sqrt', 'log2']\n",
        "}"
      ],
      "metadata": {
        "id": "665uQ3NdIG0s"
      },
      "execution_count": 21,
      "outputs": []
    },
    {
      "cell_type": "code",
      "source": [
        "dtree = DecisionTreeClassifier(random_state=42)"
      ],
      "metadata": {
        "id": "MyHVD-R0IXqv"
      },
      "execution_count": 22,
      "outputs": []
    },
    {
      "cell_type": "code",
      "source": [
        "random_search = RandomizedSearchCV(\n",
        "    estimator=dtree,\n",
        "    param_distributions=params_dt,\n",
        "    n_iter=40,\n",
        "    cv=3,\n",
        "    scoring='roc_auc',\n",
        "    n_jobs=-1,\n",
        "    random_state=42\n",
        ")"
      ],
      "metadata": {
        "id": "3EiCoXx2lWjU"
      },
      "execution_count": 23,
      "outputs": []
    },
    {
      "cell_type": "code",
      "source": [
        "start_time = time.time()\n",
        "random_search.fit(X_train, train_targets)\n",
        "end_time = time.time()\n",
        "\n",
        "print(f\"Час пошуку (сек): {end_time - start_time:.2f}\")"
      ],
      "metadata": {
        "colab": {
          "base_uri": "https://localhost:8080/"
        },
        "id": "nFWf8bTSlYOU",
        "outputId": "2b1d4bc8-97d5-4c4a-95db-202d2bf9975c"
      },
      "execution_count": 24,
      "outputs": [
        {
          "output_type": "stream",
          "name": "stdout",
          "text": [
            "Час пошуку (сек): 1.65\n"
          ]
        }
      ]
    },
    {
      "cell_type": "code",
      "source": [
        "print(\"Найкращі параметри:\", random_search.best_params_)"
      ],
      "metadata": {
        "colab": {
          "base_uri": "https://localhost:8080/"
        },
        "id": "g1hCAd95lb6j",
        "outputId": "0ee24d9b-7293-4592-d5e4-f1ce5ff2b0c9"
      },
      "execution_count": 25,
      "outputs": [
        {
          "output_type": "stream",
          "name": "stdout",
          "text": [
            "Найкращі параметри: {'splitter': 'best', 'min_samples_split': 20, 'min_samples_leaf': 2, 'max_leaf_nodes': np.int64(14), 'max_features': None, 'max_depth': np.int64(16), 'criterion': 'entropy'}\n"
          ]
        }
      ]
    },
    {
      "cell_type": "code",
      "source": [
        "dt_random_search_best = random_search.best_estimator_"
      ],
      "metadata": {
        "id": "4K5MfTbelfRY"
      },
      "execution_count": 26,
      "outputs": []
    },
    {
      "cell_type": "code",
      "source": [
        "train_probs = dt_random_search_best.predict_proba(X_train)[:, 1]\n",
        "val_probs = dt_random_search_best.predict_proba(X_val)[:, 1]\n",
        "\n",
        "train_auc = roc_auc_score(train_targets, train_probs)\n",
        "val_auc = roc_auc_score(val_targets, val_probs)\n",
        "\n",
        "print(f\"Train AUROC (best random search tree): {train_auc:.4f}\")\n",
        "print(f\"Validation AUROC (best random search tree): {val_auc:.4f}\")"
      ],
      "metadata": {
        "colab": {
          "base_uri": "https://localhost:8080/"
        },
        "id": "6u5eQo-7liov",
        "outputId": "c2d5e4cd-8537-42c2-ed76-2ad914e644a7"
      },
      "execution_count": 27,
      "outputs": [
        {
          "output_type": "stream",
          "name": "stdout",
          "text": [
            "Train AUROC (best random search tree): 0.9169\n",
            "Validation AUROC (best random search tree): 0.9166\n"
          ]
        }
      ]
    },
    {
      "cell_type": "markdown",
      "source": [
        "RandomizedSearchCV дав Train AUROC ≈ 0.9169 та Validation AUROC ≈ 0.9166, що значно краще за GridSearchCV (~0.90). Це свідчить про кращу модель із ширшого простору параметрів і дає мені надію на кращий результат у змаганнях =)"
      ],
      "metadata": {
        "id": "72DzadKwlyJv"
      }
    },
    {
      "cell_type": "markdown",
      "source": [
        "5. Якщо у Вас вийшла метрика `AUROC` в цій серії експериментів - зробіть ще один `submission` на Kaggle і додайте код для цього і скріншот скора на публічному лідерборді нижче.\n",
        "\n",
        "  Сподіваюсь на цьому етапі ви вже відчули себе справжнім дослідником 😉"
      ],
      "metadata": {
        "id": "XArADR2CG8VK"
      }
    },
    {
      "cell_type": "code",
      "source": [
        "print(dt_random_search_best)"
      ],
      "metadata": {
        "colab": {
          "base_uri": "https://localhost:8080/"
        },
        "id": "tkq8aruppAnB",
        "outputId": "d9cb175e-583d-4ef5-b17c-cc1f0d32f256"
      },
      "execution_count": 39,
      "outputs": [
        {
          "output_type": "stream",
          "name": "stdout",
          "text": [
            "DecisionTreeClassifier(criterion='entropy', max_depth=np.int64(16),\n",
            "                       max_leaf_nodes=np.int64(14), min_samples_leaf=2,\n",
            "                       min_samples_split=20, random_state=42)\n"
          ]
        }
      ]
    },
    {
      "cell_type": "code",
      "source": [
        "print(preprocessed_test.shape)\n",
        "print(preprocessed_test.head())"
      ],
      "metadata": {
        "colab": {
          "base_uri": "https://localhost:8080/"
        },
        "id": "rDGt8M8GpEye",
        "outputId": "b8fd489d-7c82-4342-e273-bea5edaa4a1c"
      },
      "execution_count": 40,
      "outputs": [
        {
          "output_type": "stream",
          "name": "stdout",
          "text": [
            "(10000, 14)\n",
            "   CustomerId  CreditScore   Age  Tenure    Balance  NumOfProducts  HasCrCard  \\\n",
            "0  15594796.0        584.0  30.0     2.0  146053.66            1.0        1.0   \n",
            "1  15642821.0        551.0  39.0     5.0       0.00            2.0        1.0   \n",
            "2  15716284.0        706.0  43.0     8.0       0.00            2.0        1.0   \n",
            "3  15785078.0        717.0  45.0     3.0       0.00            1.0        1.0   \n",
            "4  15662955.0        592.0  43.0     8.0       0.00            2.0        1.0   \n",
            "\n",
            "   IsActiveMember  EstimatedSalary  Geography_France  Geography_Germany  \\\n",
            "0             1.0        157891.86               0.0                1.0   \n",
            "1             1.0         67431.28               1.0                0.0   \n",
            "2             0.0        156768.45               1.0                0.0   \n",
            "3             1.0        166909.87               0.0                0.0   \n",
            "4             1.0        143681.97               0.0                0.0   \n",
            "\n",
            "   Geography_Spain  Gender_Female  Gender_Male  \n",
            "0              0.0            0.0          1.0  \n",
            "1              0.0            0.0          1.0  \n",
            "2              0.0            0.0          1.0  \n",
            "3              1.0            0.0          1.0  \n",
            "4              1.0            0.0          1.0  \n"
          ]
        }
      ]
    },
    {
      "cell_type": "code",
      "source": [
        "proba_predictions = dt_random_search_best.predict_proba(preprocessed_test)[:, 1]\n",
        "print(proba_predictions[:10])\n",
        "print(proba_predictions.min(), proba_predictions.max())"
      ],
      "metadata": {
        "colab": {
          "base_uri": "https://localhost:8080/"
        },
        "id": "CWvR0Al0pKTW",
        "outputId": "cadc62ae-81ff-4d97-baca-4849c9081a78"
      },
      "execution_count": 41,
      "outputs": [
        {
          "output_type": "stream",
          "name": "stdout",
          "text": [
            "[0.23791103 0.01211499 0.20394737 0.56984786 0.08217054 0.18763797\n",
            " 0.01211499 0.01211499 0.05948553 0.01211499]\n",
            "0.012114989733059548 1.0\n"
          ]
        }
      ]
    },
    {
      "cell_type": "code",
      "source": [
        "proba_predictions = dt_random_search_best.predict_proba(preprocessed_test)[:, 1]\n",
        "\n",
        "submission['Exited'] = proba_predictions\n",
        "\n",
        "print(submission.head())\n",
        "\n",
        "submission.to_csv('submission_decision_tree_RandomizedSearchCV.csv', index=False)"
      ],
      "metadata": {
        "colab": {
          "base_uri": "https://localhost:8080/"
        },
        "id": "wtr9vOf9pcVx",
        "outputId": "b8d32917-c693-4b99-f0ac-f8533ccf9020"
      },
      "execution_count": 46,
      "outputs": [
        {
          "output_type": "stream",
          "name": "stdout",
          "text": [
            "      id    Exited\n",
            "0  15000  0.237911\n",
            "1  15001  0.012115\n",
            "2  15002  0.203947\n",
            "3  15003  0.569848\n",
            "4  15004  0.082171\n"
          ]
        }
      ]
    },
    {
      "cell_type": "code",
      "source": [
        "from google.colab import files\n",
        "files.download('submission_decision_tree_RandomizedSearchCV.csv')"
      ],
      "metadata": {
        "colab": {
          "base_uri": "https://localhost:8080/",
          "height": 38
        },
        "id": "xXk7_c4umQpf",
        "outputId": "8d8bef23-1bd6-4867-b216-1a2d328dc4da"
      },
      "execution_count": 47,
      "outputs": [
        {
          "output_type": "display_data",
          "data": {
            "text/plain": [
              "<IPython.core.display.Javascript object>"
            ],
            "application/javascript": [
              "\n",
              "    async function download(id, filename, size) {\n",
              "      if (!google.colab.kernel.accessAllowed) {\n",
              "        return;\n",
              "      }\n",
              "      const div = document.createElement('div');\n",
              "      const label = document.createElement('label');\n",
              "      label.textContent = `Downloading \"${filename}\": `;\n",
              "      div.appendChild(label);\n",
              "      const progress = document.createElement('progress');\n",
              "      progress.max = size;\n",
              "      div.appendChild(progress);\n",
              "      document.body.appendChild(div);\n",
              "\n",
              "      const buffers = [];\n",
              "      let downloaded = 0;\n",
              "\n",
              "      const channel = await google.colab.kernel.comms.open(id);\n",
              "      // Send a message to notify the kernel that we're ready.\n",
              "      channel.send({})\n",
              "\n",
              "      for await (const message of channel.messages) {\n",
              "        // Send a message to notify the kernel that we're ready.\n",
              "        channel.send({})\n",
              "        if (message.buffers) {\n",
              "          for (const buffer of message.buffers) {\n",
              "            buffers.push(buffer);\n",
              "            downloaded += buffer.byteLength;\n",
              "            progress.value = downloaded;\n",
              "          }\n",
              "        }\n",
              "      }\n",
              "      const blob = new Blob(buffers, {type: 'application/binary'});\n",
              "      const a = document.createElement('a');\n",
              "      a.href = window.URL.createObjectURL(blob);\n",
              "      a.download = filename;\n",
              "      div.appendChild(a);\n",
              "      a.click();\n",
              "      div.remove();\n",
              "    }\n",
              "  "
            ]
          },
          "metadata": {}
        },
        {
          "output_type": "display_data",
          "data": {
            "text/plain": [
              "<IPython.core.display.Javascript object>"
            ],
            "application/javascript": [
              "download(\"download_f3441810-24c7-4850-8ef4-7f7b265c6637\", \"submission_decision_tree_RandomizedSearchCV.csv\", 259891)"
            ]
          },
          "metadata": {}
        }
      ]
    },
    {
      "cell_type": "markdown",
      "source": [
        "![image.png](data:image/png;base64,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)"
      ],
      "metadata": {
        "id": "eI5-9d_hqiSm"
      }
    }
  ]
}